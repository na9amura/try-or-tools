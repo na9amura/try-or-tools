{
 "cells": [
  {
   "cell_type": "code",
   "execution_count": 2,
   "outputs": [],
   "source": [
    "import numpy as np\n",
    "import pandas as pd\n",
    "df = pd.read_csv('./data.csv')"
   ],
   "metadata": {
    "collapsed": false,
    "pycharm": {
     "name": "#%%\n"
    }
   }
  },
  {
   "cell_type": "code",
   "execution_count": 3,
   "outputs": [
    {
     "name": "stdout",
     "output_type": "stream",
     "text": [
      "- ID -------------------------\n",
      "1     1\n",
      "2     1\n",
      "21    1\n",
      "20    1\n",
      "19    1\n",
      "18    1\n",
      "17    1\n",
      "16    1\n",
      "15    1\n",
      "14    1\n",
      "13    1\n",
      "12    1\n",
      "11    1\n",
      "10    1\n",
      "9     1\n",
      "8     1\n",
      "7     1\n",
      "6     1\n",
      "5     1\n",
      "4     1\n",
      "3     1\n",
      "22    1\n",
      "Name: ID, dtype: int64\n",
      "- name -------------------------\n",
      "Alice        1\n",
      "Bob          1\n",
      "Valentino    1\n",
      "Urine        1\n",
      "Tate         1\n",
      "Stewart      1\n",
      "Ralf         1\n",
      "Paton        1\n",
      "ONeill       1\n",
      "Nathan       1\n",
      "Marries      1\n",
      "Louis        1\n",
      "Kate         1\n",
      "Jamie        1\n",
      "Iris         1\n",
      "Helen        1\n",
      "Gordon       1\n",
      "Fouler       1\n",
      "Eli          1\n",
      "Derrick      1\n",
      "Charles      1\n",
      "Warner       1\n",
      "Name: name, dtype: int64\n",
      "- SwE -------------------------\n",
      "1    13\n",
      "0     9\n",
      "Name: SwE, dtype: int64\n",
      "- PdM -------------------------\n",
      "0    19\n",
      "1     3\n",
      "Name: PdM, dtype: int64\n",
      "- Biz -------------------------\n",
      "0    19\n",
      "1     3\n",
      "Name: Biz, dtype: int64\n",
      "- CS -------------------------\n",
      "0    19\n",
      "1     3\n",
      "Name: CS, dtype: int64\n"
     ]
    }
   ],
   "source": [
    "for name in df.columns:\n",
    "    print(f'- {name} -------------------------')\n",
    "    print(df[name].value_counts())"
   ],
   "metadata": {
    "collapsed": false,
    "pycharm": {
     "name": "#%%\n"
    }
   }
  },
  {
   "cell_type": "code",
   "execution_count": 4,
   "outputs": [
    {
     "data": {
      "text/plain": "22"
     },
     "execution_count": 4,
     "metadata": {},
     "output_type": "execute_result"
    }
   ],
   "source": [
    "len_members = len(df)\n",
    "len_members"
   ],
   "metadata": {
    "collapsed": false,
    "pycharm": {
     "name": "#%%\n"
    }
   }
  },
  {
   "cell_type": "code",
   "execution_count": 5,
   "outputs": [
    {
     "data": {
      "text/plain": "7"
     },
     "execution_count": 5,
     "metadata": {},
     "output_type": "execute_result"
    }
   ],
   "source": [
    "len_groups = int(len_members / 3)\n",
    "len_groups"
   ],
   "metadata": {
    "collapsed": false,
    "pycharm": {
     "name": "#%%\n"
    }
   }
  },
  {
   "cell_type": "markdown",
   "source": [
    "## Requirements\n",
    "- Members must be assigned to one group\n",
    "- Group members must be 3 to 4\n",
    "- Max members of SwE must be 2"
   ],
   "metadata": {
    "collapsed": false,
    "pycharm": {
     "name": "#%% md\n"
    }
   }
  },
  {
   "cell_type": "code",
   "execution_count": 53,
   "outputs": [],
   "source": [
    "import pulp\n",
    "problem = pulp.LpProblem(\"Group\", pulp.LpMaximize)"
   ],
   "metadata": {
    "collapsed": false,
    "pycharm": {
     "name": "#%%\n"
    }
   }
  },
  {
   "cell_type": "code",
   "execution_count": 54,
   "outputs": [],
   "source": [
    "## Variables"
   ],
   "metadata": {
    "collapsed": false,
    "pycharm": {
     "name": "#%%\n"
    }
   }
  },
  {
   "cell_type": "code",
   "execution_count": 55,
   "outputs": [
    {
     "data": {
      "text/plain": "['A', 'B', 'C', 'D', 'E', 'F', 'G']"
     },
     "execution_count": 55,
     "metadata": {},
     "output_type": "execute_result"
    }
   ],
   "source": [
    "import string\n",
    "G = list(string.ascii_uppercase[:len_groups])\n",
    "G"
   ],
   "metadata": {
    "collapsed": false,
    "pycharm": {
     "name": "#%%\n"
    }
   }
  },
  {
   "cell_type": "code",
   "execution_count": 56,
   "outputs": [
    {
     "data": {
      "text/plain": "[1, 2, 3, 4, 5, 6, 7, 8, 9, 10, 11, 12, 13, 14, 15, 16, 17, 18, 19, 20, 21, 22]"
     },
     "execution_count": 56,
     "metadata": {},
     "output_type": "execute_result"
    }
   ],
   "source": [
    "M = df['ID'].tolist()\n",
    "M"
   ],
   "metadata": {
    "collapsed": false,
    "pycharm": {
     "name": "#%%\n"
    }
   }
  },
  {
   "cell_type": "code",
   "execution_count": 57,
   "outputs": [
    {
     "data": {
      "text/plain": "0       (1, A)\n1       (1, B)\n2       (1, C)\n3       (1, D)\n4       (1, E)\n        ...   \n149    (22, C)\n150    (22, D)\n151    (22, E)\n152    (22, F)\n153    (22, G)\nLength: 154, dtype: object"
     },
     "execution_count": 57,
     "metadata": {},
     "output_type": "execute_result"
    }
   ],
   "source": [
    "MG = [(m,g) for m in M for g in G]\n",
    "pd.Series(MG)"
   ],
   "metadata": {
    "collapsed": false,
    "pycharm": {
     "name": "#%%\n"
    }
   }
  },
  {
   "cell_type": "code",
   "execution_count": 58,
   "outputs": [],
   "source": [
    "X = pulp.LpVariable.dicts('X', MG, cat=pulp.LpBinary)"
   ],
   "metadata": {
    "collapsed": false,
    "pycharm": {
     "name": "#%%\n"
    }
   }
  },
  {
   "cell_type": "markdown",
   "source": [
    "## Constraints"
   ],
   "metadata": {
    "collapsed": false,
    "pycharm": {
     "name": "#%% md\n"
    }
   }
  },
  {
   "cell_type": "code",
   "source": [
    "# Members must be assigned to one group\n",
    "for m in M:\n",
    "    problem += pulp.lpSum(X[m,g] for g in G) == 1"
   ],
   "metadata": {
    "collapsed": false,
    "pycharm": {
     "name": "#%%\n"
    }
   },
   "execution_count": 59,
   "outputs": []
  },
  {
   "cell_type": "code",
   "execution_count": 60,
   "outputs": [],
   "source": [
    "# Group members must be 3 to 4\n",
    "for g in G:\n",
    "    problem += pulp.lpSum(X[m,g] for m in M) >= 3\n",
    "    problem += pulp.lpSum(X[m,g] for m in M) <= 4"
   ],
   "metadata": {
    "collapsed": false,
    "pycharm": {
     "name": "#%%\n"
    }
   }
  },
  {
   "cell_type": "code",
   "execution_count": 61,
   "outputs": [
    {
     "data": {
      "text/plain": "[1, 2, 3, 4, 6, 7, 9, 12, 15, 16, 18, 19, 21]"
     },
     "execution_count": 61,
     "metadata": {},
     "output_type": "execute_result"
    }
   ],
   "source": [
    "# Max members of SwE must be 2\n",
    "M_swe = df[df['SwE'] == 1]['ID'].tolist()\n",
    "M_swe"
   ],
   "metadata": {
    "collapsed": false,
    "pycharm": {
     "name": "#%%\n"
    }
   }
  },
  {
   "cell_type": "code",
   "execution_count": 62,
   "outputs": [],
   "source": [
    "for g in G:\n",
    "    problem += pulp.lpSum(X[m,g] for m in M_swe) <= 2"
   ],
   "metadata": {
    "collapsed": false,
    "pycharm": {
     "name": "#%%\n"
    }
   }
  },
  {
   "cell_type": "code",
   "execution_count": 63,
   "outputs": [
    {
     "name": "stdout",
     "output_type": "stream",
     "text": [
      "Welcome to the CBC MILP Solver \n",
      "Version: 2.10.3 \n",
      "Build Date: Dec 15 2019 \n",
      "\n",
      "command line - /Users/ta.nakamura/src/github.com/na9amura/try-or-tools/venv/lib/python3.9/site-packages/pulp/apis/../solverdir/cbc/osx/64/cbc /var/folders/y3/x37rtt0s6fn4r9r7__s24rzc0000gp/T/70f10899d39544128c5567399b413df6-pulp.mps max timeMode elapsed branch printingOptions all solution /var/folders/y3/x37rtt0s6fn4r9r7__s24rzc0000gp/T/70f10899d39544128c5567399b413df6-pulp.sol (default strategy 1)\n",
      "At line 2 NAME          MODEL\n",
      "At line 3 ROWS\n",
      "At line 48 COLUMNS\n",
      "At line 911 RHS\n",
      "At line 955 BOUNDS\n",
      "At line 1111 ENDATA\n",
      "Problem MODEL has 43 rows, 155 columns and 553 elements\n",
      "Coin0008I MODEL read with 0 errors\n",
      "Option for timeMode changed from cpu to elapsed\n",
      "Continuous objective value is 0 - 0.00 seconds\n",
      "Cgl0005I 22 SOS with 154 members\n",
      "Cgl0004I processed model has 36 rows, 154 columns (154 integer (154 of which binary)) and 399 elements\n",
      "Cbc0038I Initial state - 0 integers unsatisfied sum - 0\n",
      "Cbc0038I Solution found of 0\n",
      "Cbc0038I Before mini branch and bound, 154 integers at bound fixed and 0 continuous\n",
      "Cbc0038I Mini branch and bound did not improve solution (0.01 seconds)\n",
      "Cbc0038I After 0.01 seconds - Feasibility pump exiting with objective of 0 - took 0.00 seconds\n",
      "Cbc0012I Integer solution of 0 found by feasibility pump after 0 iterations and 0 nodes (0.01 seconds)\n",
      "Cbc0001I Search completed - best objective 0, took 0 iterations and 0 nodes (0.01 seconds)\n",
      "Cbc0035I Maximum depth 0, 0 variables fixed on reduced cost\n",
      "Cuts at root node changed objective from 0 to 0\n",
      "Probing was tried 0 times and created 0 cuts of which 0 were active after adding rounds of cuts (0.000 seconds)\n",
      "Gomory was tried 0 times and created 0 cuts of which 0 were active after adding rounds of cuts (0.000 seconds)\n",
      "Knapsack was tried 0 times and created 0 cuts of which 0 were active after adding rounds of cuts (0.000 seconds)\n",
      "Clique was tried 0 times and created 0 cuts of which 0 were active after adding rounds of cuts (0.000 seconds)\n",
      "MixedIntegerRounding2 was tried 0 times and created 0 cuts of which 0 were active after adding rounds of cuts (0.000 seconds)\n",
      "FlowCover was tried 0 times and created 0 cuts of which 0 were active after adding rounds of cuts (0.000 seconds)\n",
      "TwoMirCuts was tried 0 times and created 0 cuts of which 0 were active after adding rounds of cuts (0.000 seconds)\n",
      "ZeroHalf was tried 0 times and created 0 cuts of which 0 were active after adding rounds of cuts (0.000 seconds)\n",
      "\n",
      "Result - Optimal solution found\n",
      "\n",
      "Objective value:                -0.00000000\n",
      "Enumerated nodes:               0\n",
      "Total iterations:               0\n",
      "Time (CPU seconds):             0.01\n",
      "Time (Wallclock seconds):       0.01\n",
      "\n",
      "Option for printingOptions changed from normal to all\n",
      "Total time (CPU seconds):       0.01   (Wallclock seconds):       0.01\n",
      "\n",
      "Optimal\n"
     ]
    }
   ],
   "source": [
    "status = problem.solve()\n",
    "print(pulp.LpStatus[status])"
   ],
   "metadata": {
    "collapsed": false,
    "pycharm": {
     "name": "#%%\n"
    }
   }
  },
  {
   "cell_type": "code",
   "execution_count": 67,
   "outputs": [
    {
     "name": "stdout",
     "output_type": "stream",
     "text": [
      "- Group: A --------------\n",
      "0.0\n",
      "0.0\n",
      "0.0\n",
      "0.0\n",
      "1.0\n",
      "0.0\n",
      "1.0\n",
      "1.0\n",
      "1.0\n",
      "0.0\n",
      "0.0\n",
      "0.0\n",
      "0.0\n",
      "0.0\n",
      "0.0\n",
      "0.0\n",
      "0.0\n",
      "0.0\n",
      "0.0\n",
      "0.0\n",
      "0.0\n",
      "0.0\n",
      "- Group: B --------------\n",
      "0.0\n",
      "0.0\n",
      "0.0\n",
      "1.0\n",
      "0.0\n",
      "1.0\n",
      "0.0\n",
      "0.0\n",
      "0.0\n",
      "0.0\n",
      "0.0\n",
      "0.0\n",
      "0.0\n",
      "0.0\n",
      "0.0\n",
      "0.0\n",
      "0.0\n",
      "0.0\n",
      "0.0\n",
      "0.0\n",
      "0.0\n",
      "1.0\n",
      "- Group: C --------------\n",
      "0.0\n",
      "0.0\n",
      "1.0\n",
      "0.0\n",
      "0.0\n",
      "0.0\n",
      "0.0\n",
      "0.0\n",
      "0.0\n",
      "0.0\n",
      "0.0\n",
      "0.0\n",
      "1.0\n",
      "0.0\n",
      "0.0\n",
      "0.0\n",
      "0.0\n",
      "0.0\n",
      "0.0\n",
      "0.0\n",
      "1.0\n",
      "0.0\n",
      "- Group: D --------------\n",
      "0.0\n",
      "1.0\n",
      "0.0\n",
      "0.0\n",
      "0.0\n",
      "0.0\n",
      "0.0\n",
      "0.0\n",
      "0.0\n",
      "0.0\n",
      "0.0\n",
      "0.0\n",
      "0.0\n",
      "0.0\n",
      "0.0\n",
      "0.0\n",
      "0.0\n",
      "0.0\n",
      "1.0\n",
      "1.0\n",
      "0.0\n",
      "0.0\n",
      "- Group: E --------------\n",
      "0.0\n",
      "0.0\n",
      "0.0\n",
      "0.0\n",
      "0.0\n",
      "0.0\n",
      "0.0\n",
      "0.0\n",
      "0.0\n",
      "0.0\n",
      "0.0\n",
      "0.0\n",
      "0.0\n",
      "1.0\n",
      "1.0\n",
      "0.0\n",
      "0.0\n",
      "1.0\n",
      "0.0\n",
      "0.0\n",
      "0.0\n",
      "0.0\n",
      "- Group: F --------------\n",
      "0.0\n",
      "0.0\n",
      "0.0\n",
      "0.0\n",
      "0.0\n",
      "0.0\n",
      "0.0\n",
      "0.0\n",
      "0.0\n",
      "0.0\n",
      "0.0\n",
      "1.0\n",
      "0.0\n",
      "0.0\n",
      "0.0\n",
      "1.0\n",
      "1.0\n",
      "0.0\n",
      "0.0\n",
      "0.0\n",
      "0.0\n",
      "0.0\n",
      "- Group: G --------------\n",
      "1.0\n",
      "0.0\n",
      "0.0\n",
      "0.0\n",
      "0.0\n",
      "0.0\n",
      "0.0\n",
      "0.0\n",
      "0.0\n",
      "1.0\n",
      "1.0\n",
      "0.0\n",
      "0.0\n",
      "0.0\n",
      "0.0\n",
      "0.0\n",
      "0.0\n",
      "0.0\n",
      "0.0\n",
      "0.0\n",
      "0.0\n",
      "0.0\n"
     ]
    }
   ],
   "source": [
    "for g in G:\n",
    "    print(f'- Group: {g} --------------')\n",
    "    for m in M:\n",
    "        print(X[m,g].value())"
   ],
   "metadata": {
    "collapsed": false,
    "pycharm": {
     "name": "#%%\n"
    }
   }
  },
  {
   "cell_type": "code",
   "execution_count": 68,
   "outputs": [],
   "source": [
    "result_df = df.copy()"
   ],
   "metadata": {
    "collapsed": false,
    "pycharm": {
     "name": "#%%\n"
    }
   }
  },
  {
   "cell_type": "code",
   "execution_count": 69,
   "outputs": [],
   "source": [
    "result_df['group'] = result_df['ID'].map({ m:g for m in M for g in G if X[m,g].value() == 1})"
   ],
   "metadata": {
    "collapsed": false,
    "pycharm": {
     "name": "#%%\n"
    }
   }
  },
  {
   "cell_type": "code",
   "execution_count": 70,
   "outputs": [
    {
     "data": {
      "text/plain": "    ID       name  SwE  PdM  Biz  CS group\n0    1      Alice    1    0    0   0     G\n1    2        Bob    1    0    0   0     D\n2    3    Charles    1    0    0   0     C\n3    4    Derrick    1    0    0   0     B\n4    5        Eli    0    0    0   1     A\n5    6     Fouler    1    0    0   0     B\n6    7     Gordon    1    0    0   0     A\n7    8      Helen    0    0    1   0     A\n8    9       Iris    1    0    0   0     A\n9   10      Jamie    0    1    0   0     G\n10  11       Kate    0    0    1   0     G\n11  12      Louis    1    0    0   0     F\n12  13    Marries    0    0    0   1     C\n13  14     Nathan    0    0    0   1     E\n14  15     ONeill    1    0    0   0     E\n15  16      Paton    1    0    0   0     F\n16  17       Ralf    0    1    0   0     F\n17  18    Stewart    1    0    0   0     E\n18  19       Tate    1    0    0   0     D\n19  20      Urine    0    1    0   0     D\n20  21  Valentino    1    0    0   0     C\n21  22     Warner    0    0    1   0     B",
      "text/html": "<div>\n<style scoped>\n    .dataframe tbody tr th:only-of-type {\n        vertical-align: middle;\n    }\n\n    .dataframe tbody tr th {\n        vertical-align: top;\n    }\n\n    .dataframe thead th {\n        text-align: right;\n    }\n</style>\n<table border=\"1\" class=\"dataframe\">\n  <thead>\n    <tr style=\"text-align: right;\">\n      <th></th>\n      <th>ID</th>\n      <th>name</th>\n      <th>SwE</th>\n      <th>PdM</th>\n      <th>Biz</th>\n      <th>CS</th>\n      <th>group</th>\n    </tr>\n  </thead>\n  <tbody>\n    <tr>\n      <th>0</th>\n      <td>1</td>\n      <td>Alice</td>\n      <td>1</td>\n      <td>0</td>\n      <td>0</td>\n      <td>0</td>\n      <td>G</td>\n    </tr>\n    <tr>\n      <th>1</th>\n      <td>2</td>\n      <td>Bob</td>\n      <td>1</td>\n      <td>0</td>\n      <td>0</td>\n      <td>0</td>\n      <td>D</td>\n    </tr>\n    <tr>\n      <th>2</th>\n      <td>3</td>\n      <td>Charles</td>\n      <td>1</td>\n      <td>0</td>\n      <td>0</td>\n      <td>0</td>\n      <td>C</td>\n    </tr>\n    <tr>\n      <th>3</th>\n      <td>4</td>\n      <td>Derrick</td>\n      <td>1</td>\n      <td>0</td>\n      <td>0</td>\n      <td>0</td>\n      <td>B</td>\n    </tr>\n    <tr>\n      <th>4</th>\n      <td>5</td>\n      <td>Eli</td>\n      <td>0</td>\n      <td>0</td>\n      <td>0</td>\n      <td>1</td>\n      <td>A</td>\n    </tr>\n    <tr>\n      <th>5</th>\n      <td>6</td>\n      <td>Fouler</td>\n      <td>1</td>\n      <td>0</td>\n      <td>0</td>\n      <td>0</td>\n      <td>B</td>\n    </tr>\n    <tr>\n      <th>6</th>\n      <td>7</td>\n      <td>Gordon</td>\n      <td>1</td>\n      <td>0</td>\n      <td>0</td>\n      <td>0</td>\n      <td>A</td>\n    </tr>\n    <tr>\n      <th>7</th>\n      <td>8</td>\n      <td>Helen</td>\n      <td>0</td>\n      <td>0</td>\n      <td>1</td>\n      <td>0</td>\n      <td>A</td>\n    </tr>\n    <tr>\n      <th>8</th>\n      <td>9</td>\n      <td>Iris</td>\n      <td>1</td>\n      <td>0</td>\n      <td>0</td>\n      <td>0</td>\n      <td>A</td>\n    </tr>\n    <tr>\n      <th>9</th>\n      <td>10</td>\n      <td>Jamie</td>\n      <td>0</td>\n      <td>1</td>\n      <td>0</td>\n      <td>0</td>\n      <td>G</td>\n    </tr>\n    <tr>\n      <th>10</th>\n      <td>11</td>\n      <td>Kate</td>\n      <td>0</td>\n      <td>0</td>\n      <td>1</td>\n      <td>0</td>\n      <td>G</td>\n    </tr>\n    <tr>\n      <th>11</th>\n      <td>12</td>\n      <td>Louis</td>\n      <td>1</td>\n      <td>0</td>\n      <td>0</td>\n      <td>0</td>\n      <td>F</td>\n    </tr>\n    <tr>\n      <th>12</th>\n      <td>13</td>\n      <td>Marries</td>\n      <td>0</td>\n      <td>0</td>\n      <td>0</td>\n      <td>1</td>\n      <td>C</td>\n    </tr>\n    <tr>\n      <th>13</th>\n      <td>14</td>\n      <td>Nathan</td>\n      <td>0</td>\n      <td>0</td>\n      <td>0</td>\n      <td>1</td>\n      <td>E</td>\n    </tr>\n    <tr>\n      <th>14</th>\n      <td>15</td>\n      <td>ONeill</td>\n      <td>1</td>\n      <td>0</td>\n      <td>0</td>\n      <td>0</td>\n      <td>E</td>\n    </tr>\n    <tr>\n      <th>15</th>\n      <td>16</td>\n      <td>Paton</td>\n      <td>1</td>\n      <td>0</td>\n      <td>0</td>\n      <td>0</td>\n      <td>F</td>\n    </tr>\n    <tr>\n      <th>16</th>\n      <td>17</td>\n      <td>Ralf</td>\n      <td>0</td>\n      <td>1</td>\n      <td>0</td>\n      <td>0</td>\n      <td>F</td>\n    </tr>\n    <tr>\n      <th>17</th>\n      <td>18</td>\n      <td>Stewart</td>\n      <td>1</td>\n      <td>0</td>\n      <td>0</td>\n      <td>0</td>\n      <td>E</td>\n    </tr>\n    <tr>\n      <th>18</th>\n      <td>19</td>\n      <td>Tate</td>\n      <td>1</td>\n      <td>0</td>\n      <td>0</td>\n      <td>0</td>\n      <td>D</td>\n    </tr>\n    <tr>\n      <th>19</th>\n      <td>20</td>\n      <td>Urine</td>\n      <td>0</td>\n      <td>1</td>\n      <td>0</td>\n      <td>0</td>\n      <td>D</td>\n    </tr>\n    <tr>\n      <th>20</th>\n      <td>21</td>\n      <td>Valentino</td>\n      <td>1</td>\n      <td>0</td>\n      <td>0</td>\n      <td>0</td>\n      <td>C</td>\n    </tr>\n    <tr>\n      <th>21</th>\n      <td>22</td>\n      <td>Warner</td>\n      <td>0</td>\n      <td>0</td>\n      <td>1</td>\n      <td>0</td>\n      <td>B</td>\n    </tr>\n  </tbody>\n</table>\n</div>"
     },
     "execution_count": 70,
     "metadata": {},
     "output_type": "execute_result"
    }
   ],
   "source": [
    "result_df"
   ],
   "metadata": {
    "collapsed": false,
    "pycharm": {
     "name": "#%%\n"
    }
   }
  },
  {
   "cell_type": "code",
   "execution_count": 71,
   "outputs": [
    {
     "data": {
      "text/plain": "    ID       name  SwE  PdM  Biz  CS group\n4    5        Eli    0    0    0   1     A\n6    7     Gordon    1    0    0   0     A\n7    8      Helen    0    0    1   0     A\n8    9       Iris    1    0    0   0     A\n21  22     Warner    0    0    1   0     B\n3    4    Derrick    1    0    0   0     B\n5    6     Fouler    1    0    0   0     B\n12  13    Marries    0    0    0   1     C\n2    3    Charles    1    0    0   0     C\n20  21  Valentino    1    0    0   0     C\n19  20      Urine    0    1    0   0     D\n1    2        Bob    1    0    0   0     D\n18  19       Tate    1    0    0   0     D\n13  14     Nathan    0    0    0   1     E\n14  15     ONeill    1    0    0   0     E\n17  18    Stewart    1    0    0   0     E\n11  12      Louis    1    0    0   0     F\n15  16      Paton    1    0    0   0     F\n16  17       Ralf    0    1    0   0     F\n0    1      Alice    1    0    0   0     G\n9   10      Jamie    0    1    0   0     G\n10  11       Kate    0    0    1   0     G",
      "text/html": "<div>\n<style scoped>\n    .dataframe tbody tr th:only-of-type {\n        vertical-align: middle;\n    }\n\n    .dataframe tbody tr th {\n        vertical-align: top;\n    }\n\n    .dataframe thead th {\n        text-align: right;\n    }\n</style>\n<table border=\"1\" class=\"dataframe\">\n  <thead>\n    <tr style=\"text-align: right;\">\n      <th></th>\n      <th>ID</th>\n      <th>name</th>\n      <th>SwE</th>\n      <th>PdM</th>\n      <th>Biz</th>\n      <th>CS</th>\n      <th>group</th>\n    </tr>\n  </thead>\n  <tbody>\n    <tr>\n      <th>4</th>\n      <td>5</td>\n      <td>Eli</td>\n      <td>0</td>\n      <td>0</td>\n      <td>0</td>\n      <td>1</td>\n      <td>A</td>\n    </tr>\n    <tr>\n      <th>6</th>\n      <td>7</td>\n      <td>Gordon</td>\n      <td>1</td>\n      <td>0</td>\n      <td>0</td>\n      <td>0</td>\n      <td>A</td>\n    </tr>\n    <tr>\n      <th>7</th>\n      <td>8</td>\n      <td>Helen</td>\n      <td>0</td>\n      <td>0</td>\n      <td>1</td>\n      <td>0</td>\n      <td>A</td>\n    </tr>\n    <tr>\n      <th>8</th>\n      <td>9</td>\n      <td>Iris</td>\n      <td>1</td>\n      <td>0</td>\n      <td>0</td>\n      <td>0</td>\n      <td>A</td>\n    </tr>\n    <tr>\n      <th>21</th>\n      <td>22</td>\n      <td>Warner</td>\n      <td>0</td>\n      <td>0</td>\n      <td>1</td>\n      <td>0</td>\n      <td>B</td>\n    </tr>\n    <tr>\n      <th>3</th>\n      <td>4</td>\n      <td>Derrick</td>\n      <td>1</td>\n      <td>0</td>\n      <td>0</td>\n      <td>0</td>\n      <td>B</td>\n    </tr>\n    <tr>\n      <th>5</th>\n      <td>6</td>\n      <td>Fouler</td>\n      <td>1</td>\n      <td>0</td>\n      <td>0</td>\n      <td>0</td>\n      <td>B</td>\n    </tr>\n    <tr>\n      <th>12</th>\n      <td>13</td>\n      <td>Marries</td>\n      <td>0</td>\n      <td>0</td>\n      <td>0</td>\n      <td>1</td>\n      <td>C</td>\n    </tr>\n    <tr>\n      <th>2</th>\n      <td>3</td>\n      <td>Charles</td>\n      <td>1</td>\n      <td>0</td>\n      <td>0</td>\n      <td>0</td>\n      <td>C</td>\n    </tr>\n    <tr>\n      <th>20</th>\n      <td>21</td>\n      <td>Valentino</td>\n      <td>1</td>\n      <td>0</td>\n      <td>0</td>\n      <td>0</td>\n      <td>C</td>\n    </tr>\n    <tr>\n      <th>19</th>\n      <td>20</td>\n      <td>Urine</td>\n      <td>0</td>\n      <td>1</td>\n      <td>0</td>\n      <td>0</td>\n      <td>D</td>\n    </tr>\n    <tr>\n      <th>1</th>\n      <td>2</td>\n      <td>Bob</td>\n      <td>1</td>\n      <td>0</td>\n      <td>0</td>\n      <td>0</td>\n      <td>D</td>\n    </tr>\n    <tr>\n      <th>18</th>\n      <td>19</td>\n      <td>Tate</td>\n      <td>1</td>\n      <td>0</td>\n      <td>0</td>\n      <td>0</td>\n      <td>D</td>\n    </tr>\n    <tr>\n      <th>13</th>\n      <td>14</td>\n      <td>Nathan</td>\n      <td>0</td>\n      <td>0</td>\n      <td>0</td>\n      <td>1</td>\n      <td>E</td>\n    </tr>\n    <tr>\n      <th>14</th>\n      <td>15</td>\n      <td>ONeill</td>\n      <td>1</td>\n      <td>0</td>\n      <td>0</td>\n      <td>0</td>\n      <td>E</td>\n    </tr>\n    <tr>\n      <th>17</th>\n      <td>18</td>\n      <td>Stewart</td>\n      <td>1</td>\n      <td>0</td>\n      <td>0</td>\n      <td>0</td>\n      <td>E</td>\n    </tr>\n    <tr>\n      <th>11</th>\n      <td>12</td>\n      <td>Louis</td>\n      <td>1</td>\n      <td>0</td>\n      <td>0</td>\n      <td>0</td>\n      <td>F</td>\n    </tr>\n    <tr>\n      <th>15</th>\n      <td>16</td>\n      <td>Paton</td>\n      <td>1</td>\n      <td>0</td>\n      <td>0</td>\n      <td>0</td>\n      <td>F</td>\n    </tr>\n    <tr>\n      <th>16</th>\n      <td>17</td>\n      <td>Ralf</td>\n      <td>0</td>\n      <td>1</td>\n      <td>0</td>\n      <td>0</td>\n      <td>F</td>\n    </tr>\n    <tr>\n      <th>0</th>\n      <td>1</td>\n      <td>Alice</td>\n      <td>1</td>\n      <td>0</td>\n      <td>0</td>\n      <td>0</td>\n      <td>G</td>\n    </tr>\n    <tr>\n      <th>9</th>\n      <td>10</td>\n      <td>Jamie</td>\n      <td>0</td>\n      <td>1</td>\n      <td>0</td>\n      <td>0</td>\n      <td>G</td>\n    </tr>\n    <tr>\n      <th>10</th>\n      <td>11</td>\n      <td>Kate</td>\n      <td>0</td>\n      <td>0</td>\n      <td>1</td>\n      <td>0</td>\n      <td>G</td>\n    </tr>\n  </tbody>\n</table>\n</div>"
     },
     "execution_count": 71,
     "metadata": {},
     "output_type": "execute_result"
    }
   ],
   "source": [
    "result_df.sort_values('group')"
   ],
   "metadata": {
    "collapsed": false,
    "pycharm": {
     "name": "#%%\n"
    }
   }
  },
  {
   "cell_type": "code",
   "execution_count": 81,
   "outputs": [
    {
     "name": "stdout",
     "output_type": "stream",
     "text": [
      "Welcome to the CBC MILP Solver \n",
      "Version: 2.10.3 \n",
      "Build Date: Dec 15 2019 \n",
      "\n",
      "command line - /Users/ta.nakamura/src/github.com/na9amura/try-or-tools/venv/lib/python3.9/site-packages/pulp/apis/../solverdir/cbc/osx/64/cbc /var/folders/y3/x37rtt0s6fn4r9r7__s24rzc0000gp/T/476d901e92134365b4cc48e8eaaab61a-pulp.mps max timeMode elapsed branch printingOptions all solution /var/folders/y3/x37rtt0s6fn4r9r7__s24rzc0000gp/T/476d901e92134365b4cc48e8eaaab61a-pulp.sol (default strategy 1)\n",
      "At line 2 NAME          MODEL\n",
      "At line 3 ROWS\n",
      "At line 48 COLUMNS\n",
      "At line 911 RHS\n",
      "At line 955 BOUNDS\n",
      "At line 1111 ENDATA\n",
      "Problem MODEL has 43 rows, 155 columns and 553 elements\n",
      "Coin0008I MODEL read with 0 errors\n",
      "Option for timeMode changed from cpu to elapsed\n",
      "Continuous objective value is 0 - 0.00 seconds\n",
      "Cgl0005I 22 SOS with 154 members\n",
      "Cgl0004I processed model has 36 rows, 154 columns (154 integer (154 of which binary)) and 399 elements\n",
      "Cbc0038I Initial state - 0 integers unsatisfied sum - 0\n",
      "Cbc0038I Solution found of 0\n",
      "Cbc0038I Before mini branch and bound, 154 integers at bound fixed and 0 continuous\n",
      "Cbc0038I Mini branch and bound did not improve solution (0.00 seconds)\n",
      "Cbc0038I After 0.00 seconds - Feasibility pump exiting with objective of 0 - took 0.00 seconds\n",
      "Cbc0012I Integer solution of 0 found by feasibility pump after 0 iterations and 0 nodes (0.00 seconds)\n",
      "Cbc0001I Search completed - best objective 0, took 0 iterations and 0 nodes (0.01 seconds)\n",
      "Cbc0035I Maximum depth 0, 0 variables fixed on reduced cost\n",
      "Cuts at root node changed objective from 0 to 0\n",
      "Probing was tried 0 times and created 0 cuts of which 0 were active after adding rounds of cuts (0.000 seconds)\n",
      "Gomory was tried 0 times and created 0 cuts of which 0 were active after adding rounds of cuts (0.000 seconds)\n",
      "Knapsack was tried 0 times and created 0 cuts of which 0 were active after adding rounds of cuts (0.000 seconds)\n",
      "Clique was tried 0 times and created 0 cuts of which 0 were active after adding rounds of cuts (0.000 seconds)\n",
      "MixedIntegerRounding2 was tried 0 times and created 0 cuts of which 0 were active after adding rounds of cuts (0.000 seconds)\n",
      "FlowCover was tried 0 times and created 0 cuts of which 0 were active after adding rounds of cuts (0.000 seconds)\n",
      "TwoMirCuts was tried 0 times and created 0 cuts of which 0 were active after adding rounds of cuts (0.000 seconds)\n",
      "ZeroHalf was tried 0 times and created 0 cuts of which 0 were active after adding rounds of cuts (0.000 seconds)\n",
      "\n",
      "Result - Optimal solution found\n",
      "\n",
      "Objective value:                -0.00000000\n",
      "Enumerated nodes:               0\n",
      "Total iterations:               0\n",
      "Time (CPU seconds):             0.01\n",
      "Time (Wallclock seconds):       0.01\n",
      "\n",
      "Option for printingOptions changed from normal to all\n",
      "Total time (CPU seconds):       0.01   (Wallclock seconds):       0.01\n",
      "\n"
     ]
    },
    {
     "data": {
      "text/plain": "    ID       name  SwE  PdM  Biz  CS group\n4    5        Eli    0    0    0   1     A\n6    7     Gordon    1    0    0   0     A\n7    8      Helen    0    0    1   0     A\n8    9       Iris    1    0    0   0     A\n21  22     Warner    0    0    1   0     B\n3    4    Derrick    1    0    0   0     B\n5    6     Fouler    1    0    0   0     B\n12  13    Marries    0    0    0   1     C\n2    3    Charles    1    0    0   0     C\n20  21  Valentino    1    0    0   0     C\n19  20      Urine    0    1    0   0     D\n1    2        Bob    1    0    0   0     D\n18  19       Tate    1    0    0   0     D\n13  14     Nathan    0    0    0   1     E\n14  15     ONeill    1    0    0   0     E\n17  18    Stewart    1    0    0   0     E\n11  12      Louis    1    0    0   0     F\n15  16      Paton    1    0    0   0     F\n16  17       Ralf    0    1    0   0     F\n0    1      Alice    1    0    0   0     G\n9   10      Jamie    0    1    0   0     G\n10  11       Kate    0    0    1   0     G",
      "text/html": "<div>\n<style scoped>\n    .dataframe tbody tr th:only-of-type {\n        vertical-align: middle;\n    }\n\n    .dataframe tbody tr th {\n        vertical-align: top;\n    }\n\n    .dataframe thead th {\n        text-align: right;\n    }\n</style>\n<table border=\"1\" class=\"dataframe\">\n  <thead>\n    <tr style=\"text-align: right;\">\n      <th></th>\n      <th>ID</th>\n      <th>name</th>\n      <th>SwE</th>\n      <th>PdM</th>\n      <th>Biz</th>\n      <th>CS</th>\n      <th>group</th>\n    </tr>\n  </thead>\n  <tbody>\n    <tr>\n      <th>4</th>\n      <td>5</td>\n      <td>Eli</td>\n      <td>0</td>\n      <td>0</td>\n      <td>0</td>\n      <td>1</td>\n      <td>A</td>\n    </tr>\n    <tr>\n      <th>6</th>\n      <td>7</td>\n      <td>Gordon</td>\n      <td>1</td>\n      <td>0</td>\n      <td>0</td>\n      <td>0</td>\n      <td>A</td>\n    </tr>\n    <tr>\n      <th>7</th>\n      <td>8</td>\n      <td>Helen</td>\n      <td>0</td>\n      <td>0</td>\n      <td>1</td>\n      <td>0</td>\n      <td>A</td>\n    </tr>\n    <tr>\n      <th>8</th>\n      <td>9</td>\n      <td>Iris</td>\n      <td>1</td>\n      <td>0</td>\n      <td>0</td>\n      <td>0</td>\n      <td>A</td>\n    </tr>\n    <tr>\n      <th>21</th>\n      <td>22</td>\n      <td>Warner</td>\n      <td>0</td>\n      <td>0</td>\n      <td>1</td>\n      <td>0</td>\n      <td>B</td>\n    </tr>\n    <tr>\n      <th>3</th>\n      <td>4</td>\n      <td>Derrick</td>\n      <td>1</td>\n      <td>0</td>\n      <td>0</td>\n      <td>0</td>\n      <td>B</td>\n    </tr>\n    <tr>\n      <th>5</th>\n      <td>6</td>\n      <td>Fouler</td>\n      <td>1</td>\n      <td>0</td>\n      <td>0</td>\n      <td>0</td>\n      <td>B</td>\n    </tr>\n    <tr>\n      <th>12</th>\n      <td>13</td>\n      <td>Marries</td>\n      <td>0</td>\n      <td>0</td>\n      <td>0</td>\n      <td>1</td>\n      <td>C</td>\n    </tr>\n    <tr>\n      <th>2</th>\n      <td>3</td>\n      <td>Charles</td>\n      <td>1</td>\n      <td>0</td>\n      <td>0</td>\n      <td>0</td>\n      <td>C</td>\n    </tr>\n    <tr>\n      <th>20</th>\n      <td>21</td>\n      <td>Valentino</td>\n      <td>1</td>\n      <td>0</td>\n      <td>0</td>\n      <td>0</td>\n      <td>C</td>\n    </tr>\n    <tr>\n      <th>19</th>\n      <td>20</td>\n      <td>Urine</td>\n      <td>0</td>\n      <td>1</td>\n      <td>0</td>\n      <td>0</td>\n      <td>D</td>\n    </tr>\n    <tr>\n      <th>1</th>\n      <td>2</td>\n      <td>Bob</td>\n      <td>1</td>\n      <td>0</td>\n      <td>0</td>\n      <td>0</td>\n      <td>D</td>\n    </tr>\n    <tr>\n      <th>18</th>\n      <td>19</td>\n      <td>Tate</td>\n      <td>1</td>\n      <td>0</td>\n      <td>0</td>\n      <td>0</td>\n      <td>D</td>\n    </tr>\n    <tr>\n      <th>13</th>\n      <td>14</td>\n      <td>Nathan</td>\n      <td>0</td>\n      <td>0</td>\n      <td>0</td>\n      <td>1</td>\n      <td>E</td>\n    </tr>\n    <tr>\n      <th>14</th>\n      <td>15</td>\n      <td>ONeill</td>\n      <td>1</td>\n      <td>0</td>\n      <td>0</td>\n      <td>0</td>\n      <td>E</td>\n    </tr>\n    <tr>\n      <th>17</th>\n      <td>18</td>\n      <td>Stewart</td>\n      <td>1</td>\n      <td>0</td>\n      <td>0</td>\n      <td>0</td>\n      <td>E</td>\n    </tr>\n    <tr>\n      <th>11</th>\n      <td>12</td>\n      <td>Louis</td>\n      <td>1</td>\n      <td>0</td>\n      <td>0</td>\n      <td>0</td>\n      <td>F</td>\n    </tr>\n    <tr>\n      <th>15</th>\n      <td>16</td>\n      <td>Paton</td>\n      <td>1</td>\n      <td>0</td>\n      <td>0</td>\n      <td>0</td>\n      <td>F</td>\n    </tr>\n    <tr>\n      <th>16</th>\n      <td>17</td>\n      <td>Ralf</td>\n      <td>0</td>\n      <td>1</td>\n      <td>0</td>\n      <td>0</td>\n      <td>F</td>\n    </tr>\n    <tr>\n      <th>0</th>\n      <td>1</td>\n      <td>Alice</td>\n      <td>1</td>\n      <td>0</td>\n      <td>0</td>\n      <td>0</td>\n      <td>G</td>\n    </tr>\n    <tr>\n      <th>9</th>\n      <td>10</td>\n      <td>Jamie</td>\n      <td>0</td>\n      <td>1</td>\n      <td>0</td>\n      <td>0</td>\n      <td>G</td>\n    </tr>\n    <tr>\n      <th>10</th>\n      <td>11</td>\n      <td>Kate</td>\n      <td>0</td>\n      <td>0</td>\n      <td>1</td>\n      <td>0</td>\n      <td>G</td>\n    </tr>\n  </tbody>\n</table>\n</div>"
     },
     "execution_count": 81,
     "metadata": {},
     "output_type": "execute_result"
    }
   ],
   "source": [
    "from group import solver\n",
    "\n",
    "p = solver.Problem('./data.csv')\n",
    "result = p.run()\n",
    "result.sort_values('group')"
   ],
   "metadata": {
    "collapsed": false,
    "pycharm": {
     "name": "#%%\n"
    }
   }
  },
  {
   "cell_type": "markdown",
   "source": [
    "ランダム性が欲しい"
   ],
   "metadata": {
    "collapsed": false,
    "pycharm": {
     "name": "#%% md\n"
    }
   }
  },
  {
   "cell_type": "code",
   "execution_count": 178,
   "outputs": [],
   "source": [
    "result.sort_values('group').to_csv('./result_01.csv', index=False)"
   ],
   "metadata": {
    "collapsed": false,
    "pycharm": {
     "name": "#%%\n"
    }
   }
  },
  {
   "cell_type": "code",
   "execution_count": 123,
   "outputs": [],
   "source": [
    "M = df['ID'].tolist()\n",
    "G = list(string.ascii_uppercase[:len_groups])\n",
    "MG = [(m, g) for m in M for g in G]\n",
    "X = pulp.LpVariable.dicts('X', MG, cat=pulp.LpBinary)\n",
    "\n",
    "# We want to minimize duplication\n",
    "problem = pulp.LpProblem(\"Group\", pulp.LpMinimize)\n",
    "\n",
    "# 1. Members must be assigned to one group\n",
    "for m in M:\n",
    "    problem += pulp.lpSum(X[m, g] for g in G) == 1\n",
    "\n",
    "# 2. Number of members in a group must be 3 to 4\n",
    "for g in G:\n",
    "    problem += pulp.lpSum(X[m, g] for m in M) >= 3\n",
    "    problem += pulp.lpSum(X[m, g] for m in M) <= 4\n",
    "\n",
    "# 3. Max members of SwE must be 2\n",
    "swe = df[df['SwE'] == 1]['ID'].tolist()\n",
    "for g in G:\n",
    "    problem += pulp.lpSum(X[m, g] for m in swe) <= 2"
   ],
   "metadata": {
    "collapsed": false,
    "pycharm": {
     "name": "#%%\n"
    }
   }
  },
  {
   "cell_type": "code",
   "execution_count": 124,
   "outputs": [],
   "source": [
    "# 4. Minimize same group assignation\n",
    "\n",
    "prev_group = { (m, g): 0 for m in M for g in G }\n",
    "for row in result.itertuples():\n",
    "    prev_group[(row.ID, row.group)] = 1\n",
    "problem += pulp.lpSum(X[m, g] * prev_group[m, g] for m, g in MG)"
   ],
   "metadata": {
    "collapsed": false,
    "pycharm": {
     "name": "#%%\n"
    }
   }
  },
  {
   "cell_type": "code",
   "execution_count": 125,
   "outputs": [
    {
     "name": "stdout",
     "output_type": "stream",
     "text": [
      "Welcome to the CBC MILP Solver \n",
      "Version: 2.10.3 \n",
      "Build Date: Dec 15 2019 \n",
      "\n",
      "command line - /Users/ta.nakamura/src/github.com/na9amura/try-or-tools/venv/lib/python3.9/site-packages/pulp/apis/../solverdir/cbc/osx/64/cbc /var/folders/y3/x37rtt0s6fn4r9r7__s24rzc0000gp/T/b789c9133c244db18ef4f5ebcd992b60-pulp.mps timeMode elapsed branch printingOptions all solution /var/folders/y3/x37rtt0s6fn4r9r7__s24rzc0000gp/T/b789c9133c244db18ef4f5ebcd992b60-pulp.sol (default strategy 1)\n",
      "At line 2 NAME          MODEL\n",
      "At line 3 ROWS\n",
      "At line 48 COLUMNS\n",
      "At line 932 RHS\n",
      "At line 976 BOUNDS\n",
      "At line 1131 ENDATA\n",
      "Problem MODEL has 43 rows, 154 columns and 553 elements\n",
      "Coin0008I MODEL read with 0 errors\n",
      "Option for timeMode changed from cpu to elapsed\n",
      "Continuous objective value is 0 - 0.00 seconds\n",
      "Cgl0005I 22 SOS with 154 members\n",
      "Cgl0004I processed model has 36 rows, 154 columns (154 integer (154 of which binary)) and 399 elements\n",
      "Cutoff increment increased from 1e-05 to 0.9999\n",
      "Cbc0038I Initial state - 0 integers unsatisfied sum - 0\n",
      "Cbc0038I Solution found of 0\n",
      "Cbc0038I Before mini branch and bound, 154 integers at bound fixed and 0 continuous\n",
      "Cbc0038I Mini branch and bound did not improve solution (0.00 seconds)\n",
      "Cbc0038I After 0.00 seconds - Feasibility pump exiting with objective of 0 - took 0.00 seconds\n",
      "Cbc0012I Integer solution of 0 found by feasibility pump after 0 iterations and 0 nodes (0.00 seconds)\n",
      "Cbc0001I Search completed - best objective 0, took 0 iterations and 0 nodes (0.00 seconds)\n",
      "Cbc0035I Maximum depth 0, 0 variables fixed on reduced cost\n",
      "Cuts at root node changed objective from 0 to 0\n",
      "Probing was tried 0 times and created 0 cuts of which 0 were active after adding rounds of cuts (0.000 seconds)\n",
      "Gomory was tried 0 times and created 0 cuts of which 0 were active after adding rounds of cuts (0.000 seconds)\n",
      "Knapsack was tried 0 times and created 0 cuts of which 0 were active after adding rounds of cuts (0.000 seconds)\n",
      "Clique was tried 0 times and created 0 cuts of which 0 were active after adding rounds of cuts (0.000 seconds)\n",
      "MixedIntegerRounding2 was tried 0 times and created 0 cuts of which 0 were active after adding rounds of cuts (0.000 seconds)\n",
      "FlowCover was tried 0 times and created 0 cuts of which 0 were active after adding rounds of cuts (0.000 seconds)\n",
      "TwoMirCuts was tried 0 times and created 0 cuts of which 0 were active after adding rounds of cuts (0.000 seconds)\n",
      "ZeroHalf was tried 0 times and created 0 cuts of which 0 were active after adding rounds of cuts (0.000 seconds)\n",
      "\n",
      "Result - Optimal solution found\n",
      "\n",
      "Objective value:                0.00000000\n",
      "Enumerated nodes:               0\n",
      "Total iterations:               0\n",
      "Time (CPU seconds):             0.01\n",
      "Time (Wallclock seconds):       0.01\n",
      "\n",
      "Option for printingOptions changed from normal to all\n",
      "Total time (CPU seconds):       0.01   (Wallclock seconds):       0.01\n",
      "\n",
      "Optimal\n"
     ]
    }
   ],
   "source": [
    "status = problem.solve()\n",
    "print(pulp.LpStatus[status])"
   ],
   "metadata": {
    "collapsed": false,
    "pycharm": {
     "name": "#%%\n"
    }
   }
  },
  {
   "cell_type": "code",
   "execution_count": 126,
   "outputs": [
    {
     "data": {
      "text/plain": "    ID       name  SwE  PdM  Biz  CS group\n1    2        Bob    1    0    0   0     A\n19  20      Urine    0    1    0   0     A\n14  15     ONeill    1    0    0   0     A\n0    1      Alice    1    0    0   0     B\n16  17       Ralf    0    1    0   0     B\n15  16      Paton    1    0    0   0     B\n17  18    Stewart    1    0    0   0     C\n11  12      Louis    1    0    0   0     C\n10  11       Kate    0    0    1   0     C\n13  14     Nathan    0    0    0   1     D\n5    6     Fouler    1    0    0   0     D\n2    3    Charles    1    0    0   0     D\n7    8      Helen    0    0    1   0     E\n3    4    Derrick    1    0    0   0     E\n8    9       Iris    1    0    0   0     E\n9   10      Jamie    0    1    0   0     F\n6    7     Gordon    1    0    0   0     F\n18  19       Tate    1    0    0   0     F\n21  22     Warner    0    0    1   0     F\n20  21  Valentino    1    0    0   0     G\n12  13    Marries    0    0    0   1     G\n4    5        Eli    0    0    0   1     G",
      "text/html": "<div>\n<style scoped>\n    .dataframe tbody tr th:only-of-type {\n        vertical-align: middle;\n    }\n\n    .dataframe tbody tr th {\n        vertical-align: top;\n    }\n\n    .dataframe thead th {\n        text-align: right;\n    }\n</style>\n<table border=\"1\" class=\"dataframe\">\n  <thead>\n    <tr style=\"text-align: right;\">\n      <th></th>\n      <th>ID</th>\n      <th>name</th>\n      <th>SwE</th>\n      <th>PdM</th>\n      <th>Biz</th>\n      <th>CS</th>\n      <th>group</th>\n    </tr>\n  </thead>\n  <tbody>\n    <tr>\n      <th>1</th>\n      <td>2</td>\n      <td>Bob</td>\n      <td>1</td>\n      <td>0</td>\n      <td>0</td>\n      <td>0</td>\n      <td>A</td>\n    </tr>\n    <tr>\n      <th>19</th>\n      <td>20</td>\n      <td>Urine</td>\n      <td>0</td>\n      <td>1</td>\n      <td>0</td>\n      <td>0</td>\n      <td>A</td>\n    </tr>\n    <tr>\n      <th>14</th>\n      <td>15</td>\n      <td>ONeill</td>\n      <td>1</td>\n      <td>0</td>\n      <td>0</td>\n      <td>0</td>\n      <td>A</td>\n    </tr>\n    <tr>\n      <th>0</th>\n      <td>1</td>\n      <td>Alice</td>\n      <td>1</td>\n      <td>0</td>\n      <td>0</td>\n      <td>0</td>\n      <td>B</td>\n    </tr>\n    <tr>\n      <th>16</th>\n      <td>17</td>\n      <td>Ralf</td>\n      <td>0</td>\n      <td>1</td>\n      <td>0</td>\n      <td>0</td>\n      <td>B</td>\n    </tr>\n    <tr>\n      <th>15</th>\n      <td>16</td>\n      <td>Paton</td>\n      <td>1</td>\n      <td>0</td>\n      <td>0</td>\n      <td>0</td>\n      <td>B</td>\n    </tr>\n    <tr>\n      <th>17</th>\n      <td>18</td>\n      <td>Stewart</td>\n      <td>1</td>\n      <td>0</td>\n      <td>0</td>\n      <td>0</td>\n      <td>C</td>\n    </tr>\n    <tr>\n      <th>11</th>\n      <td>12</td>\n      <td>Louis</td>\n      <td>1</td>\n      <td>0</td>\n      <td>0</td>\n      <td>0</td>\n      <td>C</td>\n    </tr>\n    <tr>\n      <th>10</th>\n      <td>11</td>\n      <td>Kate</td>\n      <td>0</td>\n      <td>0</td>\n      <td>1</td>\n      <td>0</td>\n      <td>C</td>\n    </tr>\n    <tr>\n      <th>13</th>\n      <td>14</td>\n      <td>Nathan</td>\n      <td>0</td>\n      <td>0</td>\n      <td>0</td>\n      <td>1</td>\n      <td>D</td>\n    </tr>\n    <tr>\n      <th>5</th>\n      <td>6</td>\n      <td>Fouler</td>\n      <td>1</td>\n      <td>0</td>\n      <td>0</td>\n      <td>0</td>\n      <td>D</td>\n    </tr>\n    <tr>\n      <th>2</th>\n      <td>3</td>\n      <td>Charles</td>\n      <td>1</td>\n      <td>0</td>\n      <td>0</td>\n      <td>0</td>\n      <td>D</td>\n    </tr>\n    <tr>\n      <th>7</th>\n      <td>8</td>\n      <td>Helen</td>\n      <td>0</td>\n      <td>0</td>\n      <td>1</td>\n      <td>0</td>\n      <td>E</td>\n    </tr>\n    <tr>\n      <th>3</th>\n      <td>4</td>\n      <td>Derrick</td>\n      <td>1</td>\n      <td>0</td>\n      <td>0</td>\n      <td>0</td>\n      <td>E</td>\n    </tr>\n    <tr>\n      <th>8</th>\n      <td>9</td>\n      <td>Iris</td>\n      <td>1</td>\n      <td>0</td>\n      <td>0</td>\n      <td>0</td>\n      <td>E</td>\n    </tr>\n    <tr>\n      <th>9</th>\n      <td>10</td>\n      <td>Jamie</td>\n      <td>0</td>\n      <td>1</td>\n      <td>0</td>\n      <td>0</td>\n      <td>F</td>\n    </tr>\n    <tr>\n      <th>6</th>\n      <td>7</td>\n      <td>Gordon</td>\n      <td>1</td>\n      <td>0</td>\n      <td>0</td>\n      <td>0</td>\n      <td>F</td>\n    </tr>\n    <tr>\n      <th>18</th>\n      <td>19</td>\n      <td>Tate</td>\n      <td>1</td>\n      <td>0</td>\n      <td>0</td>\n      <td>0</td>\n      <td>F</td>\n    </tr>\n    <tr>\n      <th>21</th>\n      <td>22</td>\n      <td>Warner</td>\n      <td>0</td>\n      <td>0</td>\n      <td>1</td>\n      <td>0</td>\n      <td>F</td>\n    </tr>\n    <tr>\n      <th>20</th>\n      <td>21</td>\n      <td>Valentino</td>\n      <td>1</td>\n      <td>0</td>\n      <td>0</td>\n      <td>0</td>\n      <td>G</td>\n    </tr>\n    <tr>\n      <th>12</th>\n      <td>13</td>\n      <td>Marries</td>\n      <td>0</td>\n      <td>0</td>\n      <td>0</td>\n      <td>1</td>\n      <td>G</td>\n    </tr>\n    <tr>\n      <th>4</th>\n      <td>5</td>\n      <td>Eli</td>\n      <td>0</td>\n      <td>0</td>\n      <td>0</td>\n      <td>1</td>\n      <td>G</td>\n    </tr>\n  </tbody>\n</table>\n</div>"
     },
     "execution_count": 126,
     "metadata": {},
     "output_type": "execute_result"
    }
   ],
   "source": [
    "result_df = df.copy()\n",
    "result_df['group'] = result_df['ID'].map({ m:g for m in M for g in G if X[m,g].value() == 1})\n",
    "result_df.sort_values('group')"
   ],
   "metadata": {
    "collapsed": false,
    "pycharm": {
     "name": "#%%\n"
    }
   }
  },
  {
   "cell_type": "markdown",
   "source": [
    "↑ This constraint was not desirable because we want to create group with small duplication, not different group name."
   ],
   "metadata": {
    "collapsed": false
   }
  },
  {
   "cell_type": "code",
   "execution_count": 166,
   "outputs": [],
   "source": [
    "M = df['ID'].tolist()\n",
    "G = list(string.ascii_uppercase[:len_groups])\n",
    "MG = [(m, g) for m in M for g in G]\n",
    "X = pulp.LpVariable.dicts('X', MG, cat=pulp.LpBinary)\n",
    "\n",
    "# We want to minimize duplication\n",
    "problem = pulp.LpProblem(\"Group\", pulp.LpMinimize)\n",
    "\n",
    "# 1. Members must be assigned to one group\n",
    "for m in M:\n",
    "    problem += pulp.lpSum(X[m, g] for g in G) == 1\n",
    "\n",
    "# 2. Number of members in a group must be 3 to 4\n",
    "for g in G:\n",
    "    problem += pulp.lpSum(X[m, g] for m in M) >= 3\n",
    "    problem += pulp.lpSum(X[m, g] for m in M) <= 4\n",
    "\n",
    "# 3. Max members of SwE must be 2\n",
    "swe = df[df['SwE'] == 1]['ID'].tolist()\n",
    "for g in G:\n",
    "    problem += pulp.lpSum(X[m, g] for m in swe) <= 2"
   ],
   "metadata": {
    "collapsed": false,
    "pycharm": {
     "name": "#%%\n"
    }
   }
  },
  {
   "cell_type": "code",
   "execution_count": 171,
   "outputs": [
    {
     "data": {
      "text/plain": "{5: [5, 7, 8, 9],\n 7: [5, 7, 8, 9],\n 8: [5, 7, 8, 9],\n 9: [5, 7, 8, 9],\n 4: [4, 6, 22],\n 6: [4, 6, 22],\n 22: [4, 6, 22],\n 3: [3, 13, 21],\n 13: [3, 13, 21],\n 21: [3, 13, 21],\n 2: [2, 19, 20],\n 19: [2, 19, 20],\n 20: [2, 19, 20],\n 14: [14, 15, 18],\n 15: [14, 15, 18],\n 18: [14, 15, 18],\n 12: [12, 16, 17],\n 16: [12, 16, 17],\n 17: [12, 16, 17],\n 1: [1, 10, 11],\n 10: [1, 10, 11],\n 11: [1, 10, 11]}"
     },
     "execution_count": 171,
     "metadata": {},
     "output_type": "execute_result"
    }
   ],
   "source": [
    "prev_group_mates = dict()\n",
    "\n",
    "# for g, data in result.groupby('group'):\n",
    "#     members = data['ID'].to_list()\n",
    "#     for name in members:\n",
    "#         prev_group_mates[name] = dict(zip(M.copy(), [0] * len(M)))\n",
    "#         for m in M:\n",
    "#             if len(list(filter(lambda _m: _m == m, members))) > 0:\n",
    "#                 prev_group_mates[name][m] = 1\n",
    "\n",
    "for g, data in result.groupby('group'):\n",
    "    members = data['ID'].to_list()\n",
    "\n",
    "    for name in members:\n",
    "        prev_group_mates[name] = members\n",
    "\n",
    "prev_group_mates"
   ],
   "metadata": {
    "collapsed": false,
    "pycharm": {
     "name": "#%%\n"
    }
   }
  },
  {
   "cell_type": "code",
   "execution_count": 172,
   "outputs": [],
   "source": [
    "for n, members in prev_group_mates.items():\n",
    "    for g in G:\n",
    "        problem += pulp.lpSum(X[m, g] for m in members) <= 2"
   ],
   "metadata": {
    "collapsed": false,
    "pycharm": {
     "name": "#%%\n"
    }
   }
  },
  {
   "cell_type": "code",
   "execution_count": 173,
   "outputs": [
    {
     "name": "stdout",
     "output_type": "stream",
     "text": [
      "Welcome to the CBC MILP Solver \n",
      "Version: 2.10.3 \n",
      "Build Date: Dec 15 2019 \n",
      "\n",
      "command line - /Users/ta.nakamura/src/github.com/na9amura/try-or-tools/venv/lib/python3.9/site-packages/pulp/apis/../solverdir/cbc/osx/64/cbc /var/folders/y3/x37rtt0s6fn4r9r7__s24rzc0000gp/T/a8a2a86b52d64ca58a1a679fa8e6aae5-pulp.mps timeMode elapsed branch printingOptions all solution /var/folders/y3/x37rtt0s6fn4r9r7__s24rzc0000gp/T/a8a2a86b52d64ca58a1a679fa8e6aae5-pulp.sol (default strategy 1)\n",
      "At line 2 NAME          MODEL\n",
      "At line 3 ROWS\n",
      "At line 356 COLUMNS\n",
      "At line 2199 RHS\n",
      "At line 2551 BOUNDS\n",
      "At line 2707 ENDATA\n",
      "Problem MODEL has 351 rows, 155 columns and 1533 elements\n",
      "Coin0008I MODEL read with 0 errors\n",
      "Option for timeMode changed from cpu to elapsed\n",
      "Continuous objective value is 0 - 0.00 seconds\n",
      "Cgl0005I 22 SOS with 154 members\n",
      "Cgl0004I processed model has 85 rows, 154 columns (154 integer (154 of which binary)) and 553 elements\n",
      "Cbc0038I Initial state - 0 integers unsatisfied sum - 0\n",
      "Cbc0038I Solution found of 0\n",
      "Cbc0038I Before mini branch and bound, 154 integers at bound fixed and 0 continuous\n",
      "Cbc0038I Mini branch and bound did not improve solution (0.01 seconds)\n",
      "Cbc0038I After 0.01 seconds - Feasibility pump exiting with objective of 0 - took 0.00 seconds\n",
      "Cbc0012I Integer solution of 0 found by feasibility pump after 0 iterations and 0 nodes (0.01 seconds)\n",
      "Cbc0001I Search completed - best objective 0, took 0 iterations and 0 nodes (0.01 seconds)\n",
      "Cbc0035I Maximum depth 0, 0 variables fixed on reduced cost\n",
      "Cuts at root node changed objective from 0 to 0\n",
      "Probing was tried 0 times and created 0 cuts of which 0 were active after adding rounds of cuts (0.000 seconds)\n",
      "Gomory was tried 0 times and created 0 cuts of which 0 were active after adding rounds of cuts (0.000 seconds)\n",
      "Knapsack was tried 0 times and created 0 cuts of which 0 were active after adding rounds of cuts (0.000 seconds)\n",
      "Clique was tried 0 times and created 0 cuts of which 0 were active after adding rounds of cuts (0.000 seconds)\n",
      "MixedIntegerRounding2 was tried 0 times and created 0 cuts of which 0 were active after adding rounds of cuts (0.000 seconds)\n",
      "FlowCover was tried 0 times and created 0 cuts of which 0 were active after adding rounds of cuts (0.000 seconds)\n",
      "TwoMirCuts was tried 0 times and created 0 cuts of which 0 were active after adding rounds of cuts (0.000 seconds)\n",
      "ZeroHalf was tried 0 times and created 0 cuts of which 0 were active after adding rounds of cuts (0.000 seconds)\n",
      "\n",
      "Result - Optimal solution found\n",
      "\n",
      "Objective value:                0.00000000\n",
      "Enumerated nodes:               0\n",
      "Total iterations:               0\n",
      "Time (CPU seconds):             0.01\n",
      "Time (Wallclock seconds):       0.01\n",
      "\n",
      "Option for printingOptions changed from normal to all\n",
      "Total time (CPU seconds):       0.01   (Wallclock seconds):       0.01\n",
      "\n",
      "Optimal\n"
     ]
    }
   ],
   "source": [
    "status = problem.solve()\n",
    "print(pulp.LpStatus[status])"
   ],
   "metadata": {
    "collapsed": false,
    "pycharm": {
     "name": "#%%\n"
    }
   }
  },
  {
   "cell_type": "code",
   "execution_count": 174,
   "outputs": [
    {
     "data": {
      "text/plain": "    ID       name  SwE  PdM  Biz  CS group\n10  11       Kate    0    0    1   0     A\n12  13    Marries    0    0    0   1     A\n20  21  Valentino    1    0    0   0     A\n14  15     ONeill    1    0    0   0     B\n21  22     Warner    0    0    1   0     B\n4    5        Eli    0    0    0   1     B\n1    2        Bob    1    0    0   0     B\n8    9       Iris    1    0    0   0     C\n9   10      Jamie    0    1    0   0     C\n11  12      Louis    1    0    0   0     C\n2    3    Charles    1    0    0   0     D\n15  16      Paton    1    0    0   0     D\n16  17       Ralf    0    1    0   0     D\n5    6     Fouler    1    0    0   0     E\n7    8      Helen    0    0    1   0     E\n17  18    Stewart    1    0    0   0     E\n19  20      Urine    0    1    0   0     F\n18  19       Tate    1    0    0   0     F\n0    1      Alice    1    0    0   0     F\n6    7     Gordon    1    0    0   0     G\n3    4    Derrick    1    0    0   0     G\n13  14     Nathan    0    0    0   1     G",
      "text/html": "<div>\n<style scoped>\n    .dataframe tbody tr th:only-of-type {\n        vertical-align: middle;\n    }\n\n    .dataframe tbody tr th {\n        vertical-align: top;\n    }\n\n    .dataframe thead th {\n        text-align: right;\n    }\n</style>\n<table border=\"1\" class=\"dataframe\">\n  <thead>\n    <tr style=\"text-align: right;\">\n      <th></th>\n      <th>ID</th>\n      <th>name</th>\n      <th>SwE</th>\n      <th>PdM</th>\n      <th>Biz</th>\n      <th>CS</th>\n      <th>group</th>\n    </tr>\n  </thead>\n  <tbody>\n    <tr>\n      <th>10</th>\n      <td>11</td>\n      <td>Kate</td>\n      <td>0</td>\n      <td>0</td>\n      <td>1</td>\n      <td>0</td>\n      <td>A</td>\n    </tr>\n    <tr>\n      <th>12</th>\n      <td>13</td>\n      <td>Marries</td>\n      <td>0</td>\n      <td>0</td>\n      <td>0</td>\n      <td>1</td>\n      <td>A</td>\n    </tr>\n    <tr>\n      <th>20</th>\n      <td>21</td>\n      <td>Valentino</td>\n      <td>1</td>\n      <td>0</td>\n      <td>0</td>\n      <td>0</td>\n      <td>A</td>\n    </tr>\n    <tr>\n      <th>14</th>\n      <td>15</td>\n      <td>ONeill</td>\n      <td>1</td>\n      <td>0</td>\n      <td>0</td>\n      <td>0</td>\n      <td>B</td>\n    </tr>\n    <tr>\n      <th>21</th>\n      <td>22</td>\n      <td>Warner</td>\n      <td>0</td>\n      <td>0</td>\n      <td>1</td>\n      <td>0</td>\n      <td>B</td>\n    </tr>\n    <tr>\n      <th>4</th>\n      <td>5</td>\n      <td>Eli</td>\n      <td>0</td>\n      <td>0</td>\n      <td>0</td>\n      <td>1</td>\n      <td>B</td>\n    </tr>\n    <tr>\n      <th>1</th>\n      <td>2</td>\n      <td>Bob</td>\n      <td>1</td>\n      <td>0</td>\n      <td>0</td>\n      <td>0</td>\n      <td>B</td>\n    </tr>\n    <tr>\n      <th>8</th>\n      <td>9</td>\n      <td>Iris</td>\n      <td>1</td>\n      <td>0</td>\n      <td>0</td>\n      <td>0</td>\n      <td>C</td>\n    </tr>\n    <tr>\n      <th>9</th>\n      <td>10</td>\n      <td>Jamie</td>\n      <td>0</td>\n      <td>1</td>\n      <td>0</td>\n      <td>0</td>\n      <td>C</td>\n    </tr>\n    <tr>\n      <th>11</th>\n      <td>12</td>\n      <td>Louis</td>\n      <td>1</td>\n      <td>0</td>\n      <td>0</td>\n      <td>0</td>\n      <td>C</td>\n    </tr>\n    <tr>\n      <th>2</th>\n      <td>3</td>\n      <td>Charles</td>\n      <td>1</td>\n      <td>0</td>\n      <td>0</td>\n      <td>0</td>\n      <td>D</td>\n    </tr>\n    <tr>\n      <th>15</th>\n      <td>16</td>\n      <td>Paton</td>\n      <td>1</td>\n      <td>0</td>\n      <td>0</td>\n      <td>0</td>\n      <td>D</td>\n    </tr>\n    <tr>\n      <th>16</th>\n      <td>17</td>\n      <td>Ralf</td>\n      <td>0</td>\n      <td>1</td>\n      <td>0</td>\n      <td>0</td>\n      <td>D</td>\n    </tr>\n    <tr>\n      <th>5</th>\n      <td>6</td>\n      <td>Fouler</td>\n      <td>1</td>\n      <td>0</td>\n      <td>0</td>\n      <td>0</td>\n      <td>E</td>\n    </tr>\n    <tr>\n      <th>7</th>\n      <td>8</td>\n      <td>Helen</td>\n      <td>0</td>\n      <td>0</td>\n      <td>1</td>\n      <td>0</td>\n      <td>E</td>\n    </tr>\n    <tr>\n      <th>17</th>\n      <td>18</td>\n      <td>Stewart</td>\n      <td>1</td>\n      <td>0</td>\n      <td>0</td>\n      <td>0</td>\n      <td>E</td>\n    </tr>\n    <tr>\n      <th>19</th>\n      <td>20</td>\n      <td>Urine</td>\n      <td>0</td>\n      <td>1</td>\n      <td>0</td>\n      <td>0</td>\n      <td>F</td>\n    </tr>\n    <tr>\n      <th>18</th>\n      <td>19</td>\n      <td>Tate</td>\n      <td>1</td>\n      <td>0</td>\n      <td>0</td>\n      <td>0</td>\n      <td>F</td>\n    </tr>\n    <tr>\n      <th>0</th>\n      <td>1</td>\n      <td>Alice</td>\n      <td>1</td>\n      <td>0</td>\n      <td>0</td>\n      <td>0</td>\n      <td>F</td>\n    </tr>\n    <tr>\n      <th>6</th>\n      <td>7</td>\n      <td>Gordon</td>\n      <td>1</td>\n      <td>0</td>\n      <td>0</td>\n      <td>0</td>\n      <td>G</td>\n    </tr>\n    <tr>\n      <th>3</th>\n      <td>4</td>\n      <td>Derrick</td>\n      <td>1</td>\n      <td>0</td>\n      <td>0</td>\n      <td>0</td>\n      <td>G</td>\n    </tr>\n    <tr>\n      <th>13</th>\n      <td>14</td>\n      <td>Nathan</td>\n      <td>0</td>\n      <td>0</td>\n      <td>0</td>\n      <td>1</td>\n      <td>G</td>\n    </tr>\n  </tbody>\n</table>\n</div>"
     },
     "execution_count": 174,
     "metadata": {},
     "output_type": "execute_result"
    }
   ],
   "source": [
    "result_df = df.copy()\n",
    "result_df['group'] = result_df['ID'].map({ m:g for m in M for g in G if X[m,g].value() == 1})\n",
    "result_df.sort_values('group')"
   ],
   "metadata": {
    "collapsed": false,
    "pycharm": {
     "name": "#%%\n"
    }
   }
  },
  {
   "cell_type": "code",
   "execution_count": 177,
   "outputs": [],
   "source": [
    "result_df.sort_values('group').to_csv('./result_02.csv', index=False)"
   ],
   "metadata": {
    "collapsed": false,
    "pycharm": {
     "name": "#%%\n"
    }
   }
  },
  {
   "cell_type": "code",
   "execution_count": 185,
   "outputs": [
    {
     "name": "stdout",
     "output_type": "stream",
     "text": [
      "Welcome to the CBC MILP Solver \n",
      "Version: 2.10.3 \n",
      "Build Date: Dec 15 2019 \n",
      "\n",
      "command line - /Users/ta.nakamura/src/github.com/na9amura/try-or-tools/venv/lib/python3.9/site-packages/pulp/apis/../solverdir/cbc/osx/64/cbc /var/folders/y3/x37rtt0s6fn4r9r7__s24rzc0000gp/T/fc9ea964416c483bb832ad57810cf47b-pulp.mps max timeMode elapsed branch printingOptions all solution /var/folders/y3/x37rtt0s6fn4r9r7__s24rzc0000gp/T/fc9ea964416c483bb832ad57810cf47b-pulp.sol (default strategy 1)\n",
      "At line 2 NAME          MODEL\n",
      "At line 3 ROWS\n",
      "At line 202 COLUMNS\n",
      "At line 1555 RHS\n",
      "At line 1753 BOUNDS\n",
      "At line 1909 ENDATA\n",
      "Problem MODEL has 197 rows, 155 columns and 1043 elements\n",
      "Coin0008I MODEL read with 0 errors\n",
      "Option for timeMode changed from cpu to elapsed\n",
      "Continuous objective value is 0 - 0.00 seconds\n",
      "Cgl0005I 22 SOS with 154 members\n",
      "Cgl0004I processed model has 85 rows, 154 columns (154 integer (154 of which binary)) and 553 elements\n",
      "Cbc0038I Initial state - 0 integers unsatisfied sum - 0\n",
      "Cbc0038I Solution found of 0\n",
      "Cbc0038I Before mini branch and bound, 154 integers at bound fixed and 0 continuous\n",
      "Cbc0038I Mini branch and bound did not improve solution (0.00 seconds)\n",
      "Cbc0038I After 0.00 seconds - Feasibility pump exiting with objective of 0 - took 0.00 seconds\n",
      "Cbc0012I Integer solution of 0 found by feasibility pump after 0 iterations and 0 nodes (0.00 seconds)\n",
      "Cbc0001I Search completed - best objective 0, took 0 iterations and 0 nodes (0.01 seconds)\n",
      "Cbc0035I Maximum depth 0, 0 variables fixed on reduced cost\n",
      "Cuts at root node changed objective from 0 to 0\n",
      "Probing was tried 0 times and created 0 cuts of which 0 were active after adding rounds of cuts (0.000 seconds)\n",
      "Gomory was tried 0 times and created 0 cuts of which 0 were active after adding rounds of cuts (0.000 seconds)\n",
      "Knapsack was tried 0 times and created 0 cuts of which 0 were active after adding rounds of cuts (0.000 seconds)\n",
      "Clique was tried 0 times and created 0 cuts of which 0 were active after adding rounds of cuts (0.000 seconds)\n",
      "MixedIntegerRounding2 was tried 0 times and created 0 cuts of which 0 were active after adding rounds of cuts (0.000 seconds)\n",
      "FlowCover was tried 0 times and created 0 cuts of which 0 were active after adding rounds of cuts (0.000 seconds)\n",
      "TwoMirCuts was tried 0 times and created 0 cuts of which 0 were active after adding rounds of cuts (0.000 seconds)\n",
      "ZeroHalf was tried 0 times and created 0 cuts of which 0 were active after adding rounds of cuts (0.000 seconds)\n",
      "\n",
      "Result - Optimal solution found\n",
      "\n",
      "Objective value:                -0.00000000\n",
      "Enumerated nodes:               0\n",
      "Total iterations:               0\n",
      "Time (CPU seconds):             0.01\n",
      "Time (Wallclock seconds):       0.01\n",
      "\n",
      "Option for printingOptions changed from normal to all\n",
      "Total time (CPU seconds):       0.01   (Wallclock seconds):       0.01\n",
      "\n"
     ]
    },
    {
     "data": {
      "text/plain": "    ID       name  SwE  PdM  Biz  CS group\n10  11       Kate    0    0    1   0     A\n18  19       Tate    1    0    0   0     A\n20  21  Valentino    1    0    0   0     A\n12  13    Marries    0    0    0   1     B\n21  22     Warner    0    0    1   0     B\n1    2        Bob    1    0    0   0     B\n6    7     Gordon    1    0    0   0     C\n8    9       Iris    1    0    0   0     C\n9   10      Jamie    0    1    0   0     C\n4    5        Eli    0    0    0   1     D\n14  15     ONeill    1    0    0   0     D\n15  16      Paton    1    0    0   0     D\n16  17       Ralf    0    1    0   0     D\n7    8      Helen    0    0    1   0     E\n2    3    Charles    1    0    0   0     E\n17  18    Stewart    1    0    0   0     E\n5    6     Fouler    1    0    0   0     F\n19  20      Urine    0    1    0   0     F\n0    1      Alice    1    0    0   0     F\n3    4    Derrick    1    0    0   0     G\n11  12      Louis    1    0    0   0     G\n13  14     Nathan    0    0    0   1     G",
      "text/html": "<div>\n<style scoped>\n    .dataframe tbody tr th:only-of-type {\n        vertical-align: middle;\n    }\n\n    .dataframe tbody tr th {\n        vertical-align: top;\n    }\n\n    .dataframe thead th {\n        text-align: right;\n    }\n</style>\n<table border=\"1\" class=\"dataframe\">\n  <thead>\n    <tr style=\"text-align: right;\">\n      <th></th>\n      <th>ID</th>\n      <th>name</th>\n      <th>SwE</th>\n      <th>PdM</th>\n      <th>Biz</th>\n      <th>CS</th>\n      <th>group</th>\n    </tr>\n  </thead>\n  <tbody>\n    <tr>\n      <th>10</th>\n      <td>11</td>\n      <td>Kate</td>\n      <td>0</td>\n      <td>0</td>\n      <td>1</td>\n      <td>0</td>\n      <td>A</td>\n    </tr>\n    <tr>\n      <th>18</th>\n      <td>19</td>\n      <td>Tate</td>\n      <td>1</td>\n      <td>0</td>\n      <td>0</td>\n      <td>0</td>\n      <td>A</td>\n    </tr>\n    <tr>\n      <th>20</th>\n      <td>21</td>\n      <td>Valentino</td>\n      <td>1</td>\n      <td>0</td>\n      <td>0</td>\n      <td>0</td>\n      <td>A</td>\n    </tr>\n    <tr>\n      <th>12</th>\n      <td>13</td>\n      <td>Marries</td>\n      <td>0</td>\n      <td>0</td>\n      <td>0</td>\n      <td>1</td>\n      <td>B</td>\n    </tr>\n    <tr>\n      <th>21</th>\n      <td>22</td>\n      <td>Warner</td>\n      <td>0</td>\n      <td>0</td>\n      <td>1</td>\n      <td>0</td>\n      <td>B</td>\n    </tr>\n    <tr>\n      <th>1</th>\n      <td>2</td>\n      <td>Bob</td>\n      <td>1</td>\n      <td>0</td>\n      <td>0</td>\n      <td>0</td>\n      <td>B</td>\n    </tr>\n    <tr>\n      <th>6</th>\n      <td>7</td>\n      <td>Gordon</td>\n      <td>1</td>\n      <td>0</td>\n      <td>0</td>\n      <td>0</td>\n      <td>C</td>\n    </tr>\n    <tr>\n      <th>8</th>\n      <td>9</td>\n      <td>Iris</td>\n      <td>1</td>\n      <td>0</td>\n      <td>0</td>\n      <td>0</td>\n      <td>C</td>\n    </tr>\n    <tr>\n      <th>9</th>\n      <td>10</td>\n      <td>Jamie</td>\n      <td>0</td>\n      <td>1</td>\n      <td>0</td>\n      <td>0</td>\n      <td>C</td>\n    </tr>\n    <tr>\n      <th>4</th>\n      <td>5</td>\n      <td>Eli</td>\n      <td>0</td>\n      <td>0</td>\n      <td>0</td>\n      <td>1</td>\n      <td>D</td>\n    </tr>\n    <tr>\n      <th>14</th>\n      <td>15</td>\n      <td>ONeill</td>\n      <td>1</td>\n      <td>0</td>\n      <td>0</td>\n      <td>0</td>\n      <td>D</td>\n    </tr>\n    <tr>\n      <th>15</th>\n      <td>16</td>\n      <td>Paton</td>\n      <td>1</td>\n      <td>0</td>\n      <td>0</td>\n      <td>0</td>\n      <td>D</td>\n    </tr>\n    <tr>\n      <th>16</th>\n      <td>17</td>\n      <td>Ralf</td>\n      <td>0</td>\n      <td>1</td>\n      <td>0</td>\n      <td>0</td>\n      <td>D</td>\n    </tr>\n    <tr>\n      <th>7</th>\n      <td>8</td>\n      <td>Helen</td>\n      <td>0</td>\n      <td>0</td>\n      <td>1</td>\n      <td>0</td>\n      <td>E</td>\n    </tr>\n    <tr>\n      <th>2</th>\n      <td>3</td>\n      <td>Charles</td>\n      <td>1</td>\n      <td>0</td>\n      <td>0</td>\n      <td>0</td>\n      <td>E</td>\n    </tr>\n    <tr>\n      <th>17</th>\n      <td>18</td>\n      <td>Stewart</td>\n      <td>1</td>\n      <td>0</td>\n      <td>0</td>\n      <td>0</td>\n      <td>E</td>\n    </tr>\n    <tr>\n      <th>5</th>\n      <td>6</td>\n      <td>Fouler</td>\n      <td>1</td>\n      <td>0</td>\n      <td>0</td>\n      <td>0</td>\n      <td>F</td>\n    </tr>\n    <tr>\n      <th>19</th>\n      <td>20</td>\n      <td>Urine</td>\n      <td>0</td>\n      <td>1</td>\n      <td>0</td>\n      <td>0</td>\n      <td>F</td>\n    </tr>\n    <tr>\n      <th>0</th>\n      <td>1</td>\n      <td>Alice</td>\n      <td>1</td>\n      <td>0</td>\n      <td>0</td>\n      <td>0</td>\n      <td>F</td>\n    </tr>\n    <tr>\n      <th>3</th>\n      <td>4</td>\n      <td>Derrick</td>\n      <td>1</td>\n      <td>0</td>\n      <td>0</td>\n      <td>0</td>\n      <td>G</td>\n    </tr>\n    <tr>\n      <th>11</th>\n      <td>12</td>\n      <td>Louis</td>\n      <td>1</td>\n      <td>0</td>\n      <td>0</td>\n      <td>0</td>\n      <td>G</td>\n    </tr>\n    <tr>\n      <th>13</th>\n      <td>14</td>\n      <td>Nathan</td>\n      <td>0</td>\n      <td>0</td>\n      <td>0</td>\n      <td>1</td>\n      <td>G</td>\n    </tr>\n  </tbody>\n</table>\n</div>"
     },
     "execution_count": 185,
     "metadata": {},
     "output_type": "execute_result"
    }
   ],
   "source": [
    "# from group import solver\n",
    "import importlib\n",
    "importlib.reload(solver)\n",
    "\n",
    "p = solver.Problem('./data.csv', prev_group=result_df)\n",
    "result3 = p.run()\n",
    "result3.sort_values('group')"
   ],
   "metadata": {
    "collapsed": false,
    "pycharm": {
     "name": "#%%\n"
    }
   }
  },
  {
   "cell_type": "code",
   "execution_count": 186,
   "outputs": [],
   "source": [
    "result3.sort_values('group').to_csv('./result_03.csv', index=False)\n"
   ],
   "metadata": {
    "collapsed": false,
    "pycharm": {
     "name": "#%%\n"
    }
   }
  }
 ],
 "metadata": {
  "kernelspec": {
   "display_name": "Python 3",
   "language": "python",
   "name": "python3"
  },
  "language_info": {
   "codemirror_mode": {
    "name": "ipython",
    "version": 2
   },
   "file_extension": ".py",
   "mimetype": "text/x-python",
   "name": "python",
   "nbconvert_exporter": "python",
   "pygments_lexer": "ipython2",
   "version": "2.7.6"
  }
 },
 "nbformat": 4,
 "nbformat_minor": 0
}