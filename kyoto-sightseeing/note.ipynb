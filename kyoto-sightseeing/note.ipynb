{
 "cells": [
  {
   "cell_type": "code",
   "execution_count": 20,
   "outputs": [],
   "source": [
    "import numpy as np\n",
    "import pandas as pd"
   ],
   "metadata": {
    "collapsed": false,
    "pycharm": {
     "name": "#%%\n"
    }
   }
  },
  {
   "cell_type": "code",
   "execution_count": 21,
   "outputs": [
    {
     "data": {
      "text/plain": "         ID                Name                                 Address  \\\n0   9999999                 京都駅                           京都市下京区東塩小路釜殿町   \n1   1000002          慈照寺（銀閣寺）銀閣                             京都市左京区銀閣寺町2   \n2   1000003         銀閣寺（慈照寺）東求堂                             京都市左京区銀閣寺町2   \n3   1000010  下鴨神社（賀茂御祖神社）東本殿西本殿                           京都市左京区下鴨泉川町59   \n4   1000017               東福寺三門                               本町15丁目778   \n..      ...                 ...                                     ...   \n79  7000011               名勝大沢池                             右京区嵯峨大沢町４番地   \n80  7000064              知恩院紫雲水                               東山区林下町400   \n81  8000001                嵐山通船  南乗船場・京都市西京区嵐山山中町/北乗船場・京都市右京区嵯峨天竜寺芒ノ馬場町   \n82  8000022             知恩院七不思議                               東山区林下町400   \n83  8000026           嵯峨野トロッコ列車                          京都市右京区嵯峨天龍寺車道町   \n\n          lat         lng  Unnamed: 5  Unnamed: 6     open     close  \\\n0   34.980983  135.754836         530        2359  5:30:00  23:59:00   \n1   35.026864  135.798269         830        1700  8:30:00  17:00:00   \n2   35.026864  135.798269         830        1700  8:30:00  17:00:00   \n3   35.034883  135.771905         630        1700  6:30:00  17:00:00   \n4   34.977097  135.774106         900        1600  9:00:00  16:00:00   \n..        ...         ...         ...         ...      ...       ...   \n79  35.028300  135.677945         600        1900  6:00:00  19:00:00   \n80  35.006161  135.783806         900        1630  9:00:00  16:30:00   \n81  35.009449  135.666773         900        1700  9:00:00  17:00:00   \n82  35.006161  135.783806         900        1630  9:00:00  16:30:00   \n83  35.018158  135.680484         900        1730  9:00:00  17:30:00   \n\n    open_time_min  close_time_min  Unnamed: 11  time_to_spend  \n0             330            1439          0.0              0  \n1             510            1020         40.0             40  \n2             510            1020         40.0             40  \n3             390            1020         30.0             30  \n4             540             960         20.0             20  \n..            ...             ...          ...            ...  \n79            360            1140         45.0             45  \n80            540             990          NaN             33  \n81            540            1020         30.0             30  \n82            540             990          NaN             33  \n83            540            1050         25.0             25  \n\n[84 rows x 13 columns]",
      "text/html": "<div>\n<style scoped>\n    .dataframe tbody tr th:only-of-type {\n        vertical-align: middle;\n    }\n\n    .dataframe tbody tr th {\n        vertical-align: top;\n    }\n\n    .dataframe thead th {\n        text-align: right;\n    }\n</style>\n<table border=\"1\" class=\"dataframe\">\n  <thead>\n    <tr style=\"text-align: right;\">\n      <th></th>\n      <th>ID</th>\n      <th>Name</th>\n      <th>Address</th>\n      <th>lat</th>\n      <th>lng</th>\n      <th>Unnamed: 5</th>\n      <th>Unnamed: 6</th>\n      <th>open</th>\n      <th>close</th>\n      <th>open_time_min</th>\n      <th>close_time_min</th>\n      <th>Unnamed: 11</th>\n      <th>time_to_spend</th>\n    </tr>\n  </thead>\n  <tbody>\n    <tr>\n      <th>0</th>\n      <td>9999999</td>\n      <td>京都駅</td>\n      <td>京都市下京区東塩小路釜殿町</td>\n      <td>34.980983</td>\n      <td>135.754836</td>\n      <td>530</td>\n      <td>2359</td>\n      <td>5:30:00</td>\n      <td>23:59:00</td>\n      <td>330</td>\n      <td>1439</td>\n      <td>0.0</td>\n      <td>0</td>\n    </tr>\n    <tr>\n      <th>1</th>\n      <td>1000002</td>\n      <td>慈照寺（銀閣寺）銀閣</td>\n      <td>京都市左京区銀閣寺町2</td>\n      <td>35.026864</td>\n      <td>135.798269</td>\n      <td>830</td>\n      <td>1700</td>\n      <td>8:30:00</td>\n      <td>17:00:00</td>\n      <td>510</td>\n      <td>1020</td>\n      <td>40.0</td>\n      <td>40</td>\n    </tr>\n    <tr>\n      <th>2</th>\n      <td>1000003</td>\n      <td>銀閣寺（慈照寺）東求堂</td>\n      <td>京都市左京区銀閣寺町2</td>\n      <td>35.026864</td>\n      <td>135.798269</td>\n      <td>830</td>\n      <td>1700</td>\n      <td>8:30:00</td>\n      <td>17:00:00</td>\n      <td>510</td>\n      <td>1020</td>\n      <td>40.0</td>\n      <td>40</td>\n    </tr>\n    <tr>\n      <th>3</th>\n      <td>1000010</td>\n      <td>下鴨神社（賀茂御祖神社）東本殿西本殿</td>\n      <td>京都市左京区下鴨泉川町59</td>\n      <td>35.034883</td>\n      <td>135.771905</td>\n      <td>630</td>\n      <td>1700</td>\n      <td>6:30:00</td>\n      <td>17:00:00</td>\n      <td>390</td>\n      <td>1020</td>\n      <td>30.0</td>\n      <td>30</td>\n    </tr>\n    <tr>\n      <th>4</th>\n      <td>1000017</td>\n      <td>東福寺三門</td>\n      <td>本町15丁目778</td>\n      <td>34.977097</td>\n      <td>135.774106</td>\n      <td>900</td>\n      <td>1600</td>\n      <td>9:00:00</td>\n      <td>16:00:00</td>\n      <td>540</td>\n      <td>960</td>\n      <td>20.0</td>\n      <td>20</td>\n    </tr>\n    <tr>\n      <th>...</th>\n      <td>...</td>\n      <td>...</td>\n      <td>...</td>\n      <td>...</td>\n      <td>...</td>\n      <td>...</td>\n      <td>...</td>\n      <td>...</td>\n      <td>...</td>\n      <td>...</td>\n      <td>...</td>\n      <td>...</td>\n      <td>...</td>\n    </tr>\n    <tr>\n      <th>79</th>\n      <td>7000011</td>\n      <td>名勝大沢池</td>\n      <td>右京区嵯峨大沢町４番地</td>\n      <td>35.028300</td>\n      <td>135.677945</td>\n      <td>600</td>\n      <td>1900</td>\n      <td>6:00:00</td>\n      <td>19:00:00</td>\n      <td>360</td>\n      <td>1140</td>\n      <td>45.0</td>\n      <td>45</td>\n    </tr>\n    <tr>\n      <th>80</th>\n      <td>7000064</td>\n      <td>知恩院紫雲水</td>\n      <td>東山区林下町400</td>\n      <td>35.006161</td>\n      <td>135.783806</td>\n      <td>900</td>\n      <td>1630</td>\n      <td>9:00:00</td>\n      <td>16:30:00</td>\n      <td>540</td>\n      <td>990</td>\n      <td>NaN</td>\n      <td>33</td>\n    </tr>\n    <tr>\n      <th>81</th>\n      <td>8000001</td>\n      <td>嵐山通船</td>\n      <td>南乗船場・京都市西京区嵐山山中町/北乗船場・京都市右京区嵯峨天竜寺芒ノ馬場町</td>\n      <td>35.009449</td>\n      <td>135.666773</td>\n      <td>900</td>\n      <td>1700</td>\n      <td>9:00:00</td>\n      <td>17:00:00</td>\n      <td>540</td>\n      <td>1020</td>\n      <td>30.0</td>\n      <td>30</td>\n    </tr>\n    <tr>\n      <th>82</th>\n      <td>8000022</td>\n      <td>知恩院七不思議</td>\n      <td>東山区林下町400</td>\n      <td>35.006161</td>\n      <td>135.783806</td>\n      <td>900</td>\n      <td>1630</td>\n      <td>9:00:00</td>\n      <td>16:30:00</td>\n      <td>540</td>\n      <td>990</td>\n      <td>NaN</td>\n      <td>33</td>\n    </tr>\n    <tr>\n      <th>83</th>\n      <td>8000026</td>\n      <td>嵯峨野トロッコ列車</td>\n      <td>京都市右京区嵯峨天龍寺車道町</td>\n      <td>35.018158</td>\n      <td>135.680484</td>\n      <td>900</td>\n      <td>1730</td>\n      <td>9:00:00</td>\n      <td>17:30:00</td>\n      <td>540</td>\n      <td>1050</td>\n      <td>25.0</td>\n      <td>25</td>\n    </tr>\n  </tbody>\n</table>\n<p>84 rows × 13 columns</p>\n</div>"
     },
     "execution_count": 21,
     "metadata": {},
     "output_type": "execute_result"
    }
   ],
   "source": [
    "places = pd.read_csv('./kyoto-geocoded-3.csv')\n",
    "places"
   ],
   "metadata": {
    "collapsed": false,
    "pycharm": {
     "name": "#%%\n"
    }
   }
  },
  {
   "cell_type": "code",
   "execution_count": 22,
   "outputs": [],
   "source": [
    "time_to_spend = places.set_index('Name')['time_to_spend'].to_dict()\n",
    "open_time_min = places.set_index('Name')['open_time_min'].to_dict()\n",
    "close_time_min = places.set_index('Name')['close_time_min'].to_dict()\n",
    "name_list = places['Name'].to_list()"
   ],
   "metadata": {
    "collapsed": false,
    "pycharm": {
     "name": "#%%\n"
    }
   }
  },
  {
   "cell_type": "code",
   "execution_count": 23,
   "outputs": [],
   "source": [
    "def manhattan_dist(lat1, lng1, lat2, lng2):\n",
    "    dist_x = np.abs(lng1 - lng2) * 91287.7885\n",
    "    dist_y = np.abs(lat1 - lat2) * 110940.5844\n",
    "    return dist_x + dist_y"
   ],
   "metadata": {
    "collapsed": false,
    "pycharm": {
     "name": "#%%\n"
    }
   }
  },
  {
   "cell_type": "code",
   "execution_count": 24,
   "outputs": [],
   "source": [
    "matrix = dict()\n",
    "for f_idx, f_row in places.iterrows():\n",
    "    for t_idx, t_row in places.iterrows():\n",
    "        distance = manhattan_dist(f_row.lat, f_row.lng, t_row.lat, t_row.lng)\n",
    "        matrix[(f_row['Name'], t_row['Name'])] = (np.ceil(15 * distance / 1000))"
   ],
   "metadata": {
    "collapsed": false,
    "pycharm": {
     "name": "#%%\n"
    }
   }
  },
  {
   "cell_type": "code",
   "execution_count": 25,
   "outputs": [],
   "source": [
    "class NodeManager:\n",
    "    def __init__(self, names):\n",
    "        self.names = names\n",
    "        self.n = len(self.names)\n",
    "        self.nodes = list(range(self.n))\n",
    "\n",
    "        self.name_map_node = dict(zip(self.names, self.nodes))\n",
    "        self.node_map_name = {v: k for k, v in self.name_map_node.items()}\n",
    "\n",
    "    def node_to_name(self, node):\n",
    "        return self.node_map_name[node]\n",
    "\n",
    "    def name_to_node(self, name):\n",
    "        return self.name_map_node[name]"
   ],
   "metadata": {
    "collapsed": false,
    "pycharm": {
     "name": "#%%\n"
    }
   }
  },
  {
   "cell_type": "code",
   "execution_count": 26,
   "outputs": [],
   "source": [
    "node_manager = NodeManager(name_list)"
   ],
   "metadata": {
    "collapsed": false,
    "pycharm": {
     "name": "#%%\n"
    }
   }
  },
  {
   "cell_type": "code",
   "execution_count": 27,
   "outputs": [],
   "source": [
    "from ortools.constraint_solver import pywrapcp\n",
    "\n",
    "index_manager = pywrapcp.RoutingIndexManager(node_manager.n, 1, node_manager.name_to_node('京都駅'))"
   ],
   "metadata": {
    "collapsed": false,
    "pycharm": {
     "name": "#%%\n"
    }
   }
  },
  {
   "cell_type": "code",
   "execution_count": 28,
   "outputs": [],
   "source": [
    "routing = pywrapcp.RoutingModel(index_manager)"
   ],
   "metadata": {
    "collapsed": false,
    "pycharm": {
     "name": "#%%\n"
    }
   }
  },
  {
   "cell_type": "code",
   "execution_count": 29,
   "outputs": [],
   "source": [
    "def time_callback(from_index, to_index):\n",
    "    from_node = index_manager.IndexToNode(from_index)\n",
    "    to_node = index_manager.IndexToNode(to_index)\n",
    "    from_name = node_manager.node_to_name(from_node)\n",
    "    to_name = node_manager.node_to_name(to_node)\n",
    "\n",
    "    return matrix[from_name, to_name] + time_to_spend[from_name]"
   ],
   "metadata": {
    "collapsed": false,
    "pycharm": {
     "name": "#%%\n"
    }
   }
  },
  {
   "cell_type": "code",
   "execution_count": 30,
   "outputs": [],
   "source": [
    "transit_callback_index = routing.RegisterTransitCallback(time_callback)\n",
    "routing.SetArcCostEvaluatorOfAllVehicles(transit_callback_index)"
   ],
   "metadata": {
    "collapsed": false,
    "pycharm": {
     "name": "#%%\n"
    }
   }
  },
  {
   "cell_type": "code",
   "execution_count": 31,
   "outputs": [],
   "source": [
    "for i in node_manager.names:\n",
    "    if i == '京都駅':\n",
    "        continue\n",
    "    index = index_manager.NodeToIndex(node_manager.name_to_node(i))\n",
    "    routing.AddDisjunction([index], 10_000)"
   ],
   "metadata": {
    "collapsed": false,
    "pycharm": {
     "name": "#%%\n"
    }
   }
  },
  {
   "cell_type": "code",
   "execution_count": 32,
   "outputs": [],
   "source": [
    "routing.AddDimension(\n",
    "    transit_callback_index,\n",
    "    60,\n",
    "    60 * 20,\n",
    "    False,\n",
    "    'Time'\n",
    ")\n",
    "time_dimension = routing.GetDimensionOrDie('Time')"
   ],
   "metadata": {
    "collapsed": false,
    "pycharm": {
     "name": "#%%\n"
    }
   }
  },
  {
   "cell_type": "code",
   "execution_count": 33,
   "outputs": [],
   "source": [
    "for i in node_manager.names:\n",
    "    index = index_manager.NodeToIndex(node_manager.name_to_node(i))\n",
    "    open_time = 330.0 if np.isnan(open_time_min[i]) else open_time_min[i]\n",
    "    close_time = 1439.0 if np.isnan(close_time_min[i]) else close_time_min[i]\n",
    "    # print(open_time, close_time)\n",
    "    time_dimension.CumulVar(index).SetRange(int(open_time), int(close_time))"
   ],
   "metadata": {
    "collapsed": false,
    "pycharm": {
     "name": "#%%\n"
    }
   }
  },
  {
   "cell_type": "code",
   "execution_count": 34,
   "outputs": [],
   "source": [
    "from ortools.constraint_solver import routing_enums_pb2\n",
    "\n",
    "search_params = pywrapcp.DefaultRoutingSearchParameters()\n",
    "search_params.time_limit.seconds = 10\n",
    "search_params.local_search_metaheuristic = (routing_enums_pb2.LocalSearchMetaheuristic.GUIDED_LOCAL_SEARCH)"
   ],
   "metadata": {
    "collapsed": false,
    "pycharm": {
     "name": "#%%\n"
    }
   }
  },
  {
   "cell_type": "code",
   "execution_count": 35,
   "outputs": [],
   "source": [
    "solution = routing.SolveWithParameters(search_params)\n",
    "\n"
   ],
   "metadata": {
    "collapsed": false,
    "pycharm": {
     "name": "#%%\n"
    }
   }
  },
  {
   "cell_type": "code",
   "execution_count": 38,
   "outputs": [
    {
     "name": "stdout",
     "output_type": "stream",
     "text": [
      "京都駅: 5:30\n",
      "水火天満宮菅公影向松: 7:07\n",
      "下鴨神社（賀茂御祖神社）東本殿西本殿: 8:08\n",
      "三福寺地蔵菩薩像: 9:22\n",
      "天授庵絹本著色細川幽斎像同夫人像: 10:07\n",
      "南禅寺方丈: 10:37\n",
      "知恩院濡髪大明神: 11:28\n",
      "知恩院七不思議: 11:38\n",
      "知恩院紫雲水: 12:11\n",
      "建仁寺方丈: 13:08\n",
      "蓮光寺駒止地蔵菩薩像: 14:05\n",
      "蓮光寺阿弥陀如来像: 14:15\n",
      "南岩倉明王院不動寺空海作「石像不動明王」: 14:36\n",
      "安養寺木造阿弥陀如来像: 14:53\n",
      "廬山寺慈恵大師自筆遺告: 15:36\n",
      "廬山寺木造如意輪観音半跏像: 15:46\n",
      "廬山寺絹本著色普賢十羅刹女像: 15:56\n",
      "北野天満宮影向松: 17:00\n",
      "北野天満宮東門の椋: 17:30\n",
      "京都駅: 19:51\n"
     ]
    }
   ],
   "source": [
    "import math\n",
    "\n",
    "def minutes2hm(n):\n",
    "    hour = math.floor(n / 60)\n",
    "    min = n % 60\n",
    "    return \"{0}:{1:02d}\".format(hour, min)\n",
    "\n",
    "def print_solution(routing, solution):\n",
    "    vehicle_id = 0\n",
    "    index = routing.Start(vehicle_id)\n",
    "    while not routing.IsEnd(index):\n",
    "        previous_index = index\n",
    "        name = node_manager.node_to_name(index_manager.IndexToNode(previous_index))\n",
    "        output = name + ': '\n",
    "        output += minutes2hm(solution.Value(time_dimension.CumulVar(index)))\n",
    "        print(output)\n",
    "        index = solution.Value(routing.NextVar(index))\n",
    "    print('京都駅:', minutes2hm(solution.Value(time_dimension.CumulVar(index))))\n",
    "\n",
    "print_solution(routing, solution)"
   ],
   "metadata": {
    "collapsed": false,
    "pycharm": {
     "name": "#%%\n"
    }
   }
  },
  {
   "cell_type": "code",
   "execution_count": 63,
   "outputs": [
    {
     "ename": "TypeError",
     "evalue": "Index(...) must be called with a collection of some kind, 'Name' was passed",
     "output_type": "error",
     "traceback": [
      "\u001B[0;31m---------------------------------------------------------------------------\u001B[0m",
      "\u001B[0;31mTypeError\u001B[0m                                 Traceback (most recent call last)",
      "Input \u001B[0;32mIn [63]\u001B[0m, in \u001B[0;36m<cell line: 19>\u001B[0;34m()\u001B[0m\n\u001B[1;32m     16\u001B[0m         index \u001B[38;5;241m=\u001B[39m solution\u001B[38;5;241m.\u001B[39mValue(routing\u001B[38;5;241m.\u001B[39mNextVar(index))\n\u001B[1;32m     17\u001B[0m     \u001B[38;5;28;01mreturn\u001B[39;00m pd\u001B[38;5;241m.\u001B[39mDataFrame(result, columns\u001B[38;5;241m=\u001B[39m[\u001B[38;5;124m'\u001B[39m\u001B[38;5;124mName\u001B[39m\u001B[38;5;124m'\u001B[39m, \u001B[38;5;124m'\u001B[39m\u001B[38;5;124mTime\u001B[39m\u001B[38;5;124m'\u001B[39m, \u001B[38;5;124m'\u001B[39m\u001B[38;5;124mLat\u001B[39m\u001B[38;5;124m'\u001B[39m, \u001B[38;5;124m'\u001B[39m\u001B[38;5;124mLng\u001B[39m\u001B[38;5;124m'\u001B[39m], index\u001B[38;5;241m=\u001B[39m\u001B[38;5;124m'\u001B[39m\u001B[38;5;124mName\u001B[39m\u001B[38;5;124m'\u001B[39m)\n\u001B[0;32m---> 19\u001B[0m res \u001B[38;5;241m=\u001B[39m \u001B[43msolution_to_csv\u001B[49m\u001B[43m(\u001B[49m\u001B[43mrouting\u001B[49m\u001B[43m,\u001B[49m\u001B[43m \u001B[49m\u001B[43msolution\u001B[49m\u001B[43m)\u001B[49m\n",
      "Input \u001B[0;32mIn [63]\u001B[0m, in \u001B[0;36msolution_to_csv\u001B[0;34m(routing, solution)\u001B[0m\n\u001B[1;32m     14\u001B[0m     result\u001B[38;5;241m.\u001B[39mappend([name, time, lat, lng])\n\u001B[1;32m     16\u001B[0m     index \u001B[38;5;241m=\u001B[39m solution\u001B[38;5;241m.\u001B[39mValue(routing\u001B[38;5;241m.\u001B[39mNextVar(index))\n\u001B[0;32m---> 17\u001B[0m \u001B[38;5;28;01mreturn\u001B[39;00m \u001B[43mpd\u001B[49m\u001B[38;5;241;43m.\u001B[39;49m\u001B[43mDataFrame\u001B[49m\u001B[43m(\u001B[49m\u001B[43mresult\u001B[49m\u001B[43m,\u001B[49m\u001B[43m \u001B[49m\u001B[43mcolumns\u001B[49m\u001B[38;5;241;43m=\u001B[39;49m\u001B[43m[\u001B[49m\u001B[38;5;124;43m'\u001B[39;49m\u001B[38;5;124;43mName\u001B[39;49m\u001B[38;5;124;43m'\u001B[39;49m\u001B[43m,\u001B[49m\u001B[43m \u001B[49m\u001B[38;5;124;43m'\u001B[39;49m\u001B[38;5;124;43mTime\u001B[39;49m\u001B[38;5;124;43m'\u001B[39;49m\u001B[43m,\u001B[49m\u001B[43m \u001B[49m\u001B[38;5;124;43m'\u001B[39;49m\u001B[38;5;124;43mLat\u001B[39;49m\u001B[38;5;124;43m'\u001B[39;49m\u001B[43m,\u001B[49m\u001B[43m \u001B[49m\u001B[38;5;124;43m'\u001B[39;49m\u001B[38;5;124;43mLng\u001B[39;49m\u001B[38;5;124;43m'\u001B[39;49m\u001B[43m]\u001B[49m\u001B[43m,\u001B[49m\u001B[43m \u001B[49m\u001B[43mindex\u001B[49m\u001B[38;5;241;43m=\u001B[39;49m\u001B[38;5;124;43m'\u001B[39;49m\u001B[38;5;124;43mName\u001B[39;49m\u001B[38;5;124;43m'\u001B[39;49m\u001B[43m)\u001B[49m\n",
      "File \u001B[0;32m~/src/github.com/na9amura/try-or-tools/venv/lib/python3.9/site-packages/pandas/core/frame.py:729\u001B[0m, in \u001B[0;36mDataFrame.__init__\u001B[0;34m(self, data, index, columns, dtype, copy)\u001B[0m\n\u001B[1;32m    720\u001B[0m         columns \u001B[38;5;241m=\u001B[39m ensure_index(columns)  \u001B[38;5;66;03m# type: ignore[arg-type]\u001B[39;00m\n\u001B[1;32m    721\u001B[0m     arrays, columns, index \u001B[38;5;241m=\u001B[39m nested_data_to_arrays(\n\u001B[1;32m    722\u001B[0m         \u001B[38;5;66;03m# error: Argument 3 to \"nested_data_to_arrays\" has incompatible\u001B[39;00m\n\u001B[1;32m    723\u001B[0m         \u001B[38;5;66;03m# type \"Optional[Collection[Any]]\"; expected \"Optional[Index]\"\u001B[39;00m\n\u001B[0;32m   (...)\u001B[0m\n\u001B[1;32m    727\u001B[0m         dtype,\n\u001B[1;32m    728\u001B[0m     )\n\u001B[0;32m--> 729\u001B[0m     mgr \u001B[38;5;241m=\u001B[39m \u001B[43marrays_to_mgr\u001B[49m\u001B[43m(\u001B[49m\n\u001B[1;32m    730\u001B[0m \u001B[43m        \u001B[49m\u001B[43marrays\u001B[49m\u001B[43m,\u001B[49m\n\u001B[1;32m    731\u001B[0m \u001B[43m        \u001B[49m\u001B[43mcolumns\u001B[49m\u001B[43m,\u001B[49m\n\u001B[1;32m    732\u001B[0m \u001B[43m        \u001B[49m\u001B[43mindex\u001B[49m\u001B[43m,\u001B[49m\n\u001B[1;32m    733\u001B[0m \u001B[43m        \u001B[49m\u001B[43mdtype\u001B[49m\u001B[38;5;241;43m=\u001B[39;49m\u001B[43mdtype\u001B[49m\u001B[43m,\u001B[49m\n\u001B[1;32m    734\u001B[0m \u001B[43m        \u001B[49m\u001B[43mtyp\u001B[49m\u001B[38;5;241;43m=\u001B[39;49m\u001B[43mmanager\u001B[49m\u001B[43m,\u001B[49m\n\u001B[1;32m    735\u001B[0m \u001B[43m    \u001B[49m\u001B[43m)\u001B[49m\n\u001B[1;32m    736\u001B[0m \u001B[38;5;28;01melse\u001B[39;00m:\n\u001B[1;32m    737\u001B[0m     mgr \u001B[38;5;241m=\u001B[39m ndarray_to_mgr(\n\u001B[1;32m    738\u001B[0m         data,\n\u001B[1;32m    739\u001B[0m         index,\n\u001B[0;32m   (...)\u001B[0m\n\u001B[1;32m    743\u001B[0m         typ\u001B[38;5;241m=\u001B[39mmanager,\n\u001B[1;32m    744\u001B[0m     )\n",
      "File \u001B[0;32m~/src/github.com/na9amura/try-or-tools/venv/lib/python3.9/site-packages/pandas/core/internals/construction.py:122\u001B[0m, in \u001B[0;36marrays_to_mgr\u001B[0;34m(arrays, columns, index, dtype, verify_integrity, typ, consolidate)\u001B[0m\n\u001B[1;32m    120\u001B[0m     index \u001B[38;5;241m=\u001B[39m _extract_index(arrays)\n\u001B[1;32m    121\u001B[0m \u001B[38;5;28;01melse\u001B[39;00m:\n\u001B[0;32m--> 122\u001B[0m     index \u001B[38;5;241m=\u001B[39m \u001B[43mensure_index\u001B[49m\u001B[43m(\u001B[49m\u001B[43mindex\u001B[49m\u001B[43m)\u001B[49m\n\u001B[1;32m    124\u001B[0m \u001B[38;5;66;03m# don't force copy because getting jammed in an ndarray anyway\u001B[39;00m\n\u001B[1;32m    125\u001B[0m arrays \u001B[38;5;241m=\u001B[39m _homogenize(arrays, index, dtype)\n",
      "File \u001B[0;32m~/src/github.com/na9amura/try-or-tools/venv/lib/python3.9/site-packages/pandas/core/indexes/base.py:7043\u001B[0m, in \u001B[0;36mensure_index\u001B[0;34m(index_like, copy)\u001B[0m\n\u001B[1;32m   7041\u001B[0m         \u001B[38;5;28;01mreturn\u001B[39;00m Index\u001B[38;5;241m.\u001B[39m_with_infer(index_like, copy\u001B[38;5;241m=\u001B[39mcopy, tupleize_cols\u001B[38;5;241m=\u001B[39m\u001B[38;5;28;01mFalse\u001B[39;00m)\n\u001B[1;32m   7042\u001B[0m \u001B[38;5;28;01melse\u001B[39;00m:\n\u001B[0;32m-> 7043\u001B[0m     \u001B[38;5;28;01mreturn\u001B[39;00m \u001B[43mIndex\u001B[49m\u001B[38;5;241;43m.\u001B[39;49m\u001B[43m_with_infer\u001B[49m\u001B[43m(\u001B[49m\u001B[43mindex_like\u001B[49m\u001B[43m,\u001B[49m\u001B[43m \u001B[49m\u001B[43mcopy\u001B[49m\u001B[38;5;241;43m=\u001B[39;49m\u001B[43mcopy\u001B[49m\u001B[43m)\u001B[49m\n",
      "File \u001B[0;32m~/src/github.com/na9amura/try-or-tools/venv/lib/python3.9/site-packages/pandas/core/indexes/base.py:680\u001B[0m, in \u001B[0;36mIndex._with_infer\u001B[0;34m(cls, *args, **kwargs)\u001B[0m\n\u001B[1;32m    678\u001B[0m \u001B[38;5;28;01mwith\u001B[39;00m warnings\u001B[38;5;241m.\u001B[39mcatch_warnings():\n\u001B[1;32m    679\u001B[0m     warnings\u001B[38;5;241m.\u001B[39mfilterwarnings(\u001B[38;5;124m\"\u001B[39m\u001B[38;5;124mignore\u001B[39m\u001B[38;5;124m\"\u001B[39m, \u001B[38;5;124m\"\u001B[39m\u001B[38;5;124m.*the Index constructor\u001B[39m\u001B[38;5;124m\"\u001B[39m, \u001B[38;5;167;01mFutureWarning\u001B[39;00m)\n\u001B[0;32m--> 680\u001B[0m     result \u001B[38;5;241m=\u001B[39m \u001B[38;5;28;43mcls\u001B[39;49m\u001B[43m(\u001B[49m\u001B[38;5;241;43m*\u001B[39;49m\u001B[43margs\u001B[49m\u001B[43m,\u001B[49m\u001B[43m \u001B[49m\u001B[38;5;241;43m*\u001B[39;49m\u001B[38;5;241;43m*\u001B[39;49m\u001B[43mkwargs\u001B[49m\u001B[43m)\u001B[49m\n\u001B[1;32m    682\u001B[0m \u001B[38;5;28;01mif\u001B[39;00m result\u001B[38;5;241m.\u001B[39mdtype \u001B[38;5;241m==\u001B[39m _dtype_obj \u001B[38;5;129;01mand\u001B[39;00m \u001B[38;5;129;01mnot\u001B[39;00m result\u001B[38;5;241m.\u001B[39m_is_multi:\n\u001B[1;32m    683\u001B[0m     \u001B[38;5;66;03m# error: Argument 1 to \"maybe_convert_objects\" has incompatible type\u001B[39;00m\n\u001B[1;32m    684\u001B[0m     \u001B[38;5;66;03m# \"Union[ExtensionArray, ndarray[Any, Any]]\"; expected\u001B[39;00m\n\u001B[1;32m    685\u001B[0m     \u001B[38;5;66;03m# \"ndarray[Any, Any]\"\u001B[39;00m\n\u001B[1;32m    686\u001B[0m     values \u001B[38;5;241m=\u001B[39m lib\u001B[38;5;241m.\u001B[39mmaybe_convert_objects(result\u001B[38;5;241m.\u001B[39m_values)  \u001B[38;5;66;03m# type: ignore[arg-type]\u001B[39;00m\n",
      "File \u001B[0;32m~/src/github.com/na9amura/try-or-tools/venv/lib/python3.9/site-packages/pandas/core/indexes/base.py:508\u001B[0m, in \u001B[0;36mIndex.__new__\u001B[0;34m(cls, data, dtype, copy, name, tupleize_cols, **kwargs)\u001B[0m\n\u001B[1;32m    505\u001B[0m     \u001B[38;5;28;01mreturn\u001B[39;00m klass\u001B[38;5;241m.\u001B[39m_simple_new(arr, name)\n\u001B[1;32m    507\u001B[0m \u001B[38;5;28;01melif\u001B[39;00m is_scalar(data):\n\u001B[0;32m--> 508\u001B[0m     \u001B[38;5;28;01mraise\u001B[39;00m \u001B[38;5;28mcls\u001B[39m\u001B[38;5;241m.\u001B[39m_scalar_data_error(data)\n\u001B[1;32m    509\u001B[0m \u001B[38;5;28;01melif\u001B[39;00m \u001B[38;5;28mhasattr\u001B[39m(data, \u001B[38;5;124m\"\u001B[39m\u001B[38;5;124m__array__\u001B[39m\u001B[38;5;124m\"\u001B[39m):\n\u001B[1;32m    510\u001B[0m     \u001B[38;5;28;01mreturn\u001B[39;00m Index(np\u001B[38;5;241m.\u001B[39masarray(data), dtype\u001B[38;5;241m=\u001B[39mdtype, copy\u001B[38;5;241m=\u001B[39mcopy, name\u001B[38;5;241m=\u001B[39mname, \u001B[38;5;241m*\u001B[39m\u001B[38;5;241m*\u001B[39mkwargs)\n",
      "\u001B[0;31mTypeError\u001B[0m: Index(...) must be called with a collection of some kind, 'Name' was passed"
     ]
    }
   ],
   "source": [
    "lats = places.set_index('Name')['lat'].to_dict()\n",
    "lngs = places.set_index('Name')['lng'].to_dict()\n",
    "\n",
    "def solution_to_csv(routing, solution):\n",
    "    vehicle_id = 0\n",
    "    index = routing.Start(vehicle_id)\n",
    "    result = []\n",
    "    while not routing.IsEnd(index):\n",
    "        previous_index = index\n",
    "        name = node_manager.node_to_name(index_manager.IndexToNode(previous_index))\n",
    "        time = minutes2hm(solution.Value(time_dimension.CumulVar(index)))\n",
    "        lat = lats[name]\n",
    "        lng = lngs[name]\n",
    "        result.append([name, time, lat, lng])\n",
    "\n",
    "        index = solution.Value(routing.NextVar(index))\n",
    "    return pd.DataFrame(result, columns=['Name', 'Time', 'Lat', 'Lng'], index='Name')\n",
    "\n",
    "res = solution_to_csv(routing, solution)"
   ],
   "metadata": {
    "collapsed": false,
    "pycharm": {
     "name": "#%%\n"
    }
   }
  },
  {
   "cell_type": "code",
   "execution_count": 64,
   "outputs": [
    {
     "data": {
      "text/plain": "                    Name   Time        Lat         Lng\n0                    京都駅   5:30  34.980983  135.754836\n1             水火天満宮菅公影向松   7:07  35.036738  135.752018\n2     下鴨神社（賀茂御祖神社）東本殿西本殿   8:08  35.034883  135.771905\n3               三福寺地蔵菩薩像   9:22  35.013157  135.777185\n4       天授庵絹本著色細川幽斎像同夫人像  10:07  35.010271  135.791799\n5                  南禅寺方丈  10:37  35.010271  135.791799\n6               知恩院濡髪大明神  11:28  35.006161  135.783806\n7                知恩院七不思議  11:38  35.006161  135.783806\n8                 知恩院紫雲水  12:11  35.006161  135.783806\n9                  建仁寺方丈  13:08  35.000455  135.773639\n10            蓮光寺駒止地蔵菩薩像  14:05  34.994127  135.763956\n11             蓮光寺阿弥陀如来像  14:15  34.994127  135.763956\n12  南岩倉明王院不動寺空海作「石像不動明王」  14:36  34.998879  135.765557\n13           安養寺木造阿弥陀如来像  14:53  35.005769  135.767334\n14           廬山寺慈恵大師自筆遺告  15:36  35.024562  135.768324\n15         廬山寺木造如意輪観音半跏像  15:46  35.024562  135.768324\n16        廬山寺絹本著色普賢十羅刹女像  15:56  35.024562  135.768324\n17              北野天満宮影向松  17:00  35.029925  135.735813\n18             北野天満宮東門の椋  17:30  35.029925  135.735813",
      "text/html": "<div>\n<style scoped>\n    .dataframe tbody tr th:only-of-type {\n        vertical-align: middle;\n    }\n\n    .dataframe tbody tr th {\n        vertical-align: top;\n    }\n\n    .dataframe thead th {\n        text-align: right;\n    }\n</style>\n<table border=\"1\" class=\"dataframe\">\n  <thead>\n    <tr style=\"text-align: right;\">\n      <th></th>\n      <th>Name</th>\n      <th>Time</th>\n      <th>Lat</th>\n      <th>Lng</th>\n    </tr>\n  </thead>\n  <tbody>\n    <tr>\n      <th>0</th>\n      <td>京都駅</td>\n      <td>5:30</td>\n      <td>34.980983</td>\n      <td>135.754836</td>\n    </tr>\n    <tr>\n      <th>1</th>\n      <td>水火天満宮菅公影向松</td>\n      <td>7:07</td>\n      <td>35.036738</td>\n      <td>135.752018</td>\n    </tr>\n    <tr>\n      <th>2</th>\n      <td>下鴨神社（賀茂御祖神社）東本殿西本殿</td>\n      <td>8:08</td>\n      <td>35.034883</td>\n      <td>135.771905</td>\n    </tr>\n    <tr>\n      <th>3</th>\n      <td>三福寺地蔵菩薩像</td>\n      <td>9:22</td>\n      <td>35.013157</td>\n      <td>135.777185</td>\n    </tr>\n    <tr>\n      <th>4</th>\n      <td>天授庵絹本著色細川幽斎像同夫人像</td>\n      <td>10:07</td>\n      <td>35.010271</td>\n      <td>135.791799</td>\n    </tr>\n    <tr>\n      <th>5</th>\n      <td>南禅寺方丈</td>\n      <td>10:37</td>\n      <td>35.010271</td>\n      <td>135.791799</td>\n    </tr>\n    <tr>\n      <th>6</th>\n      <td>知恩院濡髪大明神</td>\n      <td>11:28</td>\n      <td>35.006161</td>\n      <td>135.783806</td>\n    </tr>\n    <tr>\n      <th>7</th>\n      <td>知恩院七不思議</td>\n      <td>11:38</td>\n      <td>35.006161</td>\n      <td>135.783806</td>\n    </tr>\n    <tr>\n      <th>8</th>\n      <td>知恩院紫雲水</td>\n      <td>12:11</td>\n      <td>35.006161</td>\n      <td>135.783806</td>\n    </tr>\n    <tr>\n      <th>9</th>\n      <td>建仁寺方丈</td>\n      <td>13:08</td>\n      <td>35.000455</td>\n      <td>135.773639</td>\n    </tr>\n    <tr>\n      <th>10</th>\n      <td>蓮光寺駒止地蔵菩薩像</td>\n      <td>14:05</td>\n      <td>34.994127</td>\n      <td>135.763956</td>\n    </tr>\n    <tr>\n      <th>11</th>\n      <td>蓮光寺阿弥陀如来像</td>\n      <td>14:15</td>\n      <td>34.994127</td>\n      <td>135.763956</td>\n    </tr>\n    <tr>\n      <th>12</th>\n      <td>南岩倉明王院不動寺空海作「石像不動明王」</td>\n      <td>14:36</td>\n      <td>34.998879</td>\n      <td>135.765557</td>\n    </tr>\n    <tr>\n      <th>13</th>\n      <td>安養寺木造阿弥陀如来像</td>\n      <td>14:53</td>\n      <td>35.005769</td>\n      <td>135.767334</td>\n    </tr>\n    <tr>\n      <th>14</th>\n      <td>廬山寺慈恵大師自筆遺告</td>\n      <td>15:36</td>\n      <td>35.024562</td>\n      <td>135.768324</td>\n    </tr>\n    <tr>\n      <th>15</th>\n      <td>廬山寺木造如意輪観音半跏像</td>\n      <td>15:46</td>\n      <td>35.024562</td>\n      <td>135.768324</td>\n    </tr>\n    <tr>\n      <th>16</th>\n      <td>廬山寺絹本著色普賢十羅刹女像</td>\n      <td>15:56</td>\n      <td>35.024562</td>\n      <td>135.768324</td>\n    </tr>\n    <tr>\n      <th>17</th>\n      <td>北野天満宮影向松</td>\n      <td>17:00</td>\n      <td>35.029925</td>\n      <td>135.735813</td>\n    </tr>\n    <tr>\n      <th>18</th>\n      <td>北野天満宮東門の椋</td>\n      <td>17:30</td>\n      <td>35.029925</td>\n      <td>135.735813</td>\n    </tr>\n  </tbody>\n</table>\n</div>"
     },
     "execution_count": 64,
     "metadata": {},
     "output_type": "execute_result"
    }
   ],
   "source": [
    "res\n"
   ],
   "metadata": {
    "collapsed": false,
    "pycharm": {
     "name": "#%%\n"
    }
   }
  },
  {
   "cell_type": "code",
   "execution_count": 65,
   "outputs": [],
   "source": [
    "res.to_csv('./kyoto-route.csv', index_label = [\"ID\"])\n",
    "\n"
   ],
   "metadata": {
    "collapsed": false,
    "pycharm": {
     "name": "#%%\n"
    }
   }
  }
 ],
 "metadata": {
  "kernelspec": {
   "display_name": "Python 3",
   "language": "python",
   "name": "python3"
  },
  "language_info": {
   "codemirror_mode": {
    "name": "ipython",
    "version": 2
   },
   "file_extension": ".py",
   "mimetype": "text/x-python",
   "name": "python",
   "nbconvert_exporter": "python",
   "pygments_lexer": "ipython2",
   "version": "2.7.6"
  }
 },
 "nbformat": 4,
 "nbformat_minor": 0
}