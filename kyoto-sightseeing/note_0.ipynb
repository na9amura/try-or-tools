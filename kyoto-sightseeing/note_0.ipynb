{
 "cells": [
  {
   "cell_type": "code",
   "execution_count": 1,
   "metadata": {
    "collapsed": true
   },
   "outputs": [],
   "source": [
    "import geocoder\n",
    "import googlemaps\n",
    "import csv"
   ]
  },
  {
   "cell_type": "code",
   "execution_count": 3,
   "outputs": [
    {
     "data": {
      "text/plain": "<googlemaps.client.Client at 0x105fae0d0>"
     },
     "execution_count": 3,
     "metadata": {},
     "output_type": "execute_result"
    }
   ],
   "source": [
    "gmaps = None\n",
    "with open('./.googleapi.txt', mode='r') as f:\n",
    "    key = f.readline().replace('\\n', '')\n",
    "    gmaps = googlemaps.Client(key=key)\n",
    "\n",
    "gmaps"
   ],
   "metadata": {
    "collapsed": false,
    "pycharm": {
     "name": "#%%\n"
    }
   }
  },
  {
   "cell_type": "code",
   "execution_count": 15,
   "outputs": [
    {
     "data": {
      "text/plain": "[{'address_components': [{'long_name': '2',\n    'short_name': '2',\n    'types': ['premise']},\n   {'long_name': 'Ginkakujichō',\n    'short_name': 'Ginkakujichō',\n    'types': ['political', 'sublocality', 'sublocality_level_2']},\n   {'long_name': 'Sakyo Ward',\n    'short_name': 'Sakyo Ward',\n    'types': ['political', 'sublocality', 'sublocality_level_1']},\n   {'long_name': 'Kyoto',\n    'short_name': 'Kyoto',\n    'types': ['locality', 'political']},\n   {'long_name': 'Kyoto',\n    'short_name': 'Kyoto',\n    'types': ['administrative_area_level_1', 'political']},\n   {'long_name': 'Japan',\n    'short_name': 'JP',\n    'types': ['country', 'political']},\n   {'long_name': '606-8402',\n    'short_name': '606-8402',\n    'types': ['postal_code']}],\n  'formatted_address': '2 Ginkakujichō, Sakyo Ward, Kyoto, 606-8402, Japan',\n  'geometry': {'location': {'lat': 35.0268641, 'lng': 135.7982694},\n   'location_type': 'ROOFTOP',\n   'viewport': {'northeast': {'lat': 35.0282130802915,\n     'lng': 135.7996183802915},\n    'southwest': {'lat': 35.0255151197085, 'lng': 135.7969204197085}}},\n  'place_id': 'ChIJM-NdCwUJAWARImBDuSDOmII',\n  'plus_code': {'compound_code': '2QGX+P8 Kyoto, Japan',\n   'global_code': '8Q7Q2QGX+P8'},\n  'types': ['street_address']}]"
     },
     "execution_count": 15,
     "metadata": {},
     "output_type": "execute_result"
    }
   ],
   "source": [
    "res = gmaps.geocode('京都市左京区銀閣寺町2')\n",
    "res"
   ],
   "metadata": {
    "collapsed": false,
    "pycharm": {
     "name": "#%%\n"
    }
   }
  },
  {
   "cell_type": "code",
   "execution_count": 19,
   "outputs": [
    {
     "data": {
      "text/plain": "{'lat': 35.0268641, 'lng': 135.7982694}"
     },
     "execution_count": 19,
     "metadata": {},
     "output_type": "execute_result"
    }
   ],
   "source": [],
   "metadata": {
    "collapsed": false,
    "pycharm": {
     "name": "#%%\n"
    }
   }
  },
  {
   "cell_type": "code",
   "execution_count": 22,
   "outputs": [],
   "source": [
    "import numpy as np\n",
    "import pandas as pd"
   ],
   "metadata": {
    "collapsed": false,
    "pycharm": {
     "name": "#%%\n"
    }
   }
  },
  {
   "cell_type": "code",
   "execution_count": 23,
   "outputs": [],
   "source": [
    "df = pd.read_csv('./kyoto.csv')\n"
   ],
   "metadata": {
    "collapsed": false,
    "pycharm": {
     "name": "#%%\n"
    }
   }
  },
  {
   "cell_type": "code",
   "execution_count": 24,
   "outputs": [
    {
     "data": {
      "text/plain": "             ID                 Name         Address\n0     1000002.0          慈照寺（銀閣寺）　銀閣     京都市左京区銀閣寺町2\n1     1000003.0         銀閣寺（慈照寺）　東求堂     京都市左京区銀閣寺町2\n2     1000004.0               清水寺　本堂  京都市東山区清水一丁目294\n3     1000010.0  下鴨神社（賀茂御祖神社）東本殿　西本殿   京都市左京区下鴨泉川町59\n4     1000013.0           大徳寺　山門（三門）     京都市北区紫野大徳寺町\n..          ...                  ...             ...\n209  11000000.0                 甲塚古墳    右京区嵯峨甲塚町18-2\n210  11000000.0              嵯峨七ッ塚古墳    右京区北嵯峨洞ノ内町付近\n211  11000000.0               天皇の杜古墳       西京区御陵塚ノ越町\n212  11000000.0        福西古墳7号墳及び10号墳    西京区大枝北福西町4-2\n213  11000000.0                 蛇塚古墳        右京区太秦面影町\n\n[214 rows x 3 columns]",
      "text/html": "<div>\n<style scoped>\n    .dataframe tbody tr th:only-of-type {\n        vertical-align: middle;\n    }\n\n    .dataframe tbody tr th {\n        vertical-align: top;\n    }\n\n    .dataframe thead th {\n        text-align: right;\n    }\n</style>\n<table border=\"1\" class=\"dataframe\">\n  <thead>\n    <tr style=\"text-align: right;\">\n      <th></th>\n      <th>ID</th>\n      <th>Name</th>\n      <th>Address</th>\n    </tr>\n  </thead>\n  <tbody>\n    <tr>\n      <th>0</th>\n      <td>1000002.0</td>\n      <td>慈照寺（銀閣寺）　銀閣</td>\n      <td>京都市左京区銀閣寺町2</td>\n    </tr>\n    <tr>\n      <th>1</th>\n      <td>1000003.0</td>\n      <td>銀閣寺（慈照寺）　東求堂</td>\n      <td>京都市左京区銀閣寺町2</td>\n    </tr>\n    <tr>\n      <th>2</th>\n      <td>1000004.0</td>\n      <td>清水寺　本堂</td>\n      <td>京都市東山区清水一丁目294</td>\n    </tr>\n    <tr>\n      <th>3</th>\n      <td>1000010.0</td>\n      <td>下鴨神社（賀茂御祖神社）東本殿　西本殿</td>\n      <td>京都市左京区下鴨泉川町59</td>\n    </tr>\n    <tr>\n      <th>4</th>\n      <td>1000013.0</td>\n      <td>大徳寺　山門（三門）</td>\n      <td>京都市北区紫野大徳寺町</td>\n    </tr>\n    <tr>\n      <th>...</th>\n      <td>...</td>\n      <td>...</td>\n      <td>...</td>\n    </tr>\n    <tr>\n      <th>209</th>\n      <td>11000000.0</td>\n      <td>甲塚古墳</td>\n      <td>右京区嵯峨甲塚町18-2</td>\n    </tr>\n    <tr>\n      <th>210</th>\n      <td>11000000.0</td>\n      <td>嵯峨七ッ塚古墳</td>\n      <td>右京区北嵯峨洞ノ内町付近</td>\n    </tr>\n    <tr>\n      <th>211</th>\n      <td>11000000.0</td>\n      <td>天皇の杜古墳</td>\n      <td>西京区御陵塚ノ越町</td>\n    </tr>\n    <tr>\n      <th>212</th>\n      <td>11000000.0</td>\n      <td>福西古墳7号墳及び10号墳</td>\n      <td>西京区大枝北福西町4-2</td>\n    </tr>\n    <tr>\n      <th>213</th>\n      <td>11000000.0</td>\n      <td>蛇塚古墳</td>\n      <td>右京区太秦面影町</td>\n    </tr>\n  </tbody>\n</table>\n<p>214 rows × 3 columns</p>\n</div>"
     },
     "execution_count": 24,
     "metadata": {},
     "output_type": "execute_result"
    }
   ],
   "source": [
    "df"
   ],
   "metadata": {
    "collapsed": false,
    "pycharm": {
     "name": "#%%\n"
    }
   }
  },
  {
   "cell_type": "code",
   "execution_count": 30,
   "outputs": [],
   "source": [
    "# df.apply(lambda row: print(row), axis=1)"
   ],
   "metadata": {
    "collapsed": false,
    "pycharm": {
     "name": "#%%\n"
    }
   }
  },
  {
   "cell_type": "code",
   "execution_count": 29,
   "outputs": [
    {
     "data": {
      "text/plain": "            Address\n0       京都市左京区銀閣寺町2\n1       京都市左京区銀閣寺町2\n2    京都市東山区清水一丁目294\n3     京都市左京区下鴨泉川町59\n4       京都市北区紫野大徳寺町\n..              ...\n209    右京区嵯峨甲塚町18-2\n210    右京区北嵯峨洞ノ内町付近\n211       西京区御陵塚ノ越町\n212    西京区大枝北福西町4-2\n213        右京区太秦面影町\n\n[214 rows x 1 columns]",
      "text/html": "<div>\n<style scoped>\n    .dataframe tbody tr th:only-of-type {\n        vertical-align: middle;\n    }\n\n    .dataframe tbody tr th {\n        vertical-align: top;\n    }\n\n    .dataframe thead th {\n        text-align: right;\n    }\n</style>\n<table border=\"1\" class=\"dataframe\">\n  <thead>\n    <tr style=\"text-align: right;\">\n      <th></th>\n      <th>Address</th>\n    </tr>\n  </thead>\n  <tbody>\n    <tr>\n      <th>0</th>\n      <td>京都市左京区銀閣寺町2</td>\n    </tr>\n    <tr>\n      <th>1</th>\n      <td>京都市左京区銀閣寺町2</td>\n    </tr>\n    <tr>\n      <th>2</th>\n      <td>京都市東山区清水一丁目294</td>\n    </tr>\n    <tr>\n      <th>3</th>\n      <td>京都市左京区下鴨泉川町59</td>\n    </tr>\n    <tr>\n      <th>4</th>\n      <td>京都市北区紫野大徳寺町</td>\n    </tr>\n    <tr>\n      <th>...</th>\n      <td>...</td>\n    </tr>\n    <tr>\n      <th>209</th>\n      <td>右京区嵯峨甲塚町18-2</td>\n    </tr>\n    <tr>\n      <th>210</th>\n      <td>右京区北嵯峨洞ノ内町付近</td>\n    </tr>\n    <tr>\n      <th>211</th>\n      <td>西京区御陵塚ノ越町</td>\n    </tr>\n    <tr>\n      <th>212</th>\n      <td>西京区大枝北福西町4-2</td>\n    </tr>\n    <tr>\n      <th>213</th>\n      <td>右京区太秦面影町</td>\n    </tr>\n  </tbody>\n</table>\n<p>214 rows × 1 columns</p>\n</div>"
     },
     "execution_count": 29,
     "metadata": {},
     "output_type": "execute_result"
    }
   ],
   "source": [
    "df[['Address']]"
   ],
   "metadata": {
    "collapsed": false,
    "pycharm": {
     "name": "#%%\n"
    }
   }
  },
  {
   "cell_type": "code",
   "execution_count": 34,
   "outputs": [
    {
     "data": {
      "text/plain": "              0                    1               2          3           4\n0     1000002.0          慈照寺（銀閣寺）　銀閣     京都市左京区銀閣寺町2  35.026864  135.798269\n1     1000003.0         銀閣寺（慈照寺）　東求堂     京都市左京区銀閣寺町2  35.026864  135.798269\n2     1000004.0               清水寺　本堂  京都市東山区清水一丁目294  34.994962  135.784334\n3     1000010.0  下鴨神社（賀茂御祖神社）東本殿　西本殿   京都市左京区下鴨泉川町59  35.034883  135.771905\n4     1000013.0           大徳寺　山門（三門）     京都市北区紫野大徳寺町  35.043588  135.743215\n..          ...                  ...             ...        ...         ...\n209  11000000.0                 甲塚古墳    右京区嵯峨甲塚町18-2  35.019807  135.691223\n210  11000000.0              嵯峨七ッ塚古墳    右京区北嵯峨洞ノ内町付近  35.029634  135.684328\n211  11000000.0               天皇の杜古墳       西京区御陵塚ノ越町  34.978227  135.689652\n212  11000000.0        福西古墳7号墳及び10号墳    西京区大枝北福西町4-2  34.963080  135.679800\n213  11000000.0                 蛇塚古墳        右京区太秦面影町  35.011699  135.700892\n\n[214 rows x 5 columns]",
      "text/html": "<div>\n<style scoped>\n    .dataframe tbody tr th:only-of-type {\n        vertical-align: middle;\n    }\n\n    .dataframe tbody tr th {\n        vertical-align: top;\n    }\n\n    .dataframe thead th {\n        text-align: right;\n    }\n</style>\n<table border=\"1\" class=\"dataframe\">\n  <thead>\n    <tr style=\"text-align: right;\">\n      <th></th>\n      <th>0</th>\n      <th>1</th>\n      <th>2</th>\n      <th>3</th>\n      <th>4</th>\n    </tr>\n  </thead>\n  <tbody>\n    <tr>\n      <th>0</th>\n      <td>1000002.0</td>\n      <td>慈照寺（銀閣寺）　銀閣</td>\n      <td>京都市左京区銀閣寺町2</td>\n      <td>35.026864</td>\n      <td>135.798269</td>\n    </tr>\n    <tr>\n      <th>1</th>\n      <td>1000003.0</td>\n      <td>銀閣寺（慈照寺）　東求堂</td>\n      <td>京都市左京区銀閣寺町2</td>\n      <td>35.026864</td>\n      <td>135.798269</td>\n    </tr>\n    <tr>\n      <th>2</th>\n      <td>1000004.0</td>\n      <td>清水寺　本堂</td>\n      <td>京都市東山区清水一丁目294</td>\n      <td>34.994962</td>\n      <td>135.784334</td>\n    </tr>\n    <tr>\n      <th>3</th>\n      <td>1000010.0</td>\n      <td>下鴨神社（賀茂御祖神社）東本殿　西本殿</td>\n      <td>京都市左京区下鴨泉川町59</td>\n      <td>35.034883</td>\n      <td>135.771905</td>\n    </tr>\n    <tr>\n      <th>4</th>\n      <td>1000013.0</td>\n      <td>大徳寺　山門（三門）</td>\n      <td>京都市北区紫野大徳寺町</td>\n      <td>35.043588</td>\n      <td>135.743215</td>\n    </tr>\n    <tr>\n      <th>...</th>\n      <td>...</td>\n      <td>...</td>\n      <td>...</td>\n      <td>...</td>\n      <td>...</td>\n    </tr>\n    <tr>\n      <th>209</th>\n      <td>11000000.0</td>\n      <td>甲塚古墳</td>\n      <td>右京区嵯峨甲塚町18-2</td>\n      <td>35.019807</td>\n      <td>135.691223</td>\n    </tr>\n    <tr>\n      <th>210</th>\n      <td>11000000.0</td>\n      <td>嵯峨七ッ塚古墳</td>\n      <td>右京区北嵯峨洞ノ内町付近</td>\n      <td>35.029634</td>\n      <td>135.684328</td>\n    </tr>\n    <tr>\n      <th>211</th>\n      <td>11000000.0</td>\n      <td>天皇の杜古墳</td>\n      <td>西京区御陵塚ノ越町</td>\n      <td>34.978227</td>\n      <td>135.689652</td>\n    </tr>\n    <tr>\n      <th>212</th>\n      <td>11000000.0</td>\n      <td>福西古墳7号墳及び10号墳</td>\n      <td>西京区大枝北福西町4-2</td>\n      <td>34.963080</td>\n      <td>135.679800</td>\n    </tr>\n    <tr>\n      <th>213</th>\n      <td>11000000.0</td>\n      <td>蛇塚古墳</td>\n      <td>右京区太秦面影町</td>\n      <td>35.011699</td>\n      <td>135.700892</td>\n    </tr>\n  </tbody>\n</table>\n<p>214 rows × 5 columns</p>\n</div>"
     },
     "execution_count": 34,
     "metadata": {},
     "output_type": "execute_result"
    }
   ],
   "source": [
    "import time\n",
    "\n",
    "def f(row):\n",
    "    time.sleep(0.5)\n",
    "    res = gmaps.geocode(row['Address'])\n",
    "    if len(res) == 0:\n",
    "        return pd.Series([row['ID'], row['Name'], row['Address'], 0.0, 0.0])\n",
    "\n",
    "    location = res[0]['geometry']['location']\n",
    "    return pd.Series([row['ID'], row['Name'], row['Address'], location['lat'], location['lng']])\n",
    "\n",
    "df2 = df.apply(f, axis=1)\n",
    "df2"
   ],
   "metadata": {
    "collapsed": false,
    "pycharm": {
     "name": "#%%\n"
    }
   }
  },
  {
   "cell_type": "code",
   "execution_count": 36,
   "outputs": [],
   "source": [
    "df2.to_csv('./kyoto-geocoded.csv', index_label = [\"ID\"])\n"
   ],
   "metadata": {
    "collapsed": false,
    "pycharm": {
     "name": "#%%\n"
    }
   }
  },
  {
   "cell_type": "code",
   "execution_count": 4,
   "outputs": [
    {
     "data": {
      "text/plain": "[{'address_components': [{'long_name': '444-1',\n    'short_name': '444-1',\n    'types': ['premise']},\n   {'long_name': 'Nagamiya',\n    'short_name': 'Nagamiya',\n    'types': ['political', 'sublocality', 'sublocality_level_2']},\n   {'long_name': 'Iwatsuki Ward',\n    'short_name': 'Iwatsuki Ward',\n    'types': ['political', 'sublocality', 'sublocality_level_1']},\n   {'long_name': 'Saitama',\n    'short_name': 'Saitama',\n    'types': ['locality', 'political']},\n   {'long_name': 'Saitama',\n    'short_name': 'Saitama',\n    'types': ['administrative_area_level_1', 'political']},\n   {'long_name': 'Japan',\n    'short_name': 'JP',\n    'types': ['country', 'political']},\n   {'long_name': '339-0011',\n    'short_name': '339-0011',\n    'types': ['postal_code']}],\n  'formatted_address': '444-1 Nagamiya, Iwatsuki Ward, Saitama, 339-0011, Japan',\n  'geometry': {'location': {'lat': 35.9484415, 'lng': 139.730011},\n   'location_type': 'ROOFTOP',\n   'viewport': {'northeast': {'lat': 35.9500472302915,\n     'lng': 139.7315523302915},\n    'southwest': {'lat': 35.9473492697085, 'lng': 139.7288543697085}}},\n  'place_id': 'ChIJMWwsWyC_GGARdyGSrqTyES4',\n  'plus_code': {'compound_code': 'WPXJ+92 Saitama, Japan',\n   'global_code': '8Q7XWPXJ+92'},\n  'types': ['street_address']}]"
     },
     "execution_count": 4,
     "metadata": {},
     "output_type": "execute_result"
    }
   ],
   "source": [
    "res = gmaps.geocode('さいたま市岩槻区長宮４４４－１')\n",
    "res"
   ],
   "metadata": {
    "collapsed": false,
    "pycharm": {
     "name": "#%%\n"
    }
   }
  },
  {
   "cell_type": "code",
   "execution_count": null,
   "outputs": [],
   "source": [],
   "metadata": {
    "collapsed": false,
    "pycharm": {
     "name": "#%%\n"
    }
   }
  }
 ],
 "metadata": {
  "kernelspec": {
   "display_name": "Python 3",
   "language": "python",
   "name": "python3"
  },
  "language_info": {
   "codemirror_mode": {
    "name": "ipython",
    "version": 2
   },
   "file_extension": ".py",
   "mimetype": "text/x-python",
   "name": "python",
   "nbconvert_exporter": "python",
   "pygments_lexer": "ipython2",
   "version": "2.7.6"
  }
 },
 "nbformat": 4,
 "nbformat_minor": 0
}