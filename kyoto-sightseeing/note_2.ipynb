{
 "cells": [
  {
   "cell_type": "code",
   "execution_count": 1,
   "outputs": [],
   "source": [
    "import numpy as np\n",
    "import pandas as pd"
   ],
   "metadata": {
    "collapsed": false,
    "pycharm": {
     "name": "#%%\n"
    }
   }
  },
  {
   "cell_type": "code",
   "execution_count": 2,
   "outputs": [],
   "source": [
    "places = pd.read_csv('./kyoto-geocoded-3.csv')"
   ],
   "metadata": {
    "collapsed": false,
    "pycharm": {
     "name": "#%%\n"
    }
   }
  },
  {
   "cell_type": "code",
   "execution_count": 3,
   "outputs": [],
   "source": [
    "from datetime import datetime as dt\n",
    "\n",
    "def hm2minutes(str: str):\n",
    "    diff = dt.strptime(str, '%H:%M') - dt.strptime('0:00', '%H:%M')\n",
    "    return diff.seconds / 60"
   ],
   "metadata": {
    "collapsed": false,
    "pycharm": {
     "name": "#%%\n"
    }
   }
  },
  {
   "cell_type": "code",
   "execution_count": 4,
   "outputs": [
    {
     "data": {
      "text/plain": "(660.0, 840.0)"
     },
     "execution_count": 4,
     "metadata": {},
     "output_type": "execute_result"
    }
   ],
   "source": [
    "hm2minutes('11:00'), hm2minutes('14:00')"
   ],
   "metadata": {
    "collapsed": false,
    "pycharm": {
     "name": "#%%\n"
    }
   }
  },
  {
   "cell_type": "code",
   "execution_count": 5,
   "outputs": [],
   "source": [
    "lunch_candidates = ['東福寺三門', '安養寺木造阿弥陀如来像', '建仁寺方丈', '嵐山通船', ]\n",
    "lunch_places = places[places['Name'].isin(lunch_candidates)].copy()"
   ],
   "metadata": {
    "collapsed": false,
    "pycharm": {
     "name": "#%%\n"
    }
   }
  },
  {
   "cell_type": "code",
   "execution_count": 6,
   "outputs": [
    {
     "data": {
      "text/plain": "         ID         Name                                 Address        lat  \\\n4   1000017        東福寺三門                               本町15丁目778  34.977097   \n7   1000043        建仁寺方丈                 東山区大和大路通四条下る４丁目小松町584番地  35.000455   \n12  1000151  安養寺木造阿弥陀如来像                     中京区新京極通蛸薬師東南角東側町511  35.005769   \n81  8000001         嵐山通船  南乗船場・京都市西京区嵐山山中町/北乗船場・京都市右京区嵯峨天竜寺芒ノ馬場町  35.009449   \n\n           lng  Unnamed: 5  Unnamed: 6      open     close  open_time_min  \\\n4   135.774106         900        1600   9:00:00  16:00:00            540   \n7   135.773639        1000        1600  10:00:00  16:00:00            600   \n12  135.767334        1000        1600  10:00:00  16:00:00            600   \n81  135.666773         900        1700   9:00:00  17:00:00            540   \n\n    close_time_min  Unnamed: 11  time_to_spend  \n4              960         20.0             20  \n7              960          NaN             33  \n12             960         10.0             10  \n81            1020         30.0             30  ",
      "text/html": "<div>\n<style scoped>\n    .dataframe tbody tr th:only-of-type {\n        vertical-align: middle;\n    }\n\n    .dataframe tbody tr th {\n        vertical-align: top;\n    }\n\n    .dataframe thead th {\n        text-align: right;\n    }\n</style>\n<table border=\"1\" class=\"dataframe\">\n  <thead>\n    <tr style=\"text-align: right;\">\n      <th></th>\n      <th>ID</th>\n      <th>Name</th>\n      <th>Address</th>\n      <th>lat</th>\n      <th>lng</th>\n      <th>Unnamed: 5</th>\n      <th>Unnamed: 6</th>\n      <th>open</th>\n      <th>close</th>\n      <th>open_time_min</th>\n      <th>close_time_min</th>\n      <th>Unnamed: 11</th>\n      <th>time_to_spend</th>\n    </tr>\n  </thead>\n  <tbody>\n    <tr>\n      <th>4</th>\n      <td>1000017</td>\n      <td>東福寺三門</td>\n      <td>本町15丁目778</td>\n      <td>34.977097</td>\n      <td>135.774106</td>\n      <td>900</td>\n      <td>1600</td>\n      <td>9:00:00</td>\n      <td>16:00:00</td>\n      <td>540</td>\n      <td>960</td>\n      <td>20.0</td>\n      <td>20</td>\n    </tr>\n    <tr>\n      <th>7</th>\n      <td>1000043</td>\n      <td>建仁寺方丈</td>\n      <td>東山区大和大路通四条下る４丁目小松町584番地</td>\n      <td>35.000455</td>\n      <td>135.773639</td>\n      <td>1000</td>\n      <td>1600</td>\n      <td>10:00:00</td>\n      <td>16:00:00</td>\n      <td>600</td>\n      <td>960</td>\n      <td>NaN</td>\n      <td>33</td>\n    </tr>\n    <tr>\n      <th>12</th>\n      <td>1000151</td>\n      <td>安養寺木造阿弥陀如来像</td>\n      <td>中京区新京極通蛸薬師東南角東側町511</td>\n      <td>35.005769</td>\n      <td>135.767334</td>\n      <td>1000</td>\n      <td>1600</td>\n      <td>10:00:00</td>\n      <td>16:00:00</td>\n      <td>600</td>\n      <td>960</td>\n      <td>10.0</td>\n      <td>10</td>\n    </tr>\n    <tr>\n      <th>81</th>\n      <td>8000001</td>\n      <td>嵐山通船</td>\n      <td>南乗船場・京都市西京区嵐山山中町/北乗船場・京都市右京区嵯峨天竜寺芒ノ馬場町</td>\n      <td>35.009449</td>\n      <td>135.666773</td>\n      <td>900</td>\n      <td>1700</td>\n      <td>9:00:00</td>\n      <td>17:00:00</td>\n      <td>540</td>\n      <td>1020</td>\n      <td>30.0</td>\n      <td>30</td>\n    </tr>\n  </tbody>\n</table>\n</div>"
     },
     "execution_count": 6,
     "metadata": {},
     "output_type": "execute_result"
    }
   ],
   "source": [
    "lunch_places"
   ],
   "metadata": {
    "collapsed": false,
    "pycharm": {
     "name": "#%%\n"
    }
   }
  },
  {
   "cell_type": "code",
   "execution_count": 7,
   "outputs": [],
   "source": [
    "lunch_places['Name'] = lunch_places['Name'].apply(lambda x: x + '_lunch')\n",
    "lunch_places['time_to_spend'] = 60\n",
    "lunch_places['open_time_min'] = hm2minutes('11:00')\n",
    "lunch_places['close_time_min'] = hm2minutes('14:00')\n",
    "places = pd.concat([places, lunch_places], axis=0)"
   ],
   "metadata": {
    "collapsed": false,
    "pycharm": {
     "name": "#%%\n"
    }
   }
  },
  {
   "cell_type": "code",
   "execution_count": 8,
   "outputs": [
    {
     "data": {
      "text/plain": "         ID                Name                                 Address  \\\n0   9999999                 京都駅                           京都市下京区東塩小路釜殿町   \n1   1000002          慈照寺（銀閣寺）銀閣                             京都市左京区銀閣寺町2   \n2   1000003         銀閣寺（慈照寺）東求堂                             京都市左京区銀閣寺町2   \n3   1000010  下鴨神社（賀茂御祖神社）東本殿西本殿                           京都市左京区下鴨泉川町59   \n4   1000017               東福寺三門                               本町15丁目778   \n..      ...                 ...                                     ...   \n83  8000026           嵯峨野トロッコ列車                          京都市右京区嵯峨天龍寺車道町   \n4   1000017         東福寺三門_lunch                               本町15丁目778   \n7   1000043         建仁寺方丈_lunch                 東山区大和大路通四条下る４丁目小松町584番地   \n12  1000151   安養寺木造阿弥陀如来像_lunch                     中京区新京極通蛸薬師東南角東側町511   \n81  8000001          嵐山通船_lunch  南乗船場・京都市西京区嵐山山中町/北乗船場・京都市右京区嵯峨天竜寺芒ノ馬場町   \n\n          lat         lng  Unnamed: 5  Unnamed: 6      open     close  \\\n0   34.980983  135.754836         530        2359   5:30:00  23:59:00   \n1   35.026864  135.798269         830        1700   8:30:00  17:00:00   \n2   35.026864  135.798269         830        1700   8:30:00  17:00:00   \n3   35.034883  135.771905         630        1700   6:30:00  17:00:00   \n4   34.977097  135.774106         900        1600   9:00:00  16:00:00   \n..        ...         ...         ...         ...       ...       ...   \n83  35.018158  135.680484         900        1730   9:00:00  17:30:00   \n4   34.977097  135.774106         900        1600   9:00:00  16:00:00   \n7   35.000455  135.773639        1000        1600  10:00:00  16:00:00   \n12  35.005769  135.767334        1000        1600  10:00:00  16:00:00   \n81  35.009449  135.666773         900        1700   9:00:00  17:00:00   \n\n    open_time_min  close_time_min  Unnamed: 11  time_to_spend  \n0           330.0          1439.0          0.0              0  \n1           510.0          1020.0         40.0             40  \n2           510.0          1020.0         40.0             40  \n3           390.0          1020.0         30.0             30  \n4           540.0           960.0         20.0             20  \n..            ...             ...          ...            ...  \n83          540.0          1050.0         25.0             25  \n4           660.0           840.0         20.0             60  \n7           660.0           840.0          NaN             60  \n12          660.0           840.0         10.0             60  \n81          660.0           840.0         30.0             60  \n\n[88 rows x 13 columns]",
      "text/html": "<div>\n<style scoped>\n    .dataframe tbody tr th:only-of-type {\n        vertical-align: middle;\n    }\n\n    .dataframe tbody tr th {\n        vertical-align: top;\n    }\n\n    .dataframe thead th {\n        text-align: right;\n    }\n</style>\n<table border=\"1\" class=\"dataframe\">\n  <thead>\n    <tr style=\"text-align: right;\">\n      <th></th>\n      <th>ID</th>\n      <th>Name</th>\n      <th>Address</th>\n      <th>lat</th>\n      <th>lng</th>\n      <th>Unnamed: 5</th>\n      <th>Unnamed: 6</th>\n      <th>open</th>\n      <th>close</th>\n      <th>open_time_min</th>\n      <th>close_time_min</th>\n      <th>Unnamed: 11</th>\n      <th>time_to_spend</th>\n    </tr>\n  </thead>\n  <tbody>\n    <tr>\n      <th>0</th>\n      <td>9999999</td>\n      <td>京都駅</td>\n      <td>京都市下京区東塩小路釜殿町</td>\n      <td>34.980983</td>\n      <td>135.754836</td>\n      <td>530</td>\n      <td>2359</td>\n      <td>5:30:00</td>\n      <td>23:59:00</td>\n      <td>330.0</td>\n      <td>1439.0</td>\n      <td>0.0</td>\n      <td>0</td>\n    </tr>\n    <tr>\n      <th>1</th>\n      <td>1000002</td>\n      <td>慈照寺（銀閣寺）銀閣</td>\n      <td>京都市左京区銀閣寺町2</td>\n      <td>35.026864</td>\n      <td>135.798269</td>\n      <td>830</td>\n      <td>1700</td>\n      <td>8:30:00</td>\n      <td>17:00:00</td>\n      <td>510.0</td>\n      <td>1020.0</td>\n      <td>40.0</td>\n      <td>40</td>\n    </tr>\n    <tr>\n      <th>2</th>\n      <td>1000003</td>\n      <td>銀閣寺（慈照寺）東求堂</td>\n      <td>京都市左京区銀閣寺町2</td>\n      <td>35.026864</td>\n      <td>135.798269</td>\n      <td>830</td>\n      <td>1700</td>\n      <td>8:30:00</td>\n      <td>17:00:00</td>\n      <td>510.0</td>\n      <td>1020.0</td>\n      <td>40.0</td>\n      <td>40</td>\n    </tr>\n    <tr>\n      <th>3</th>\n      <td>1000010</td>\n      <td>下鴨神社（賀茂御祖神社）東本殿西本殿</td>\n      <td>京都市左京区下鴨泉川町59</td>\n      <td>35.034883</td>\n      <td>135.771905</td>\n      <td>630</td>\n      <td>1700</td>\n      <td>6:30:00</td>\n      <td>17:00:00</td>\n      <td>390.0</td>\n      <td>1020.0</td>\n      <td>30.0</td>\n      <td>30</td>\n    </tr>\n    <tr>\n      <th>4</th>\n      <td>1000017</td>\n      <td>東福寺三門</td>\n      <td>本町15丁目778</td>\n      <td>34.977097</td>\n      <td>135.774106</td>\n      <td>900</td>\n      <td>1600</td>\n      <td>9:00:00</td>\n      <td>16:00:00</td>\n      <td>540.0</td>\n      <td>960.0</td>\n      <td>20.0</td>\n      <td>20</td>\n    </tr>\n    <tr>\n      <th>...</th>\n      <td>...</td>\n      <td>...</td>\n      <td>...</td>\n      <td>...</td>\n      <td>...</td>\n      <td>...</td>\n      <td>...</td>\n      <td>...</td>\n      <td>...</td>\n      <td>...</td>\n      <td>...</td>\n      <td>...</td>\n      <td>...</td>\n    </tr>\n    <tr>\n      <th>83</th>\n      <td>8000026</td>\n      <td>嵯峨野トロッコ列車</td>\n      <td>京都市右京区嵯峨天龍寺車道町</td>\n      <td>35.018158</td>\n      <td>135.680484</td>\n      <td>900</td>\n      <td>1730</td>\n      <td>9:00:00</td>\n      <td>17:30:00</td>\n      <td>540.0</td>\n      <td>1050.0</td>\n      <td>25.0</td>\n      <td>25</td>\n    </tr>\n    <tr>\n      <th>4</th>\n      <td>1000017</td>\n      <td>東福寺三門_lunch</td>\n      <td>本町15丁目778</td>\n      <td>34.977097</td>\n      <td>135.774106</td>\n      <td>900</td>\n      <td>1600</td>\n      <td>9:00:00</td>\n      <td>16:00:00</td>\n      <td>660.0</td>\n      <td>840.0</td>\n      <td>20.0</td>\n      <td>60</td>\n    </tr>\n    <tr>\n      <th>7</th>\n      <td>1000043</td>\n      <td>建仁寺方丈_lunch</td>\n      <td>東山区大和大路通四条下る４丁目小松町584番地</td>\n      <td>35.000455</td>\n      <td>135.773639</td>\n      <td>1000</td>\n      <td>1600</td>\n      <td>10:00:00</td>\n      <td>16:00:00</td>\n      <td>660.0</td>\n      <td>840.0</td>\n      <td>NaN</td>\n      <td>60</td>\n    </tr>\n    <tr>\n      <th>12</th>\n      <td>1000151</td>\n      <td>安養寺木造阿弥陀如来像_lunch</td>\n      <td>中京区新京極通蛸薬師東南角東側町511</td>\n      <td>35.005769</td>\n      <td>135.767334</td>\n      <td>1000</td>\n      <td>1600</td>\n      <td>10:00:00</td>\n      <td>16:00:00</td>\n      <td>660.0</td>\n      <td>840.0</td>\n      <td>10.0</td>\n      <td>60</td>\n    </tr>\n    <tr>\n      <th>81</th>\n      <td>8000001</td>\n      <td>嵐山通船_lunch</td>\n      <td>南乗船場・京都市西京区嵐山山中町/北乗船場・京都市右京区嵯峨天竜寺芒ノ馬場町</td>\n      <td>35.009449</td>\n      <td>135.666773</td>\n      <td>900</td>\n      <td>1700</td>\n      <td>9:00:00</td>\n      <td>17:00:00</td>\n      <td>660.0</td>\n      <td>840.0</td>\n      <td>30.0</td>\n      <td>60</td>\n    </tr>\n  </tbody>\n</table>\n<p>88 rows × 13 columns</p>\n</div>"
     },
     "execution_count": 8,
     "metadata": {},
     "output_type": "execute_result"
    }
   ],
   "source": [
    "places"
   ],
   "metadata": {
    "collapsed": false,
    "pycharm": {
     "name": "#%%\n"
    }
   }
  },
  {
   "cell_type": "code",
   "execution_count": 9,
   "outputs": [],
   "source": [
    "time_to_spend = places.set_index('Name')['time_to_spend'].to_dict()\n",
    "open_time_min = places.set_index('Name')['open_time_min'].to_dict()\n",
    "close_time_min = places.set_index('Name')['close_time_min'].to_dict()\n",
    "name_list = places['Name'].to_list()"
   ],
   "metadata": {
    "collapsed": false,
    "pycharm": {
     "name": "#%%\n"
    }
   }
  },
  {
   "cell_type": "code",
   "execution_count": 10,
   "outputs": [],
   "source": [
    "def manhattan_dist(lat1, lng1, lat2, lng2):\n",
    "    dist_x = np.abs(lng1 - lng2) * 91287.7885\n",
    "    dist_y = np.abs(lat1 - lat2) * 110940.5844\n",
    "    return dist_x + dist_y"
   ],
   "metadata": {
    "collapsed": false,
    "pycharm": {
     "name": "#%%\n"
    }
   }
  },
  {
   "cell_type": "code",
   "execution_count": 11,
   "outputs": [],
   "source": [
    "matrix = dict()\n",
    "for f_idx, f_row in places.iterrows():\n",
    "    for t_idx, t_row in places.iterrows():\n",
    "        distance = manhattan_dist(f_row.lat, f_row.lng, t_row.lat, t_row.lng)\n",
    "        matrix[(f_row['Name'], t_row['Name'])] = (np.ceil(15 * distance / 1000))"
   ],
   "metadata": {
    "collapsed": false,
    "pycharm": {
     "name": "#%%\n"
    }
   }
  },
  {
   "cell_type": "code",
   "execution_count": 12,
   "outputs": [],
   "source": [
    "class NodeManager:\n",
    "    def __init__(self, names):\n",
    "        self.names = names\n",
    "        self.n = len(self.names)\n",
    "        self.nodes = list(range(self.n))\n",
    "\n",
    "        self.name_map_node = dict(zip(self.names, self.nodes))\n",
    "        self.node_map_name = {v: k for k, v in self.name_map_node.items()}\n",
    "\n",
    "    def node_to_name(self, node):\n",
    "        return self.node_map_name[node]\n",
    "\n",
    "    def name_to_node(self, name):\n",
    "        return self.name_map_node[name]"
   ],
   "metadata": {
    "collapsed": false,
    "pycharm": {
     "name": "#%%\n"
    }
   }
  },
  {
   "cell_type": "code",
   "execution_count": 13,
   "outputs": [],
   "source": [
    "node_manager = NodeManager(name_list)"
   ],
   "metadata": {
    "collapsed": false,
    "pycharm": {
     "name": "#%%\n"
    }
   }
  },
  {
   "cell_type": "code",
   "execution_count": 14,
   "outputs": [],
   "source": [
    "from ortools.constraint_solver import pywrapcp\n",
    "\n",
    "index_manager = pywrapcp.RoutingIndexManager(node_manager.n, 1, node_manager.name_to_node('京都駅'))"
   ],
   "metadata": {
    "collapsed": false,
    "pycharm": {
     "name": "#%%\n"
    }
   }
  },
  {
   "cell_type": "code",
   "execution_count": 15,
   "outputs": [],
   "source": [
    "routing = pywrapcp.RoutingModel(index_manager)\n"
   ],
   "metadata": {
    "collapsed": false,
    "pycharm": {
     "name": "#%%\n"
    }
   }
  },
  {
   "cell_type": "code",
   "execution_count": 16,
   "outputs": [
    {
     "data": {
      "text/plain": "[84, 86, 85, 87]"
     },
     "execution_count": 16,
     "metadata": {},
     "output_type": "execute_result"
    }
   ],
   "source": [
    "lunch_place_indices = [\n",
    "    index_manager.NodeToIndex(node_manager.name_to_node(i))\n",
    "    for i in [pl + '_lunch' for pl in lunch_candidates]\n",
    "]\n",
    "lunch_place_indices"
   ],
   "metadata": {
    "collapsed": false,
    "pycharm": {
     "name": "#%%\n"
    }
   }
  },
  {
   "cell_type": "code",
   "execution_count": 17,
   "outputs": [],
   "source": [
    "condition = (\n",
    "    routing.ActiveVar(lunch_place_indices[0])\n",
    "    + routing.ActiveVar(lunch_place_indices[1])\n",
    "    + routing.ActiveVar(lunch_place_indices[2]) == 1)\n",
    "routing.solver().AddConstraint(condition)"
   ],
   "metadata": {
    "collapsed": false,
    "pycharm": {
     "name": "#%%\n"
    }
   }
  },
  {
   "cell_type": "code",
   "execution_count": 18,
   "outputs": [],
   "source": [
    "def time_callback(from_index, to_index):\n",
    "    from_node = index_manager.IndexToNode(from_index)\n",
    "    to_node = index_manager.IndexToNode(to_index)\n",
    "    from_name = node_manager.node_to_name(from_node)\n",
    "    to_name = node_manager.node_to_name(to_node)\n",
    "\n",
    "    if to_name == '京都駅':\n",
    "        return 0\n",
    "    return matrix[from_name, to_name] + time_to_spend[from_name]"
   ],
   "metadata": {
    "collapsed": false,
    "pycharm": {
     "name": "#%%\n"
    }
   }
  },
  {
   "cell_type": "code",
   "execution_count": 19,
   "outputs": [],
   "source": [
    "transit_callback_index = routing.RegisterTransitCallback(time_callback)\n",
    "routing.SetArcCostEvaluatorOfAllVehicles(transit_callback_index)"
   ],
   "metadata": {
    "collapsed": false,
    "pycharm": {
     "name": "#%%\n"
    }
   }
  },
  {
   "cell_type": "code",
   "execution_count": 20,
   "outputs": [],
   "source": [
    "for i in node_manager.names:\n",
    "    if i == '京都駅':\n",
    "        continue\n",
    "    index = index_manager.NodeToIndex(node_manager.name_to_node(i))\n",
    "    routing.AddDisjunction([index], 10_000)"
   ],
   "metadata": {
    "collapsed": false,
    "pycharm": {
     "name": "#%%\n"
    }
   }
  },
  {
   "cell_type": "code",
   "execution_count": 21,
   "outputs": [],
   "source": [
    "routing.AddDimension(\n",
    "    transit_callback_index,\n",
    "    60,\n",
    "    60 * 20,\n",
    "    False,\n",
    "    'Time'\n",
    ")\n",
    "time_dimension = routing.GetDimensionOrDie('Time')"
   ],
   "metadata": {
    "collapsed": false,
    "pycharm": {
     "name": "#%%\n"
    }
   }
  },
  {
   "cell_type": "code",
   "execution_count": 22,
   "outputs": [],
   "source": [
    "for i in node_manager.names:\n",
    "    index = index_manager.NodeToIndex(node_manager.name_to_node(i))\n",
    "    open_time = 330.0 if np.isnan(open_time_min[i]) else open_time_min[i]\n",
    "    close_time = 1439.0 if np.isnan(close_time_min[i]) else close_time_min[i]\n",
    "    # print(open_time, close_time)\n",
    "    time_dimension.CumulVar(index).SetRange(int(open_time), int(close_time))"
   ],
   "metadata": {
    "collapsed": false,
    "pycharm": {
     "name": "#%%\n"
    }
   }
  },
  {
   "cell_type": "code",
   "execution_count": 27,
   "outputs": [],
   "source": [
    "from ortools.constraint_solver import routing_enums_pb2\n",
    "\n",
    "search_params = pywrapcp.DefaultRoutingSearchParameters()\n",
    "search_params.time_limit.seconds = 10\n",
    "search_params.local_search_metaheuristic = (routing_enums_pb2.LocalSearchMetaheuristic.GUIDED_LOCAL_SEARCH)\n",
    "search_params.log_search = True"
   ],
   "metadata": {
    "collapsed": false,
    "pycharm": {
     "name": "#%%\n"
    }
   }
  },
  {
   "cell_type": "code",
   "execution_count": 28,
   "outputs": [],
   "source": [
    "solution = routing.SolveWithParameters(search_params)"
   ],
   "metadata": {
    "collapsed": false,
    "pycharm": {
     "name": "#%%\n"
    }
   }
  },
  {
   "cell_type": "code",
   "execution_count": 25,
   "outputs": [
    {
     "name": "stdout",
     "output_type": "stream",
     "text": [
      "京都駅: 5:30\n",
      "北野天満宮東門の椋: 7:18\n",
      "北野天満宮影向松: 7:51\n",
      "平野神社の草花と樹木: 8:29\n",
      "地蔵院（椿寺）五色八重散椿: 9:16\n",
      "廬山寺木造如意輪観音半跏像: 10:20\n",
      "廬山寺慈恵大師自筆遺告: 10:30\n",
      "廬山寺絹本著色普賢十羅刹女像: 10:40\n",
      "安養寺木造阿弥陀如来像: 11:23\n",
      "南岩倉明王院不動寺空海作「石像不動明王」: 11:47\n",
      "蓮光寺駒止地蔵菩薩像: 12:01\n",
      "蓮光寺阿弥陀如来像: 12:11\n",
      "建仁寺方丈: 12:45\n",
      "建仁寺方丈_lunch: 13:18\n",
      "知恩院濡髪大明神: 14:42\n",
      "知恩院七不思議: 14:52\n",
      "知恩院紫雲水: 15:25\n",
      "天授庵絹本著色細川幽斎像同夫人像: 16:16\n",
      "南禅寺方丈: 16:46\n",
      "京都駅: 16:46\n"
     ]
    }
   ],
   "source": [
    "import math\n",
    "\n",
    "def minutes2hm(n):\n",
    "    hour = math.floor(n / 60)\n",
    "    min = n % 60\n",
    "    return \"{0}:{1:02d}\".format(hour, min)\n",
    "\n",
    "def print_solution(routing, solution):\n",
    "    vehicle_id = 0\n",
    "    index = routing.Start(vehicle_id)\n",
    "    while not routing.IsEnd(index):\n",
    "        previous_index = index\n",
    "        name = node_manager.node_to_name(index_manager.IndexToNode(previous_index))\n",
    "        output = name + ': '\n",
    "        output += minutes2hm(solution.Value(time_dimension.CumulVar(index)))\n",
    "        print(output)\n",
    "        index = solution.Value(routing.NextVar(index))\n",
    "    print('京都駅:', minutes2hm(solution.Value(time_dimension.CumulVar(index))))\n",
    "\n",
    "print_solution(routing, solution)"
   ],
   "metadata": {
    "collapsed": false,
    "pycharm": {
     "name": "#%%\n"
    }
   }
  },
  {
   "cell_type": "code",
   "execution_count": 26,
   "outputs": [
    {
     "ename": "TypeError",
     "evalue": "Index(...) must be called with a collection of some kind, 'Name' was passed",
     "output_type": "error",
     "traceback": [
      "\u001B[0;31m---------------------------------------------------------------------------\u001B[0m",
      "\u001B[0;31mTypeError\u001B[0m                                 Traceback (most recent call last)",
      "Input \u001B[0;32mIn [26]\u001B[0m, in \u001B[0;36m<cell line: 19>\u001B[0;34m()\u001B[0m\n\u001B[1;32m     16\u001B[0m         index \u001B[38;5;241m=\u001B[39m solution\u001B[38;5;241m.\u001B[39mValue(routing\u001B[38;5;241m.\u001B[39mNextVar(index))\n\u001B[1;32m     17\u001B[0m     \u001B[38;5;28;01mreturn\u001B[39;00m pd\u001B[38;5;241m.\u001B[39mDataFrame(result, columns\u001B[38;5;241m=\u001B[39m[\u001B[38;5;124m'\u001B[39m\u001B[38;5;124mName\u001B[39m\u001B[38;5;124m'\u001B[39m, \u001B[38;5;124m'\u001B[39m\u001B[38;5;124mTime\u001B[39m\u001B[38;5;124m'\u001B[39m, \u001B[38;5;124m'\u001B[39m\u001B[38;5;124mLat\u001B[39m\u001B[38;5;124m'\u001B[39m, \u001B[38;5;124m'\u001B[39m\u001B[38;5;124mLng\u001B[39m\u001B[38;5;124m'\u001B[39m], index\u001B[38;5;241m=\u001B[39m\u001B[38;5;124m'\u001B[39m\u001B[38;5;124mName\u001B[39m\u001B[38;5;124m'\u001B[39m)\n\u001B[0;32m---> 19\u001B[0m res \u001B[38;5;241m=\u001B[39m \u001B[43msolution_to_csv\u001B[49m\u001B[43m(\u001B[49m\u001B[43mrouting\u001B[49m\u001B[43m,\u001B[49m\u001B[43m \u001B[49m\u001B[43msolution\u001B[49m\u001B[43m)\u001B[49m\n",
      "Input \u001B[0;32mIn [26]\u001B[0m, in \u001B[0;36msolution_to_csv\u001B[0;34m(routing, solution)\u001B[0m\n\u001B[1;32m     14\u001B[0m     result\u001B[38;5;241m.\u001B[39mappend([name, time, lat, lng])\n\u001B[1;32m     16\u001B[0m     index \u001B[38;5;241m=\u001B[39m solution\u001B[38;5;241m.\u001B[39mValue(routing\u001B[38;5;241m.\u001B[39mNextVar(index))\n\u001B[0;32m---> 17\u001B[0m \u001B[38;5;28;01mreturn\u001B[39;00m \u001B[43mpd\u001B[49m\u001B[38;5;241;43m.\u001B[39;49m\u001B[43mDataFrame\u001B[49m\u001B[43m(\u001B[49m\u001B[43mresult\u001B[49m\u001B[43m,\u001B[49m\u001B[43m \u001B[49m\u001B[43mcolumns\u001B[49m\u001B[38;5;241;43m=\u001B[39;49m\u001B[43m[\u001B[49m\u001B[38;5;124;43m'\u001B[39;49m\u001B[38;5;124;43mName\u001B[39;49m\u001B[38;5;124;43m'\u001B[39;49m\u001B[43m,\u001B[49m\u001B[43m \u001B[49m\u001B[38;5;124;43m'\u001B[39;49m\u001B[38;5;124;43mTime\u001B[39;49m\u001B[38;5;124;43m'\u001B[39;49m\u001B[43m,\u001B[49m\u001B[43m \u001B[49m\u001B[38;5;124;43m'\u001B[39;49m\u001B[38;5;124;43mLat\u001B[39;49m\u001B[38;5;124;43m'\u001B[39;49m\u001B[43m,\u001B[49m\u001B[43m \u001B[49m\u001B[38;5;124;43m'\u001B[39;49m\u001B[38;5;124;43mLng\u001B[39;49m\u001B[38;5;124;43m'\u001B[39;49m\u001B[43m]\u001B[49m\u001B[43m,\u001B[49m\u001B[43m \u001B[49m\u001B[43mindex\u001B[49m\u001B[38;5;241;43m=\u001B[39;49m\u001B[38;5;124;43m'\u001B[39;49m\u001B[38;5;124;43mName\u001B[39;49m\u001B[38;5;124;43m'\u001B[39;49m\u001B[43m)\u001B[49m\n",
      "File \u001B[0;32m~/src/github.com/na9amura/try-or-tools/venv/lib/python3.9/site-packages/pandas/core/frame.py:729\u001B[0m, in \u001B[0;36mDataFrame.__init__\u001B[0;34m(self, data, index, columns, dtype, copy)\u001B[0m\n\u001B[1;32m    720\u001B[0m         columns \u001B[38;5;241m=\u001B[39m ensure_index(columns)  \u001B[38;5;66;03m# type: ignore[arg-type]\u001B[39;00m\n\u001B[1;32m    721\u001B[0m     arrays, columns, index \u001B[38;5;241m=\u001B[39m nested_data_to_arrays(\n\u001B[1;32m    722\u001B[0m         \u001B[38;5;66;03m# error: Argument 3 to \"nested_data_to_arrays\" has incompatible\u001B[39;00m\n\u001B[1;32m    723\u001B[0m         \u001B[38;5;66;03m# type \"Optional[Collection[Any]]\"; expected \"Optional[Index]\"\u001B[39;00m\n\u001B[0;32m   (...)\u001B[0m\n\u001B[1;32m    727\u001B[0m         dtype,\n\u001B[1;32m    728\u001B[0m     )\n\u001B[0;32m--> 729\u001B[0m     mgr \u001B[38;5;241m=\u001B[39m \u001B[43marrays_to_mgr\u001B[49m\u001B[43m(\u001B[49m\n\u001B[1;32m    730\u001B[0m \u001B[43m        \u001B[49m\u001B[43marrays\u001B[49m\u001B[43m,\u001B[49m\n\u001B[1;32m    731\u001B[0m \u001B[43m        \u001B[49m\u001B[43mcolumns\u001B[49m\u001B[43m,\u001B[49m\n\u001B[1;32m    732\u001B[0m \u001B[43m        \u001B[49m\u001B[43mindex\u001B[49m\u001B[43m,\u001B[49m\n\u001B[1;32m    733\u001B[0m \u001B[43m        \u001B[49m\u001B[43mdtype\u001B[49m\u001B[38;5;241;43m=\u001B[39;49m\u001B[43mdtype\u001B[49m\u001B[43m,\u001B[49m\n\u001B[1;32m    734\u001B[0m \u001B[43m        \u001B[49m\u001B[43mtyp\u001B[49m\u001B[38;5;241;43m=\u001B[39;49m\u001B[43mmanager\u001B[49m\u001B[43m,\u001B[49m\n\u001B[1;32m    735\u001B[0m \u001B[43m    \u001B[49m\u001B[43m)\u001B[49m\n\u001B[1;32m    736\u001B[0m \u001B[38;5;28;01melse\u001B[39;00m:\n\u001B[1;32m    737\u001B[0m     mgr \u001B[38;5;241m=\u001B[39m ndarray_to_mgr(\n\u001B[1;32m    738\u001B[0m         data,\n\u001B[1;32m    739\u001B[0m         index,\n\u001B[0;32m   (...)\u001B[0m\n\u001B[1;32m    743\u001B[0m         typ\u001B[38;5;241m=\u001B[39mmanager,\n\u001B[1;32m    744\u001B[0m     )\n",
      "File \u001B[0;32m~/src/github.com/na9amura/try-or-tools/venv/lib/python3.9/site-packages/pandas/core/internals/construction.py:122\u001B[0m, in \u001B[0;36marrays_to_mgr\u001B[0;34m(arrays, columns, index, dtype, verify_integrity, typ, consolidate)\u001B[0m\n\u001B[1;32m    120\u001B[0m     index \u001B[38;5;241m=\u001B[39m _extract_index(arrays)\n\u001B[1;32m    121\u001B[0m \u001B[38;5;28;01melse\u001B[39;00m:\n\u001B[0;32m--> 122\u001B[0m     index \u001B[38;5;241m=\u001B[39m \u001B[43mensure_index\u001B[49m\u001B[43m(\u001B[49m\u001B[43mindex\u001B[49m\u001B[43m)\u001B[49m\n\u001B[1;32m    124\u001B[0m \u001B[38;5;66;03m# don't force copy because getting jammed in an ndarray anyway\u001B[39;00m\n\u001B[1;32m    125\u001B[0m arrays \u001B[38;5;241m=\u001B[39m _homogenize(arrays, index, dtype)\n",
      "File \u001B[0;32m~/src/github.com/na9amura/try-or-tools/venv/lib/python3.9/site-packages/pandas/core/indexes/base.py:7043\u001B[0m, in \u001B[0;36mensure_index\u001B[0;34m(index_like, copy)\u001B[0m\n\u001B[1;32m   7041\u001B[0m         \u001B[38;5;28;01mreturn\u001B[39;00m Index\u001B[38;5;241m.\u001B[39m_with_infer(index_like, copy\u001B[38;5;241m=\u001B[39mcopy, tupleize_cols\u001B[38;5;241m=\u001B[39m\u001B[38;5;28;01mFalse\u001B[39;00m)\n\u001B[1;32m   7042\u001B[0m \u001B[38;5;28;01melse\u001B[39;00m:\n\u001B[0;32m-> 7043\u001B[0m     \u001B[38;5;28;01mreturn\u001B[39;00m \u001B[43mIndex\u001B[49m\u001B[38;5;241;43m.\u001B[39;49m\u001B[43m_with_infer\u001B[49m\u001B[43m(\u001B[49m\u001B[43mindex_like\u001B[49m\u001B[43m,\u001B[49m\u001B[43m \u001B[49m\u001B[43mcopy\u001B[49m\u001B[38;5;241;43m=\u001B[39;49m\u001B[43mcopy\u001B[49m\u001B[43m)\u001B[49m\n",
      "File \u001B[0;32m~/src/github.com/na9amura/try-or-tools/venv/lib/python3.9/site-packages/pandas/core/indexes/base.py:680\u001B[0m, in \u001B[0;36mIndex._with_infer\u001B[0;34m(cls, *args, **kwargs)\u001B[0m\n\u001B[1;32m    678\u001B[0m \u001B[38;5;28;01mwith\u001B[39;00m warnings\u001B[38;5;241m.\u001B[39mcatch_warnings():\n\u001B[1;32m    679\u001B[0m     warnings\u001B[38;5;241m.\u001B[39mfilterwarnings(\u001B[38;5;124m\"\u001B[39m\u001B[38;5;124mignore\u001B[39m\u001B[38;5;124m\"\u001B[39m, \u001B[38;5;124m\"\u001B[39m\u001B[38;5;124m.*the Index constructor\u001B[39m\u001B[38;5;124m\"\u001B[39m, \u001B[38;5;167;01mFutureWarning\u001B[39;00m)\n\u001B[0;32m--> 680\u001B[0m     result \u001B[38;5;241m=\u001B[39m \u001B[38;5;28;43mcls\u001B[39;49m\u001B[43m(\u001B[49m\u001B[38;5;241;43m*\u001B[39;49m\u001B[43margs\u001B[49m\u001B[43m,\u001B[49m\u001B[43m \u001B[49m\u001B[38;5;241;43m*\u001B[39;49m\u001B[38;5;241;43m*\u001B[39;49m\u001B[43mkwargs\u001B[49m\u001B[43m)\u001B[49m\n\u001B[1;32m    682\u001B[0m \u001B[38;5;28;01mif\u001B[39;00m result\u001B[38;5;241m.\u001B[39mdtype \u001B[38;5;241m==\u001B[39m _dtype_obj \u001B[38;5;129;01mand\u001B[39;00m \u001B[38;5;129;01mnot\u001B[39;00m result\u001B[38;5;241m.\u001B[39m_is_multi:\n\u001B[1;32m    683\u001B[0m     \u001B[38;5;66;03m# error: Argument 1 to \"maybe_convert_objects\" has incompatible type\u001B[39;00m\n\u001B[1;32m    684\u001B[0m     \u001B[38;5;66;03m# \"Union[ExtensionArray, ndarray[Any, Any]]\"; expected\u001B[39;00m\n\u001B[1;32m    685\u001B[0m     \u001B[38;5;66;03m# \"ndarray[Any, Any]\"\u001B[39;00m\n\u001B[1;32m    686\u001B[0m     values \u001B[38;5;241m=\u001B[39m lib\u001B[38;5;241m.\u001B[39mmaybe_convert_objects(result\u001B[38;5;241m.\u001B[39m_values)  \u001B[38;5;66;03m# type: ignore[arg-type]\u001B[39;00m\n",
      "File \u001B[0;32m~/src/github.com/na9amura/try-or-tools/venv/lib/python3.9/site-packages/pandas/core/indexes/base.py:508\u001B[0m, in \u001B[0;36mIndex.__new__\u001B[0;34m(cls, data, dtype, copy, name, tupleize_cols, **kwargs)\u001B[0m\n\u001B[1;32m    505\u001B[0m     \u001B[38;5;28;01mreturn\u001B[39;00m klass\u001B[38;5;241m.\u001B[39m_simple_new(arr, name)\n\u001B[1;32m    507\u001B[0m \u001B[38;5;28;01melif\u001B[39;00m is_scalar(data):\n\u001B[0;32m--> 508\u001B[0m     \u001B[38;5;28;01mraise\u001B[39;00m \u001B[38;5;28mcls\u001B[39m\u001B[38;5;241m.\u001B[39m_scalar_data_error(data)\n\u001B[1;32m    509\u001B[0m \u001B[38;5;28;01melif\u001B[39;00m \u001B[38;5;28mhasattr\u001B[39m(data, \u001B[38;5;124m\"\u001B[39m\u001B[38;5;124m__array__\u001B[39m\u001B[38;5;124m\"\u001B[39m):\n\u001B[1;32m    510\u001B[0m     \u001B[38;5;28;01mreturn\u001B[39;00m Index(np\u001B[38;5;241m.\u001B[39masarray(data), dtype\u001B[38;5;241m=\u001B[39mdtype, copy\u001B[38;5;241m=\u001B[39mcopy, name\u001B[38;5;241m=\u001B[39mname, \u001B[38;5;241m*\u001B[39m\u001B[38;5;241m*\u001B[39mkwargs)\n",
      "\u001B[0;31mTypeError\u001B[0m: Index(...) must be called with a collection of some kind, 'Name' was passed"
     ]
    }
   ],
   "source": [
    "lats = places.set_index('Name')['lat'].to_dict()\n",
    "lngs = places.set_index('Name')['lng'].to_dict()\n",
    "\n",
    "def solution_to_csv(routing, solution):\n",
    "    vehicle_id = 0\n",
    "    index = routing.Start(vehicle_id)\n",
    "    result = []\n",
    "    while not routing.IsEnd(index):\n",
    "        previous_index = index\n",
    "        name = node_manager.node_to_name(index_manager.IndexToNode(previous_index))\n",
    "        time = minutes2hm(solution.Value(time_dimension.CumulVar(index)))\n",
    "        lat = lats[name]\n",
    "        lng = lngs[name]\n",
    "        result.append([name, time, lat, lng])\n",
    "\n",
    "        index = solution.Value(routing.NextVar(index))\n",
    "    return pd.DataFrame(result, columns=['Name', 'Time', 'Lat', 'Lng'], index='Name')\n",
    "\n",
    "res = solution_to_csv(routing, solution)"
   ],
   "metadata": {
    "collapsed": false,
    "pycharm": {
     "name": "#%%\n"
    }
   }
  },
  {
   "cell_type": "code",
   "execution_count": null,
   "outputs": [],
   "source": [
    "res\n"
   ],
   "metadata": {
    "collapsed": false,
    "pycharm": {
     "name": "#%%\n"
    }
   }
  },
  {
   "cell_type": "code",
   "execution_count": null,
   "outputs": [],
   "source": [
    "res.to_csv('./kyoto-route-2.csv', index_label = [\"ID\"])\n",
    "\n",
    "\n"
   ],
   "metadata": {
    "collapsed": false,
    "pycharm": {
     "name": "#%%\n"
    }
   }
  },
  {
   "cell_type": "code",
   "execution_count": null,
   "outputs": [],
   "source": [
    "\n"
   ],
   "metadata": {
    "collapsed": false,
    "pycharm": {
     "name": "#%%\n"
    }
   }
  }
 ],
 "metadata": {
  "kernelspec": {
   "display_name": "Python 3",
   "language": "python",
   "name": "python3"
  },
  "language_info": {
   "codemirror_mode": {
    "name": "ipython",
    "version": 2
   },
   "file_extension": ".py",
   "mimetype": "text/x-python",
   "name": "python",
   "nbconvert_exporter": "python",
   "pygments_lexer": "ipython2",
   "version": "2.7.6"
  }
 },
 "nbformat": 4,
 "nbformat_minor": 0
}