{
 "cells": [
  {
   "cell_type": "markdown",
   "metadata": {
    "collapsed": true,
    "pycharm": {
     "name": "#%% md\n"
    }
   },
   "source": [
    "# [Penalties and Dropping Visits](https://developers.google.com/optimization/routing/penalties)\n",
    "\n",
    "> how to handle routing problems that have no feasible solution, due to constraints\n",
    "\n",
    "> The problem is how to decide which visits to drop.\n",
    "\n",
    "> The solver then finds a route that minimizes the total distance plus the sum of the penalties for all dropped locations.\n",
    "\n"
   ]
  },
  {
   "cell_type": "markdown",
   "source": [
    "- Vehicles number: 1\n",
    "- Vehicle capacity: 50 for all\n",
    "- Demands:\n",
    "    - A: 20\n",
    "    - B: 20\n",
    "    - C: 20\n",
    "- Total\n",
    "    - loads: 40\n",
    "    - distance of solution: 55\n",
    "        ```\n",
    "        Depot ---> A ---> C ---> Depot\n",
    "               10     30     15\n",
    "        ```\n",
    "\n",
    "### Penalty sizes\n",
    "\n",
    "larger than the sum of all distances between locations (except depot)\n",
    "\n",
    "- P_A = P_B = P_C = 100\n",
    "- A + C + P_B => loads: 40, distance: 55, penalty: 100\n",
    "- A + P_C + P_B => loads: 20, distance: 20, penalty: 200\n",
    "\n",
    "-> While distance is decreased 35, penalty is increased 100.\n",
    "Solver will drop only one location due to penalty and loading capacity.\n",
    "\n",
    "If I set smaller penalties, solver may drop more locations\n",
    "\n",
    "- P_A = P_B = P_C = 10\n",
    "- A + C + P_B => loads: 40, distance: 55, penalty: 10\n",
    "- A + P_C + P_B => loads: 20, distance: 20, penalty: 20\n",
    "\n",
    "-> While distance is decreased 35, penalty is increased 10. Solver will drop more locations."
   ],
   "metadata": {
    "collapsed": false,
    "pycharm": {
     "name": "#%% md\n"
    }
   }
  },
  {
   "cell_type": "code",
   "execution_count": 1,
   "outputs": [],
   "source": [
    "from ortools.constraint_solver import pywrapcp, routing_enums_pb2\n"
   ],
   "metadata": {
    "collapsed": false,
    "pycharm": {
     "name": "#%%\n"
    }
   }
  },
  {
   "cell_type": "code",
   "execution_count": 2,
   "outputs": [],
   "source": [
    "def create_data_model():\n",
    "    \"\"\"Stores the data for the problem.\"\"\"\n",
    "    data = {\n",
    "        'distance_matrix': [\n",
    "            [0, 548, 776, 696, 582, 274, 502, 194, 308, 194, 536, 502, 388, 354, 468, 776, 662],\n",
    "            [548, 0, 684, 308, 194, 502, 730, 354, 696, 742, 1084, 594, 480, 674, 1016, 868, 1210],\n",
    "            [776, 684, 0, 992, 878, 502, 274, 810, 468, 742, 400, 1278, 1164, 1130, 788, 1552, 754],\n",
    "            [696, 308, 992, 0, 114, 650, 878, 502, 844, 890, 1232, 514, 628, 822, 1164, 560, 1358],\n",
    "            [582, 194, 878, 114, 0, 536, 764, 388, 730, 776, 1118, 400, 514, 708, 1050, 674, 1244],\n",
    "            [274, 502, 502, 650, 536, 0, 228, 308, 194, 240, 582, 776, 662, 628, 514, 1050, 708],\n",
    "            [502, 730, 274, 878, 764, 228, 0, 536, 194, 468, 354, 1004, 890, 856, 514, 1278, 480],\n",
    "            [194, 354, 810, 502, 388, 308, 536, 0, 342, 388, 730, 468, 354, 320, 662, 742, 856],\n",
    "            [308, 696, 468, 844, 730, 194, 194, 342, 0, 274, 388, 810, 696, 662, 320, 1084, 514],\n",
    "            [194, 742, 742, 890, 776, 240, 468, 388, 274, 0, 342, 536, 422, 388, 274, 810, 468],\n",
    "            [536, 1084, 400, 1232, 1118, 582, 354, 730, 388, 342, 0, 878, 764, 730, 388, 1152, 354],\n",
    "            [502, 594, 1278, 514, 400, 776, 1004, 468, 810, 536, 878, 0, 114, 308, 650, 274, 844],\n",
    "            [388, 480, 1164, 628, 514, 662, 890, 354, 696, 422, 764, 114, 0, 194, 536, 388, 730],\n",
    "            [354, 674, 1130, 822, 708, 628, 856, 320, 662, 388, 730, 308, 194, 0, 342, 422, 536],\n",
    "            [468, 1016, 788, 1164, 1050, 514, 514, 662, 320, 274, 388, 650, 536, 342, 0, 764, 194],\n",
    "            [776, 868, 1552, 560, 674, 1050, 1278, 742, 1084, 810, 1152, 274, 388, 422, 764, 0, 798],\n",
    "            [662, 1210, 754, 1358, 1244, 708, 480, 856, 514, 468, 354, 844, 730, 536, 194, 798, 0],\n",
    "        ],\n",
    "        'num_vehicles': 4,\n",
    "        'depot': 0,\n",
    "        'demands': [0, 1, 1, 3, 6, 3, 6, 8, 8, 1, 2, 1, 2, 6, 6, 8, 8],\n",
    "        'vehicle_capacities': [15, 15, 15, 15]\n",
    "    }\n",
    "    return data"
   ],
   "metadata": {
    "collapsed": false,
    "pycharm": {
     "name": "#%%\n"
    }
   }
  },
  {
   "cell_type": "code",
   "execution_count": 3,
   "outputs": [],
   "source": [
    "# Instantiate the data problem.\n",
    "data = create_data_model()\n",
    "\n",
    "# Create the routing index manager.\n",
    "manager = pywrapcp.RoutingIndexManager(\n",
    "    len(data['distance_matrix']),\n",
    "    data['num_vehicles'],\n",
    "    data['depot'])\n",
    "\n",
    "# Create Routing Model.\n",
    "routing = pywrapcp.RoutingModel(manager)"
   ],
   "metadata": {
    "collapsed": false,
    "pycharm": {
     "name": "#%%\n"
    }
   }
  },
  {
   "cell_type": "code",
   "execution_count": 4,
   "outputs": [],
   "source": [
    "def distance_callback(from_index, to_index):\n",
    "    \"\"\"Returns the distance between the two nodes.\"\"\"\n",
    "    from_node = manager.IndexToNode(from_index)\n",
    "    to_node = manager.IndexToNode(to_index)\n",
    "    return data['distance_matrix'][from_node][to_node]\n",
    "\n",
    "transit_callback_index = routing.RegisterTransitCallback(distance_callback)\n",
    "routing.SetArcCostEvaluatorOfAllVehicles(transit_callback_index)"
   ],
   "metadata": {
    "collapsed": false,
    "pycharm": {
     "name": "#%%\n"
    }
   }
  },
  {
   "cell_type": "code",
   "execution_count": 5,
   "outputs": [
    {
     "data": {
      "text/plain": "True"
     },
     "execution_count": 5,
     "metadata": {},
     "output_type": "execute_result"
    }
   ],
   "source": [
    "def demand_callback(from_index):\n",
    "    \"\"\"Returns the demand of the node.\"\"\"\n",
    "    from_node = manager.IndexToNode(from_index)\n",
    "    return data['demands'][from_node]\n",
    "\n",
    "demand_callback_index = routing.RegisterUnaryTransitCallback(demand_callback)\n",
    "routing.AddDimensionWithVehicleCapacity(\n",
    "    demand_callback_index,\n",
    "    0,  # null capacity slack\n",
    "    data['vehicle_capacities'],  # vehicle maximum capacities\n",
    "    True,  # start cumul to zero\n",
    "    'Capacity')"
   ],
   "metadata": {
    "collapsed": false,
    "pycharm": {
     "name": "#%%\n"
    }
   }
  },
  {
   "cell_type": "code",
   "execution_count": 6,
   "outputs": [],
   "source": [
    "# Allow to drop nodes.\n",
    "penalty = 1000\n",
    "for node in range(1, len(data['distance_matrix'])):\n",
    "    routing.AddDisjunction([manager.NodeToIndex(node)], penalty)"
   ],
   "metadata": {
    "collapsed": false,
    "pycharm": {
     "name": "#%%\n"
    }
   }
  },
  {
   "cell_type": "code",
   "execution_count": 7,
   "outputs": [],
   "source": [
    "def print_solution(data, manager, routing, solution):\n",
    "    \"\"\"Prints solution on console\"\"\"\n",
    "    print(f'Objective: {solution.ObjectiveValue()}')\n",
    "\n",
    "    # Display dropped nodes.\n",
    "    dropped_nodes = 'Dropped nodes:'\n",
    "    for node in range(routing.Size()):\n",
    "        if routing.IsStart(node) or routing.IsEnd(node):\n",
    "            continue\n",
    "        if solution.Value(routing.NextVar(node)) == node:\n",
    "            dropped_nodes += '{}'.format(manager.IndexToNode(node))\n",
    "    print(dropped_nodes)\n",
    "\n",
    "    # Display routes\n",
    "    total_distance = 0\n",
    "    total_load = 0\n",
    "    for vehicle_id in range(data['num_vehicles']):\n",
    "        index = routing.Start(vehicle_id)\n",
    "        plan_output = 'Route for vehicle {}:\\n'.format(vehicle_id)\n",
    "        route_distance = 0\n",
    "        route_load = 0\n",
    "        while not routing.IsEnd(index):\n",
    "            node_index = manager.IndexToNode(index)\n",
    "            route_load += data['demands'][node_index]\n",
    "            plan_output += ' {0} Load({1}) -> '.format(node_index, route_load)\n",
    "            previous_index = index\n",
    "            index = solution.Value(routing.NextVar(index))\n",
    "            route_distance += routing.GetArcCostForVehicle(\n",
    "                previous_index,\n",
    "                index,\n",
    "                vehicle_id)\n",
    "        plan_output += ' {0} Load({1})\\n'.format(manager.IndexToNode(index), route_load)\n",
    "        plan_output += 'Distance of the route: {}m\\n'.format(route_distance)\n",
    "        plan_output += 'Load of the route: {}\\n'.format(route_load)\n",
    "        print(plan_output)\n",
    "        total_distance += route_distance\n",
    "        total_load += route_load\n",
    "    print('Total distance of all routes: {}m'.format(total_distance))\n",
    "    print('Total load of all routes: {}m'.format(total_load))"
   ],
   "metadata": {
    "collapsed": false,
    "pycharm": {
     "name": "#%%\n"
    }
   }
  },
  {
   "cell_type": "code",
   "execution_count": 8,
   "outputs": [],
   "source": [
    "search_parameters = pywrapcp.DefaultRoutingSearchParameters()\n",
    "search_parameters.first_solution_strategy = (routing_enums_pb2.FirstSolutionStrategy.PATH_CHEAPEST_ARC)"
   ],
   "metadata": {
    "collapsed": false,
    "pycharm": {
     "name": "#%%\n"
    }
   }
  },
  {
   "cell_type": "code",
   "execution_count": 9,
   "outputs": [
    {
     "name": "stdout",
     "output_type": "stream",
     "text": [
      "Objective: 7936\n",
      "Dropped nodes:615\n",
      "Route for vehicle 0:\n",
      " 0 Load(0) ->  9 Load(1) ->  14 Load(7) ->  16 Load(15) ->  0 Load(15)\n",
      "Distance of the route: 1324m\n",
      "Load of the route: 15\n",
      "\n",
      "Route for vehicle 1:\n",
      " 0 Load(0) ->  12 Load(2) ->  11 Load(3) ->  4 Load(9) ->  3 Load(12) ->  1 Load(13) ->  0 Load(13)\n",
      "Distance of the route: 1872m\n",
      "Load of the route: 13\n",
      "\n",
      "Route for vehicle 2:\n",
      " 0 Load(0) ->  7 Load(8) ->  13 Load(14) ->  0 Load(14)\n",
      "Distance of the route: 868m\n",
      "Load of the route: 14\n",
      "\n",
      "Route for vehicle 3:\n",
      " 0 Load(0) ->  8 Load(8) ->  10 Load(10) ->  2 Load(11) ->  5 Load(14) ->  0 Load(14)\n",
      "Distance of the route: 1872m\n",
      "Load of the route: 14\n",
      "\n",
      "Total distance of all routes: 5936m\n",
      "Total load of all routes: 56m\n"
     ]
    }
   ],
   "source": [
    "# Solve the problem.\n",
    "solution = routing.SolveWithParameters(search_parameters)\n",
    "\n",
    "if solution:\n",
    "    print_solution(data, manager, routing, solution)\n",
    "else:\n",
    "    print('No solution found!')"
   ],
   "metadata": {
    "collapsed": false,
    "pycharm": {
     "name": "#%%\n"
    }
   }
  },
  {
   "cell_type": "code",
   "execution_count": 10,
   "outputs": [
    {
     "name": "stdout",
     "output_type": "stream",
     "text": [
      "Objective: 7936\n",
      "Dropped nodes:615\n",
      "Route for vehicle 0:\n",
      " 0 Load(0) ->  9 Load(1) ->  14 Load(7) ->  16 Load(15) ->  0 Load(15)\n",
      "Distance of the route: 1324m\n",
      "Load of the route: 15\n",
      "\n",
      "Route for vehicle 1:\n",
      " 0 Load(0) ->  12 Load(2) ->  11 Load(3) ->  4 Load(9) ->  3 Load(12) ->  1 Load(13) ->  0 Load(13)\n",
      "Distance of the route: 1872m\n",
      "Load of the route: 13\n",
      "\n",
      "Route for vehicle 2:\n",
      " 0 Load(0) ->  7 Load(8) ->  13 Load(14) ->  0 Load(14)\n",
      "Distance of the route: 868m\n",
      "Load of the route: 14\n",
      "\n",
      "Route for vehicle 3:\n",
      " 0 Load(0) ->  8 Load(8) ->  10 Load(10) ->  2 Load(11) ->  5 Load(14) ->  0 Load(14)\n",
      "Distance of the route: 1872m\n",
      "Load of the route: 14\n",
      "\n",
      "Total distance of all routes: 5936m\n",
      "Total load of all routes: 56m\n"
     ]
    }
   ],
   "source": [
    "# Setting first solution heuristic.\n",
    "search_parameters = pywrapcp.DefaultRoutingSearchParameters()\n",
    "search_parameters.first_solution_strategy = (\n",
    "    routing_enums_pb2.FirstSolutionStrategy.PATH_CHEAPEST_ARC)\n",
    "search_parameters.local_search_metaheuristic = (\n",
    "    routing_enums_pb2.LocalSearchMetaheuristic.GUIDED_LOCAL_SEARCH)\n",
    "search_parameters.time_limit.FromSeconds(1)\n",
    "\n",
    "# Solve the problem.\n",
    "assignment = routing.SolveWithParameters(search_parameters)\n",
    "if assignment:\n",
    "    print_solution(data, manager, routing, assignment)\n"
   ],
   "metadata": {
    "collapsed": false,
    "pycharm": {
     "name": "#%%\n"
    }
   }
  },
  {
   "cell_type": "code",
   "execution_count": 10,
   "outputs": [],
   "source": [],
   "metadata": {
    "collapsed": false,
    "pycharm": {
     "name": "#%%\n"
    }
   }
  }
 ],
 "metadata": {
  "kernelspec": {
   "display_name": "Python 3",
   "language": "python",
   "name": "python3"
  },
  "language_info": {
   "codemirror_mode": {
    "name": "ipython",
    "version": 2
   },
   "file_extension": ".py",
   "mimetype": "text/x-python",
   "name": "python",
   "nbconvert_exporter": "python",
   "pygments_lexer": "ipython2",
   "version": "2.7.6"
  }
 },
 "nbformat": 4,
 "nbformat_minor": 0
}