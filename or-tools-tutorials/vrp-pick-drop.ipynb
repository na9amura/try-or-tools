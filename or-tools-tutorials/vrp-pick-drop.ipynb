{
 "cells": [
  {
   "cell_type": "code",
   "execution_count": 9,
   "outputs": [],
   "source": [
    "from ortools.constraint_solver import pywrapcp, routing_enums_pb2\n"
   ],
   "metadata": {
    "collapsed": false,
    "pycharm": {
     "name": "#%%\n"
    }
   }
  },
  {
   "cell_type": "code",
   "execution_count": 10,
   "outputs": [],
   "source": [
    "def create_data_model():\n",
    "    \"\"\"Stores the data for the problem.\"\"\"\n",
    "    data = {\n",
    "        'distance_matrix': [\n",
    "            [0, 548, 776, 696, 582, 274, 502, 194, 308, 194, 536, 502, 388, 354, 468, 776, 662],\n",
    "            [548, 0, 684, 308, 194, 502, 730, 354, 696, 742, 1084, 594, 480, 674, 1016, 868, 1210],\n",
    "            [776, 684, 0, 992, 878, 502, 274, 810, 468, 742, 400, 1278, 1164, 1130, 788, 1552, 754],\n",
    "            [696, 308, 992, 0, 114, 650, 878, 502, 844, 890, 1232, 514, 628, 822, 1164, 560, 1358],\n",
    "            [582, 194, 878, 114, 0, 536, 764, 388, 730, 776, 1118, 400, 514, 708, 1050, 674, 1244],\n",
    "            [274, 502, 502, 650, 536, 0, 228, 308, 194, 240, 582, 776, 662, 628, 514, 1050, 708],\n",
    "            [502, 730, 274, 878, 764, 228, 0, 536, 194, 468, 354, 1004, 890, 856, 514, 1278, 480],\n",
    "            [194, 354, 810, 502, 388, 308, 536, 0, 342, 388, 730, 468, 354, 320, 662, 742, 856],\n",
    "            [308, 696, 468, 844, 730, 194, 194, 342, 0, 274, 388, 810, 696, 662, 320, 1084, 514],\n",
    "            [194, 742, 742, 890, 776, 240, 468, 388, 274, 0, 342, 536, 422, 388, 274, 810, 468],\n",
    "            [536, 1084, 400, 1232, 1118, 582, 354, 730, 388, 342, 0, 878, 764, 730, 388, 1152, 354],\n",
    "            [502, 594, 1278, 514, 400, 776, 1004, 468, 810, 536, 878, 0, 114, 308, 650, 274, 844],\n",
    "            [388, 480, 1164, 628, 514, 662, 890, 354, 696, 422, 764, 114, 0, 194, 536, 388, 730],\n",
    "            [354, 674, 1130, 822, 708, 628, 856, 320, 662, 388, 730, 308, 194, 0, 342, 422, 536],\n",
    "            [468, 1016, 788, 1164, 1050, 514, 514, 662, 320, 274, 388, 650, 536, 342, 0, 764, 194],\n",
    "            [776, 868, 1552, 560, 674, 1050, 1278, 742, 1084, 810, 1152, 274, 388, 422, 764, 0, 798],\n",
    "            [662, 1210, 754, 1358, 1244, 708, 480, 856, 514, 468, 354, 844, 730, 536, 194, 798, 0],\n",
    "        ],\n",
    "        'num_vehicles': 4,\n",
    "        'depot': 0,\n",
    "        'pickup_deliveries': [\n",
    "            [1, 6],\n",
    "            [2, 10],\n",
    "            [4, 3],\n",
    "            [5, 9],\n",
    "            [7, 8],\n",
    "            [15, 11],\n",
    "            [13, 12],\n",
    "            [16, 14],\n",
    "        ]\n",
    "    }\n",
    "    return data"
   ],
   "metadata": {
    "collapsed": false,
    "pycharm": {
     "name": "#%%\n"
    }
   }
  },
  {
   "cell_type": "code",
   "execution_count": 11,
   "outputs": [],
   "source": [
    "# Instantiate the data problem.\n",
    "data = create_data_model()\n",
    "\n",
    "# Create the routing index manager.\n",
    "manager = pywrapcp.RoutingIndexManager(\n",
    "    len(data['distance_matrix']),\n",
    "    data['num_vehicles'],\n",
    "    data['depot'])\n",
    "\n",
    "# Create Routing Model.\n",
    "routing = pywrapcp.RoutingModel(manager)"
   ],
   "metadata": {
    "collapsed": false,
    "pycharm": {
     "name": "#%%\n"
    }
   }
  },
  {
   "cell_type": "code",
   "execution_count": 12,
   "outputs": [],
   "source": [
    "def distance_callback(from_index, to_index):\n",
    "    \"\"\"Returns the distance between the two nodes.\"\"\"\n",
    "    from_node = manager.IndexToNode(from_index)\n",
    "    to_node = manager.IndexToNode(to_index)\n",
    "    return data['distance_matrix'][from_node][to_node]\n",
    "\n",
    "transit_callback_index = routing.RegisterTransitCallback(distance_callback)\n",
    "routing.SetArcCostEvaluatorOfAllVehicles(transit_callback_index)\n",
    "\n",
    "dimension_name = 'Distance'\n",
    "routing.AddDimension(\n",
    "    transit_callback_index,\n",
    "    0,  # no slack\n",
    "    3000,  # vehicle maximum travel distance\n",
    "    True,  # start cumul to zero\n",
    "    dimension_name,\n",
    ")\n",
    "distance_dimension = routing.GetDimensionOrDie(dimension_name)\n",
    "distance_dimension.SetGlobalSpanCostCoefficient(100)"
   ],
   "metadata": {
    "collapsed": false,
    "pycharm": {
     "name": "#%%\n"
    }
   }
  },
  {
   "cell_type": "code",
   "execution_count": 13,
   "outputs": [],
   "source": [
    "for request in data['pickup_deliveries']:\n",
    "    pickup_index = manager.NodeToIndex(request[0])\n",
    "    delivery_index = manager.NodeToIndex(request[1])\n",
    "    routing.AddPickupAndDelivery(pickup_index, delivery_index)\n",
    "\n",
    "    # each item must be picked up and delivered by the same vehicle\n",
    "    routing.solver().Add(routing.VehicleVar(pickup_index) == routing.VehicleVar(delivery_index))\n",
    "\n",
    "    # each item must be picked up before it is delivered\n",
    "    # -> cumulative distance at pickup location is at most its cumulative distance at the delivery location\n",
    "    routing.solver().Add(distance_dimension.CumulVar(pickup_index) <= distance_dimension.CumulVar(delivery_index))"
   ],
   "metadata": {
    "collapsed": false,
    "pycharm": {
     "name": "#%%\n"
    }
   }
  },
  {
   "cell_type": "code",
   "execution_count": 14,
   "outputs": [],
   "source": [
    "def print_solution(data, manager, routing, solution):\n",
    "    \"\"\"Prints solution on console\"\"\"\n",
    "    print(f'Objective: {solution.ObjectiveValue()}')\n",
    "    max_route_distance = 0\n",
    "    for vehicle_id in range(data['num_vehicles']):\n",
    "        index = routing.Start(vehicle_id)\n",
    "        plan_output = 'Route for vehicle {}:\\n'.format(vehicle_id)\n",
    "        route_distance = 0\n",
    "        while not routing.IsEnd(index):\n",
    "            plan_output += ' {} -> '.format(manager.IndexToNode(index))\n",
    "            previous_index = index\n",
    "            index = solution.Value(routing.NextVar(index))\n",
    "            route_distance += routing.GetArcCostForVehicle(\n",
    "                previous_index,\n",
    "                index,\n",
    "                vehicle_id)\n",
    "        plan_output += '{}\\n'.format(manager.IndexToNode(index))\n",
    "        plan_output += 'Distance of the routeL {}m\\n'.format(route_distance)\n",
    "        print(plan_output)\n",
    "        max_route_distance = max(route_distance, max_route_distance)\n",
    "    print('Maximum of the route distances: {}m'.format(max_route_distance))"
   ],
   "metadata": {
    "collapsed": false,
    "pycharm": {
     "name": "#%%\n"
    }
   }
  },
  {
   "cell_type": "code",
   "execution_count": 15,
   "outputs": [],
   "source": [
    "search_parameters = pywrapcp.DefaultRoutingSearchParameters()\n",
    "search_parameters.first_solution_strategy = (routing_enums_pb2.FirstSolutionStrategy.PATH_CHEAPEST_ARC)"
   ],
   "metadata": {
    "collapsed": false,
    "pycharm": {
     "name": "#%%\n"
    }
   }
  },
  {
   "cell_type": "code",
   "execution_count": 16,
   "outputs": [
    {
     "name": "stdout",
     "output_type": "stream",
     "text": [
      "Objective: 210504\n",
      "Route for vehicle 0:\n",
      " 0 ->  16 ->  14 ->  13 ->  12 -> 0\n",
      "Distance of the routeL 1780m\n",
      "\n",
      "Route for vehicle 1:\n",
      " 0 ->  7 ->  1 ->  6 ->  8 -> 0\n",
      "Distance of the routeL 1780m\n",
      "\n",
      "Route for vehicle 2:\n",
      " 0 ->  4 ->  3 ->  15 ->  11 -> 0\n",
      "Distance of the routeL 2032m\n",
      "\n",
      "Route for vehicle 3:\n",
      " 0 ->  5 ->  2 ->  10 ->  9 -> 0\n",
      "Distance of the routeL 1712m\n",
      "\n",
      "Maximum of the route distances: 2032m\n"
     ]
    }
   ],
   "source": [
    "# Solve the problem.\n",
    "solution = routing.SolveWithParameters(search_parameters)\n",
    "\n",
    "if solution:\n",
    "    print_solution(data, manager, routing, solution)\n",
    "else:\n",
    "    print('No solution found!')"
   ],
   "metadata": {
    "collapsed": false,
    "pycharm": {
     "name": "#%%\n"
    }
   }
  }
 ],
 "metadata": {
  "kernelspec": {
   "display_name": "Python 3",
   "language": "python",
   "name": "python3"
  },
  "language_info": {
   "codemirror_mode": {
    "name": "ipython",
    "version": 2
   },
   "file_extension": ".py",
   "mimetype": "text/x-python",
   "name": "python",
   "nbconvert_exporter": "python",
   "pygments_lexer": "ipython2",
   "version": "2.7.6"
  }
 },
 "nbformat": 4,
 "nbformat_minor": 0
}