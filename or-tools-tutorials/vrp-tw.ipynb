{
 "cells": [
  {
   "cell_type": "code",
   "execution_count": 1,
   "metadata": {
    "collapsed": true
   },
   "outputs": [],
   "source": [
    "def create_data_model():\n",
    "    \"\"\"Stores the data for the problem.\"\"\"\n",
    "    data = {}\n",
    "    data['time_matrix'] = [\n",
    "        [0, 6, 9, 8, 7, 3, 6, 2, 3, 2, 6, 6, 4, 4, 5, 9, 7],\n",
    "        [6, 0, 8, 3, 2, 6, 8, 4, 8, 8, 13, 7, 5, 8, 12, 10, 14],\n",
    "        [9, 8, 0, 11, 10, 6, 3, 9, 5, 8, 4, 15, 14, 13, 9, 18, 9],\n",
    "        [8, 3, 11, 0, 1, 7, 10, 6, 10, 10, 14, 6, 7, 9, 14, 6, 16],\n",
    "        [7, 2, 10, 1, 0, 6, 9, 4, 8, 9, 13, 4, 6, 8, 12, 8, 14],\n",
    "        [3, 6, 6, 7, 6, 0, 2, 3, 2, 2, 7, 9, 7, 7, 6, 12, 8],\n",
    "        [6, 8, 3, 10, 9, 2, 0, 6, 2, 5, 4, 12, 10, 10, 6, 15, 5],\n",
    "        [2, 4, 9, 6, 4, 3, 6, 0, 4, 4, 8, 5, 4, 3, 7, 8, 10],\n",
    "        [3, 8, 5, 10, 8, 2, 2, 4, 0, 3, 4, 9, 8, 7, 3, 13, 6],\n",
    "        [2, 8, 8, 10, 9, 2, 5, 4, 3, 0, 4, 6, 5, 4, 3, 9, 5],\n",
    "        [6, 13, 4, 14, 13, 7, 4, 8, 4, 4, 0, 10, 9, 8, 4, 13, 4],\n",
    "        [6, 7, 15, 6, 4, 9, 12, 5, 9, 6, 10, 0, 1, 3, 7, 3, 10],\n",
    "        [4, 5, 14, 7, 6, 7, 10, 4, 8, 5, 9, 1, 0, 2, 6, 4, 8],\n",
    "        [4, 8, 13, 9, 8, 7, 10, 3, 7, 4, 8, 3, 2, 0, 4, 5, 6],\n",
    "        [5, 12, 9, 14, 12, 6, 6, 7, 3, 3, 4, 7, 6, 4, 0, 9, 2],\n",
    "        [9, 10, 18, 6, 8, 12, 15, 8, 13, 9, 13, 3, 4, 5, 9, 0, 9],\n",
    "        [7, 14, 9, 16, 14, 8, 5, 10, 6, 5, 4, 10, 8, 6, 2, 9, 0],\n",
    "    ]\n",
    "    data['time_windows'] = [\n",
    "        (0, 5),  # depot\n",
    "        (7, 12),  # 1\n",
    "        (10, 15),  # 2\n",
    "        (16, 18),  # 3\n",
    "        (10, 13),  # 4\n",
    "        (0, 5),  # 5\n",
    "        (5, 10),  # 6\n",
    "        (0, 4),  # 7\n",
    "        (5, 10),  # 8\n",
    "        (0, 3),  # 9\n",
    "        (10, 16),  # 10\n",
    "        (10, 15),  # 11\n",
    "        (0, 5),  # 12\n",
    "        (5, 10),  # 13\n",
    "        (7, 8),  # 14\n",
    "        (10, 15),  # 15\n",
    "        (11, 15),  # 16\n",
    "    ]\n",
    "    data['num_vehicles'] = 4\n",
    "    data['depot'] = 0\n",
    "    return data\n"
   ]
  },
  {
   "cell_type": "code",
   "execution_count": 3,
   "outputs": [],
   "source": [
    "from ortools.constraint_solver import pywrapcp\n",
    "\n",
    "# Instantiate the data problem.\n",
    "data = create_data_model()\n",
    "\n",
    "# Create the routing index manager.\n",
    "manager = pywrapcp.RoutingIndexManager(\n",
    "    len(data['time_matrix']),\n",
    "    data['num_vehicles'],\n",
    "    data['depot'])\n",
    "\n",
    "# Create Routing Model.\n",
    "routing = pywrapcp.RoutingModel(manager)"
   ],
   "metadata": {
    "collapsed": false,
    "pycharm": {
     "name": "#%%\n"
    }
   }
  },
  {
   "cell_type": "code",
   "execution_count": 4,
   "outputs": [],
   "source": [
    "def time_callback(from_index, to_index):\n",
    "    \"\"\"Returns the travel time between the two nodes.\"\"\"\n",
    "    from_node = manager.IndexToNode(from_index)\n",
    "    to_node = manager.IndexToNode(to_index)\n",
    "    return data['time_matrix'][from_node][to_node]\n",
    "\n",
    "transit_callback_index = routing.RegisterTransitCallback(time_callback)\n",
    "routing.SetArcCostEvaluatorOfAllVehicles(transit_callback_index)"
   ],
   "metadata": {
    "collapsed": false,
    "pycharm": {
     "name": "#%%\n"
    }
   }
  },
  {
   "cell_type": "code",
   "execution_count": 5,
   "outputs": [],
   "source": [
    "time = 'Time'\n",
    "routing.AddDimension(\n",
    "    transit_callback_index,\n",
    "    30,  # allow waiting time\n",
    "    30,  # maximum time per vehicle\n",
    "    False,  # Don't force start cumul to zero.\n",
    "    time)\n",
    "time_dimension = routing.GetDimensionOrDie(time)\n",
    "\n",
    "# Add time window constraints for each location except depot.\n",
    "for location_idx, time_window in enumerate(data['time_windows']):\n",
    "    if location_idx == data['depot']:\n",
    "        continue\n",
    "    index = manager.NodeToIndex(location_idx)\n",
    "    time_dimension.CumulVar(index).SetRange(time_window[0], time_window[1])\n",
    "\n",
    "# Add time window constraints for each vehicle start node.\n",
    "depot_idx = data['depot']\n",
    "for vehicle_id in range(data['num_vehicles']):\n",
    "    index = routing.Start(vehicle_id)\n",
    "    time_dimension.CumulVar(index).SetRange(\n",
    "        data['time_windows'][depot_idx][0],\n",
    "        data['time_windows'][depot_idx][1])\n",
    "\n",
    "for i in range(data['num_vehicles']):\n",
    "    routing.AddVariableMinimizedByFinalizer(time_dimension.CumulVar(routing.Start(i)))\n",
    "    routing.AddVariableMinimizedByFinalizer(time_dimension.CumulVar(routing.End(i)))"
   ],
   "metadata": {
    "collapsed": false,
    "pycharm": {
     "name": "#%%\n"
    }
   }
  },
  {
   "cell_type": "code",
   "execution_count": 6,
   "outputs": [],
   "source": [
    "from ortools.constraint_solver import routing_enums_pb2\n",
    "\n",
    "search_parameters = pywrapcp.DefaultRoutingSearchParameters()\n",
    "search_parameters.first_solution_strategy = (routing_enums_pb2.FirstSolutionStrategy.PATH_CHEAPEST_ARC)"
   ],
   "metadata": {
    "collapsed": false,
    "pycharm": {
     "name": "#%%\n"
    }
   }
  },
  {
   "cell_type": "code",
   "execution_count": 7,
   "outputs": [],
   "source": [
    "def print_solution(data, manager, routing, solution):\n",
    "    \"\"\"Prints solution on console.\"\"\"\n",
    "    print(f'Objective: {solution.ObjectiveValue()}')\n",
    "    time_dimension = routing.GetDimensionOrDie('Time')\n",
    "    total_time = 0\n",
    "    for vehicle_id in range(data['num_vehicles']):\n",
    "        index = routing.Start(vehicle_id)\n",
    "        plan_output = 'Route for vehicle {}:\\n'.format(vehicle_id)\n",
    "        while not routing.IsEnd(index):\n",
    "            time_var = time_dimension.CumulVar(index)\n",
    "            plan_output += '{0} Time({1}, {2}) -> '.format(\n",
    "                manager.IndexToNode(index),\n",
    "                solution.Min(time_var),\n",
    "                solution.Max(time_var))\n",
    "            index = solution.Value(routing.NextVar(index))\n",
    "        time_var = time_dimension.CumulVar(index)\n",
    "        plan_output += '{0} Time({1}, {2})\\n'.format(\n",
    "            manager.IndexToNode(index),\n",
    "            solution.Min(time_var),\n",
    "            solution.Max(time_var))\n",
    "        plan_output += 'Time of the route: {}min\\n'.format(solution.Min(time_var))\n",
    "        print(plan_output)\n",
    "        total_time += solution.Min(time_var)\n",
    "    print('Total time of all routes: {}min'.format(total_time))"
   ],
   "metadata": {
    "collapsed": false,
    "pycharm": {
     "name": "#%%\n"
    }
   }
  },
  {
   "cell_type": "code",
   "execution_count": 8,
   "outputs": [
    {
     "name": "stdout",
     "output_type": "stream",
     "text": [
      "Objective: 71\n",
      "Route for vehicle 0:\n",
      "0 Time(0, 0) -> 9 Time(2, 3) -> 14 Time(7, 8) -> 16 Time(11, 11) -> 0 Time(18, 18)\n",
      "Time of the route: 18min\n",
      "\n",
      "Route for vehicle 1:\n",
      "0 Time(0, 0) -> 7 Time(2, 4) -> 1 Time(7, 11) -> 4 Time(10, 13) -> 3 Time(16, 16) -> 0 Time(24, 24)\n",
      "Time of the route: 24min\n",
      "\n",
      "Route for vehicle 2:\n",
      "0 Time(0, 0) -> 12 Time(4, 4) -> 13 Time(6, 6) -> 15 Time(11, 11) -> 11 Time(14, 14) -> 0 Time(20, 20)\n",
      "Time of the route: 20min\n",
      "\n",
      "Route for vehicle 3:\n",
      "0 Time(0, 0) -> 5 Time(3, 3) -> 8 Time(5, 5) -> 6 Time(7, 7) -> 2 Time(10, 10) -> 10 Time(14, 14) -> 0 Time(20, 20)\n",
      "Time of the route: 20min\n",
      "\n",
      "Total time of all routes: 82min\n"
     ]
    }
   ],
   "source": [
    "solution = routing.SolveWithParameters(search_parameters)\n",
    "print_solution(data, manager, routing, solution)"
   ],
   "metadata": {
    "collapsed": false,
    "pycharm": {
     "name": "#%%\n"
    }
   }
  },
  {
   "cell_type": "code",
   "execution_count": 9,
   "outputs": [
    {
     "data": {
      "text/plain": "<ortools.constraint_solver.pywrapcp.Assignment; proxy of <Swig Object of type 'operations_research::Assignment *' at 0x10d81cea0> >"
     },
     "execution_count": 9,
     "metadata": {},
     "output_type": "execute_result"
    }
   ],
   "source": [
    "solution"
   ],
   "metadata": {
    "collapsed": false,
    "pycharm": {
     "name": "#%%\n"
    }
   }
  },
  {
   "cell_type": "code",
   "execution_count": 18,
   "outputs": [],
   "source": [
    "def print_solution2(data, manager, routing, solution):\n",
    "    \"\"\"Prints solution on console.\"\"\"\n",
    "    print(f'Objective: {solution.ObjectiveValue()}')\n",
    "    time_dimension = routing.GetDimensionOrDie('Time')\n",
    "    total_time = 0\n",
    "    for vehicle_id in range(data['num_vehicles']):\n",
    "        prev_index = -1\n",
    "        index = routing.Start(vehicle_id)\n",
    "        plan_output = 'Route for vehicle {}:\\n'.format(vehicle_id)\n",
    "        while not routing.IsEnd(index):\n",
    "            time_var = time_dimension.CumulVar(index)\n",
    "            if prev_index > -1:\n",
    "                plan_output += '{3}min -> Loc{0} Time({1}, {2}) -> '.format(\n",
    "                    manager.IndexToNode(index),\n",
    "                    solution.Min(time_var),\n",
    "                    solution.Max(time_var),\n",
    "                    data['time_matrix'][manager.IndexToNode(prev_index)][manager.IndexToNode(index)])\n",
    "            else:\n",
    "                plan_output += 'Loc{0} Time({1}, {2}) -> '.format(\n",
    "                    manager.IndexToNode(index),\n",
    "                    solution.Min(time_var),\n",
    "                    solution.Max(time_var))\n",
    "            prev_index = index\n",
    "            index = solution.Value(routing.NextVar(index))\n",
    "        time_var = time_dimension.CumulVar(index)\n",
    "        plan_output += 'Loc{0} Time({1}, {2})\\n'.format(\n",
    "            manager.IndexToNode(index),\n",
    "            solution.Min(time_var),\n",
    "            solution.Max(time_var))\n",
    "        plan_output += 'Time of the route: {}min\\n'.format(solution.Min(time_var))\n",
    "        print(plan_output)\n",
    "        total_time += solution.Min(time_var)\n",
    "    print('Total time of all routes: {}min'.format(total_time))"
   ],
   "metadata": {
    "collapsed": false,
    "pycharm": {
     "name": "#%%\n"
    }
   }
  },
  {
   "cell_type": "code",
   "execution_count": 19,
   "outputs": [
    {
     "name": "stdout",
     "output_type": "stream",
     "text": [
      "Objective: 71\n",
      "Route for vehicle 0:\n",
      "Loc0 Time(0, 0) -> 2min -> Loc9 Time(2, 3) -> 3min -> Loc14 Time(7, 8) -> 2min -> Loc16 Time(11, 11) -> Loc0 Time(18, 18)\n",
      "Time of the route: 18min\n",
      "\n",
      "Route for vehicle 1:\n",
      "Loc0 Time(0, 0) -> 2min -> Loc7 Time(2, 4) -> 4min -> Loc1 Time(7, 11) -> 2min -> Loc4 Time(10, 13) -> 1min -> Loc3 Time(16, 16) -> Loc0 Time(24, 24)\n",
      "Time of the route: 24min\n",
      "\n",
      "Route for vehicle 2:\n",
      "Loc0 Time(0, 0) -> 4min -> Loc12 Time(4, 4) -> 2min -> Loc13 Time(6, 6) -> 5min -> Loc15 Time(11, 11) -> 3min -> Loc11 Time(14, 14) -> Loc0 Time(20, 20)\n",
      "Time of the route: 20min\n",
      "\n",
      "Route for vehicle 3:\n",
      "Loc0 Time(0, 0) -> 3min -> Loc5 Time(3, 3) -> 2min -> Loc8 Time(5, 5) -> 2min -> Loc6 Time(7, 7) -> 3min -> Loc2 Time(10, 10) -> 4min -> Loc10 Time(14, 14) -> Loc0 Time(20, 20)\n",
      "Time of the route: 20min\n",
      "\n",
      "Total time of all routes: 82min\n"
     ]
    }
   ],
   "source": [
    "solution = routing.SolveWithParameters(search_parameters)\n",
    "print_solution2(data, manager, routing, solution)"
   ],
   "metadata": {
    "collapsed": false,
    "pycharm": {
     "name": "#%%\n"
    }
   }
  },
  {
   "cell_type": "code",
   "execution_count": 26,
   "outputs": [
    {
     "name": "stdout",
     "output_type": "stream",
     "text": [
      "0 9 9\n",
      "1 7 7\n",
      "2 12 12\n",
      "3 5 5\n"
     ]
    }
   ],
   "source": [
    "for vehicle_id in range(data['num_vehicles']):\n",
    "    index = routing.Start(vehicle_id)\n",
    "    index = solution.Value(routing.NextVar(index))\n",
    "    print(vehicle_id, index, manager.IndexToNode(index))"
   ],
   "metadata": {
    "collapsed": false,
    "pycharm": {
     "name": "#%%\n"
    }
   }
  },
  {
   "cell_type": "code",
   "execution_count": 27,
   "outputs": [],
   "source": [
    "def get_cumul_data(solution, routing, dimension):\n",
    "    \"\"\"Get cumulative data from a dimension and store it in an array\"\"\"\n",
    "\n",
    "    cumul_data = []\n",
    "    for route_nbr in range(routing.vehicles()):\n",
    "        route_data = []\n",
    "        index = routing.Start(route_nbr)\n",
    "        dim_var = dimension.CumulVar(index)\n",
    "        route_data.append([solution.Min(dim_var), solution.Max(dim_var)])\n",
    "        while not routing.IsEnd(index):\n",
    "            index = solution.Value(routing.NextVar(index))\n",
    "            dim_var = dimension.CumulVar(index)\n",
    "            route_data.append(([solution.Min(dim_var), solution.Max(dim_var)]))\n",
    "        cumul_data.append(route_data)\n",
    "    return cumul_data"
   ],
   "metadata": {
    "collapsed": false,
    "pycharm": {
     "name": "#%%\n"
    }
   }
  },
  {
   "cell_type": "code",
   "execution_count": 33,
   "outputs": [
    {
     "data": {
      "text/plain": "[[[0, 0], [2, 3], [7, 8], [11, 11], [18, 18]],\n [[0, 0], [2, 4], [7, 11], [10, 13], [16, 16], [24, 24]],\n [[0, 0], [4, 4], [6, 6], [11, 11], [14, 14], [20, 20]],\n [[0, 0], [3, 3], [5, 5], [7, 7], [10, 10], [14, 14], [20, 20]]]"
     },
     "execution_count": 33,
     "metadata": {},
     "output_type": "execute_result"
    }
   ],
   "source": [
    "cumul_data = get_cumul_data(solution, routing, time_dimension)\n",
    "cumul_data"
   ],
   "metadata": {
    "collapsed": false,
    "pycharm": {
     "name": "#%%\n"
    }
   }
  },
  {
   "cell_type": "code",
   "execution_count": 35,
   "outputs": [
    {
     "data": {
      "text/plain": "<ortools.constraint_solver.pywrapcp.Assignment; proxy of <Swig Object of type 'operations_research::Assignment *' at 0x10e317300> >"
     },
     "execution_count": 35,
     "metadata": {},
     "output_type": "execute_result"
    }
   ],
   "source": [
    "solution"
   ],
   "metadata": {
    "collapsed": false,
    "pycharm": {
     "name": "#%%\n"
    }
   }
  },
  {
   "cell_type": "code",
   "execution_count": 39,
   "outputs": [],
   "source": [
    "# WIP\n",
    "def print_solution3(cumul_data):\n",
    "    total_time = 0\n",
    "    route_str = ''\n",
    "    for vehicle_id, route in enumerate(cumul_data):\n",
    "        route_str += 'Route {}:\\n'.format(vehicle_id)\n",
    "\n",
    "        # Start location\n",
    "        start_time = cumul_data[i][0][0]\n",
    "        end_time = cumul_data[i][0][1]\n",
    "        route_str += '  {0} Time({1}, {2})'.format(route[0], start_time, end_time)\n",
    "\n",
    "        # Visit locations\n",
    "        for j in range(1, len(route)):\n",
    "            start_time = cumul_data[i][j][0]\n",
    "            end_time = cumul_data[i][j][1]\n",
    "            route_str += ' -> {0} Time({1}, {2})'.format(route[j], start_time, end_time)\n",
    "\n",
    "        route_str += '\\n  Route time: {}min'.format(start_time)\n",
    "        total_time += cumul_data[i][len(route) - 1][0]\n",
    "\n",
    "    route_str += 'Total time: {}min'.format(total_time)\n",
    "    print(route_str)"
   ],
   "metadata": {
    "collapsed": false,
    "pycharm": {
     "name": "#%%\n"
    }
   }
  },
  {
   "cell_type": "code",
   "execution_count": 40,
   "outputs": [
    {
     "name": "stdout",
     "output_type": "stream",
     "text": [
      "Route 0:\n",
      "  [0, 0] Time(0, 0) -> [2, 3] Time(3, 3) -> [7, 8] Time(5, 5) -> [11, 11] Time(7, 7) -> [18, 18] Time(10, 10)\n",
      "  Route time: 10minRoute 1:\n",
      "  [0, 0] Time(0, 0) -> [2, 4] Time(3, 3) -> [7, 11] Time(5, 5) -> [10, 13] Time(7, 7) -> [16, 16] Time(10, 10) -> [24, 24] Time(14, 14)\n",
      "  Route time: 14minRoute 2:\n",
      "  [0, 0] Time(0, 0) -> [4, 4] Time(3, 3) -> [6, 6] Time(5, 5) -> [11, 11] Time(7, 7) -> [14, 14] Time(10, 10) -> [20, 20] Time(14, 14)\n",
      "  Route time: 14minRoute 3:\n",
      "  [0, 0] Time(0, 0) -> [3, 3] Time(3, 3) -> [5, 5] Time(5, 5) -> [7, 7] Time(7, 7) -> [10, 10] Time(10, 10) -> [14, 14] Time(14, 14) -> [20, 20] Time(20, 20)\n",
      "  Route time: 20minTotal time: 58min\n"
     ]
    }
   ],
   "source": [
    "print_solution3(cumul_data)\n"
   ],
   "metadata": {
    "collapsed": false,
    "pycharm": {
     "name": "#%%\n"
    }
   }
  },
  {
   "cell_type": "code",
   "execution_count": null,
   "outputs": [],
   "source": [],
   "metadata": {
    "collapsed": false,
    "pycharm": {
     "name": "#%%\n"
    }
   }
  }
 ],
 "metadata": {
  "kernelspec": {
   "display_name": "Python 3",
   "language": "python",
   "name": "python3"
  },
  "language_info": {
   "codemirror_mode": {
    "name": "ipython",
    "version": 2
   },
   "file_extension": ".py",
   "mimetype": "text/x-python",
   "name": "python",
   "nbconvert_exporter": "python",
   "pygments_lexer": "ipython2",
   "version": "2.7.6"
  }
 },
 "nbformat": 4,
 "nbformat_minor": 0
}