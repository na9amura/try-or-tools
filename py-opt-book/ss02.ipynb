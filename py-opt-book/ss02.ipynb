{
 "cells": [
  {
   "cell_type": "markdown",
   "metadata": {
    "collapsed": true,
    "pycharm": {
     "name": "#%% md\n"
    }
   },
   "source": [
    "## 2.1"
   ]
  },
  {
   "cell_type": "markdown",
   "source": [
    "### Describe this calculation using Python\n",
    "\n",
    "Q: How many apples and pears did a person bought?\n",
    "\n",
    "- apple @120\n",
    "- pear @150\n",
    "- total quantity 10\n",
    "- total price 1440\n",
    "\n",
    "A:\n",
    "\n",
    "Put `x` as number of apples and `y` as of pears.\n",
    "\n",
    "- 120 * x + 150 * y = 1440\n",
    "- x + y = 10\n",
    "\n",
    "In result, x = 2 and y = 8"
   ],
   "metadata": {
    "collapsed": false,
    "pycharm": {
     "name": "#%% md\n"
    }
   }
  },
  {
   "cell_type": "code",
   "execution_count": 1,
   "outputs": [],
   "source": [
    "import pulp\n",
    "\n",
    "problem = pulp.LpProblem(\"SLE\", pulp.LpMaximize)"
   ],
   "metadata": {
    "collapsed": false,
    "pycharm": {
     "name": "#%%\n"
    }
   }
  },
  {
   "cell_type": "code",
   "execution_count": 2,
   "outputs": [],
   "source": [
    "x = pulp.LpVariable('x', cat=pulp.LpContinuous)\n",
    "y = pulp.LpVariable('y', cat=pulp.LpContinuous)"
   ],
   "metadata": {
    "collapsed": false,
    "pycharm": {
     "name": "#%%\n"
    }
   }
  },
  {
   "cell_type": "code",
   "execution_count": 3,
   "outputs": [],
   "source": [
    "problem += 120 * x + 150 * y == 1440\n",
    "problem += x + y == 10"
   ],
   "metadata": {
    "collapsed": false,
    "pycharm": {
     "name": "#%%\n"
    }
   }
  },
  {
   "cell_type": "code",
   "execution_count": 4,
   "outputs": [
    {
     "name": "stdout",
     "output_type": "stream",
     "text": [
      "Welcome to the CBC MILP Solver \n",
      "Version: 2.10.3 \n",
      "Build Date: Dec 15 2019 \n",
      "\n",
      "command line - /Users/ta.nakamura/src/github.com/na9amura/try-or-tools/venv/lib/python3.9/site-packages/pulp/apis/../solverdir/cbc/osx/64/cbc /var/folders/y3/x37rtt0s6fn4r9r7__s24rzc0000gp/T/5b7b69c221f74006b58d253d00eb7231-pulp.mps max timeMode elapsed branch printingOptions all solution /var/folders/y3/x37rtt0s6fn4r9r7__s24rzc0000gp/T/5b7b69c221f74006b58d253d00eb7231-pulp.sol (default strategy 1)\n",
      "At line 2 NAME          MODEL\n",
      "At line 3 ROWS\n",
      "At line 7 COLUMNS\n",
      "At line 13 RHS\n",
      "At line 16 BOUNDS\n",
      "At line 20 ENDATA\n",
      "Problem MODEL has 2 rows, 3 columns and 4 elements\n",
      "Coin0008I MODEL read with 0 errors\n",
      "Option for timeMode changed from cpu to elapsed\n",
      "Presolve 0 (-2) rows, 0 (-3) columns and 0 (-4) elements\n",
      "Empty problem - 0 rows, 0 columns and 0 elements\n",
      "Optimal - objective value -0\n",
      "After Postsolve, objective 0, infeasibilities - dual 0 (0), primal 0 (0)\n",
      "Optimal objective 0 - 0 iterations time 0.002, Presolve 0.00\n",
      "Option for printingOptions changed from normal to all\n",
      "Total time (CPU seconds):       0.00   (Wallclock seconds):       0.02\n",
      "\n"
     ]
    },
    {
     "data": {
      "text/plain": "'Optimal'"
     },
     "execution_count": 4,
     "metadata": {},
     "output_type": "execute_result"
    }
   ],
   "source": [
    "status = problem.solve()\n",
    "pulp.LpStatus[status]"
   ],
   "metadata": {
    "collapsed": false,
    "pycharm": {
     "name": "#%%\n"
    }
   }
  },
  {
   "cell_type": "code",
   "execution_count": 5,
   "outputs": [
    {
     "data": {
      "text/plain": "(2.0, 8.0)"
     },
     "execution_count": 5,
     "metadata": {},
     "output_type": "execute_result"
    }
   ],
   "source": [
    "x.value(), y.value()"
   ],
   "metadata": {
    "collapsed": false,
    "pycharm": {
     "name": "#%%\n"
    }
   }
  },
  {
   "cell_type": "markdown",
   "source": [
    "## 2.2"
   ],
   "metadata": {
    "collapsed": false,
    "pycharm": {
     "name": "#%% md\n"
    }
   }
  },
  {
   "cell_type": "markdown",
   "source": [
    "Q: How can we maximize our profit under these condition?\n",
    "\n",
    "- Product *p* and *q* require material *m* and *n*.\n",
    "- 1kg of *p* consists of\n",
    "    - 1kg of *m*\n",
    "    - 2kg og *n*\n",
    "- 1kg of *q* consists of\n",
    "    - 3kg of *m*\n",
    "    - 1kg of *n*\n",
    "- The stock of *m* is 30kg\n",
    "- The stock of *n* is 40kg\n",
    "- The profit per 1kg of *p* is 10k and of *q* is 20k\n",
    "\n",
    "\n",
    "A:\n",
    "\n",
    "Put x as total weight of produced *p* and y as of *q*\n",
    "\n",
    "- x + 3y <= 30\n",
    "- 2x + y <= 40\n",
    "- x >= 0\n",
    "- y >= 0\n",
    "- Maximize p * 10_000 + q * 20_000\n",
    "\n",
    "In result, x = 18 and y = 4"
   ],
   "metadata": {
    "collapsed": false,
    "pycharm": {
     "name": "#%% md\n"
    }
   }
  },
  {
   "cell_type": "code",
   "execution_count": 6,
   "outputs": [],
   "source": [
    "problem = pulp.LpProblem('LP', pulp.LpMaximize)\n",
    "\n",
    "x = pulp.LpVariable('x', cat=pulp.LpContinuous)\n",
    "y = pulp.LpVariable('y', cat=pulp.LpContinuous)"
   ],
   "metadata": {
    "collapsed": false,
    "pycharm": {
     "name": "#%%\n"
    }
   }
  },
  {
   "cell_type": "code",
   "execution_count": 7,
   "outputs": [],
   "source": [
    "problem += 1 * x + 3 * y <= 30\n",
    "problem += 2 * x + 1 * y <= 40\n",
    "problem += x >= 0\n",
    "problem += y >= 0\n",
    "problem += x + 2 * y  # objective function to maximize"
   ],
   "metadata": {
    "collapsed": false,
    "pycharm": {
     "name": "#%%\n"
    }
   }
  },
  {
   "cell_type": "code",
   "execution_count": 8,
   "outputs": [
    {
     "name": "stdout",
     "output_type": "stream",
     "text": [
      "Welcome to the CBC MILP Solver \n",
      "Version: 2.10.3 \n",
      "Build Date: Dec 15 2019 \n",
      "\n",
      "command line - /Users/ta.nakamura/src/github.com/na9amura/try-or-tools/venv/lib/python3.9/site-packages/pulp/apis/../solverdir/cbc/osx/64/cbc /var/folders/y3/x37rtt0s6fn4r9r7__s24rzc0000gp/T/79e48410f1544b8abc9252c24fbabf74-pulp.mps max timeMode elapsed branch printingOptions all solution /var/folders/y3/x37rtt0s6fn4r9r7__s24rzc0000gp/T/79e48410f1544b8abc9252c24fbabf74-pulp.sol (default strategy 1)\n",
      "At line 2 NAME          MODEL\n",
      "At line 3 ROWS\n",
      "At line 9 COLUMNS\n",
      "At line 18 RHS\n",
      "At line 23 BOUNDS\n",
      "At line 26 ENDATA\n",
      "Problem MODEL has 4 rows, 2 columns and 6 elements\n",
      "Coin0008I MODEL read with 0 errors\n",
      "Option for timeMode changed from cpu to elapsed\n",
      "Presolve 2 (-2) rows, 2 (0) columns and 4 (-2) elements\n",
      "0  Obj -0 Dual inf 2.999998 (2)\n",
      "2  Obj 26\n",
      "Optimal - objective value 26\n",
      "After Postsolve, objective 26, infeasibilities - dual 0 (0), primal 0 (0)\n",
      "Optimal objective 26 - 2 iterations time 0.002, Presolve 0.00\n",
      "Option for printingOptions changed from normal to all\n",
      "Total time (CPU seconds):       0.00   (Wallclock seconds):       0.00\n",
      "\n"
     ]
    },
    {
     "data": {
      "text/plain": "'Optimal'"
     },
     "execution_count": 8,
     "metadata": {},
     "output_type": "execute_result"
    }
   ],
   "source": [
    "status = problem.solve()\n",
    "pulp.LpStatus[status]"
   ],
   "metadata": {
    "collapsed": false,
    "pycharm": {
     "name": "#%%\n"
    }
   }
  },
  {
   "cell_type": "code",
   "execution_count": 9,
   "outputs": [
    {
     "data": {
      "text/plain": "(18.0, 4.0, 26.0)"
     },
     "execution_count": 9,
     "metadata": {},
     "output_type": "execute_result"
    }
   ],
   "source": [
    "x.value(), y.value(), problem.objective.value()"
   ],
   "metadata": {
    "collapsed": false,
    "pycharm": {
     "name": "#%%\n"
    }
   }
  },
  {
   "cell_type": "markdown",
   "source": [
    "## 2.3"
   ],
   "metadata": {
    "collapsed": false,
    "pycharm": {
     "name": "#%% md\n"
    }
   }
  },
  {
   "cell_type": "markdown",
   "source": [
    "Q: How can we maximize our profit under these condition?\n",
    "\n",
    "- Products: p1 p2 p3 p4\n",
    "- Materials: m1 m2 m3\n",
    "- Material requirements: see csv file\n",
    "- Stocks: see csv file\n",
    "- Profits: see csv file"
   ],
   "metadata": {
    "collapsed": false,
    "pycharm": {
     "name": "#%% md\n"
    }
   }
  },
  {
   "cell_type": "markdown",
   "source": [
    "### read resources"
   ],
   "metadata": {
    "collapsed": false,
    "pycharm": {
     "name": "#%% md\n"
    }
   }
  },
  {
   "cell_type": "code",
   "execution_count": 10,
   "outputs": [],
   "source": [
    "import pandas as pd"
   ],
   "metadata": {
    "collapsed": false,
    "pycharm": {
     "name": "#%%\n"
    }
   }
  },
  {
   "cell_type": "code",
   "execution_count": 11,
   "outputs": [
    {
     "data": {
      "text/plain": "    m  stock\n0  m1     35\n1  m2     22\n2  m3     27",
      "text/html": "<div>\n<style scoped>\n    .dataframe tbody tr th:only-of-type {\n        vertical-align: middle;\n    }\n\n    .dataframe tbody tr th {\n        vertical-align: top;\n    }\n\n    .dataframe thead th {\n        text-align: right;\n    }\n</style>\n<table border=\"1\" class=\"dataframe\">\n  <thead>\n    <tr style=\"text-align: right;\">\n      <th></th>\n      <th>m</th>\n      <th>stock</th>\n    </tr>\n  </thead>\n  <tbody>\n    <tr>\n      <th>0</th>\n      <td>m1</td>\n      <td>35</td>\n    </tr>\n    <tr>\n      <th>1</th>\n      <td>m2</td>\n      <td>22</td>\n    </tr>\n    <tr>\n      <th>2</th>\n      <td>m3</td>\n      <td>27</td>\n    </tr>\n  </tbody>\n</table>\n</div>"
     },
     "execution_count": 11,
     "metadata": {},
     "output_type": "execute_result"
    }
   ],
   "source": [
    "stocks = pd.read_csv('./resources/2.tutorial/stocks.csv')\n",
    "stocks"
   ],
   "metadata": {
    "collapsed": false,
    "pycharm": {
     "name": "#%%\n"
    }
   }
  },
  {
   "cell_type": "code",
   "execution_count": 12,
   "outputs": [
    {
     "data": {
      "text/plain": "     p   m  require\n0   p1  m1        2\n1   p1  m2        0\n2   p1  m3        1\n3   p2  m1        3\n4   p2  m2        2\n5   p2  m3        0\n6   p3  m1        0\n7   p3  m2        2\n8   p3  m3        2\n9   p4  m1        2\n10  p4  m2        2\n11  p4  m3        2",
      "text/html": "<div>\n<style scoped>\n    .dataframe tbody tr th:only-of-type {\n        vertical-align: middle;\n    }\n\n    .dataframe tbody tr th {\n        vertical-align: top;\n    }\n\n    .dataframe thead th {\n        text-align: right;\n    }\n</style>\n<table border=\"1\" class=\"dataframe\">\n  <thead>\n    <tr style=\"text-align: right;\">\n      <th></th>\n      <th>p</th>\n      <th>m</th>\n      <th>require</th>\n    </tr>\n  </thead>\n  <tbody>\n    <tr>\n      <th>0</th>\n      <td>p1</td>\n      <td>m1</td>\n      <td>2</td>\n    </tr>\n    <tr>\n      <th>1</th>\n      <td>p1</td>\n      <td>m2</td>\n      <td>0</td>\n    </tr>\n    <tr>\n      <th>2</th>\n      <td>p1</td>\n      <td>m3</td>\n      <td>1</td>\n    </tr>\n    <tr>\n      <th>3</th>\n      <td>p2</td>\n      <td>m1</td>\n      <td>3</td>\n    </tr>\n    <tr>\n      <th>4</th>\n      <td>p2</td>\n      <td>m2</td>\n      <td>2</td>\n    </tr>\n    <tr>\n      <th>5</th>\n      <td>p2</td>\n      <td>m3</td>\n      <td>0</td>\n    </tr>\n    <tr>\n      <th>6</th>\n      <td>p3</td>\n      <td>m1</td>\n      <td>0</td>\n    </tr>\n    <tr>\n      <th>7</th>\n      <td>p3</td>\n      <td>m2</td>\n      <td>2</td>\n    </tr>\n    <tr>\n      <th>8</th>\n      <td>p3</td>\n      <td>m3</td>\n      <td>2</td>\n    </tr>\n    <tr>\n      <th>9</th>\n      <td>p4</td>\n      <td>m1</td>\n      <td>2</td>\n    </tr>\n    <tr>\n      <th>10</th>\n      <td>p4</td>\n      <td>m2</td>\n      <td>2</td>\n    </tr>\n    <tr>\n      <th>11</th>\n      <td>p4</td>\n      <td>m3</td>\n      <td>2</td>\n    </tr>\n  </tbody>\n</table>\n</div>"
     },
     "execution_count": 12,
     "metadata": {},
     "output_type": "execute_result"
    }
   ],
   "source": [
    "requires = pd.read_csv('./resources/2.tutorial/requires.csv')\n",
    "requires"
   ],
   "metadata": {
    "collapsed": false,
    "pycharm": {
     "name": "#%%\n"
    }
   }
  },
  {
   "cell_type": "code",
   "execution_count": 13,
   "outputs": [
    {
     "data": {
      "text/plain": "    p  gain\n0  p1     3\n1  p2     4\n2  p3     4\n3  p4     5",
      "text/html": "<div>\n<style scoped>\n    .dataframe tbody tr th:only-of-type {\n        vertical-align: middle;\n    }\n\n    .dataframe tbody tr th {\n        vertical-align: top;\n    }\n\n    .dataframe thead th {\n        text-align: right;\n    }\n</style>\n<table border=\"1\" class=\"dataframe\">\n  <thead>\n    <tr style=\"text-align: right;\">\n      <th></th>\n      <th>p</th>\n      <th>gain</th>\n    </tr>\n  </thead>\n  <tbody>\n    <tr>\n      <th>0</th>\n      <td>p1</td>\n      <td>3</td>\n    </tr>\n    <tr>\n      <th>1</th>\n      <td>p2</td>\n      <td>4</td>\n    </tr>\n    <tr>\n      <th>2</th>\n      <td>p3</td>\n      <td>4</td>\n    </tr>\n    <tr>\n      <th>3</th>\n      <td>p4</td>\n      <td>5</td>\n    </tr>\n  </tbody>\n</table>\n</div>"
     },
     "execution_count": 13,
     "metadata": {},
     "output_type": "execute_result"
    }
   ],
   "source": [
    "gains = pd.read_csv('./resources/2.tutorial/gains.csv')\n",
    "gains"
   ],
   "metadata": {
    "collapsed": false,
    "pycharm": {
     "name": "#%%\n"
    }
   }
  },
  {
   "cell_type": "code",
   "execution_count": 14,
   "outputs": [
    {
     "data": {
      "text/plain": "['p1', 'p2', 'p3', 'p4']"
     },
     "execution_count": 14,
     "metadata": {},
     "output_type": "execute_result"
    }
   ],
   "source": [
    "P = gains['p'].tolist()\n",
    "P"
   ],
   "metadata": {
    "collapsed": false,
    "pycharm": {
     "name": "#%%\n"
    }
   }
  },
  {
   "cell_type": "code",
   "execution_count": 15,
   "outputs": [
    {
     "data": {
      "text/plain": "['m1', 'm2', 'm3']"
     },
     "execution_count": 15,
     "metadata": {},
     "output_type": "execute_result"
    }
   ],
   "source": [
    "M = stocks['m'].tolist()\n",
    "M"
   ],
   "metadata": {
    "collapsed": false,
    "pycharm": {
     "name": "#%%\n"
    }
   }
  },
  {
   "cell_type": "markdown",
   "source": [
    "### define constants\n",
    "\n",
    "- stock_m => m_1: x, m_2: y, ...\n",
    "- require_p_m =>\n",
    "    - r_1_1: a, r_1_2: b, ...\n",
    "    - r_2_1: c, r_2_2: d, ...\n",
    "    - ...\n",
    "- gain_p => g_1: x, g_2: y, ..."
   ],
   "metadata": {
    "collapsed": false,
    "pycharm": {
     "name": "#%% md\n"
    }
   }
  },
  {
   "cell_type": "code",
   "execution_count": 16,
   "outputs": [
    {
     "data": {
      "text/plain": "{'m1': 35, 'm2': 22, 'm3': 27}"
     },
     "execution_count": 16,
     "metadata": {},
     "output_type": "execute_result"
    }
   ],
   "source": [
    "stock = {row.m: row.stock for row in stocks.itertuples()}\n",
    "stock"
   ],
   "metadata": {
    "collapsed": false,
    "pycharm": {
     "name": "#%%\n"
    }
   }
  },
  {
   "cell_type": "code",
   "execution_count": 17,
   "outputs": [
    {
     "data": {
      "text/plain": "{('p1', 'm1'): 2,\n ('p1', 'm2'): 0,\n ('p1', 'm3'): 1,\n ('p2', 'm1'): 3,\n ('p2', 'm2'): 2,\n ('p2', 'm3'): 0,\n ('p3', 'm1'): 0,\n ('p3', 'm2'): 2,\n ('p3', 'm3'): 2,\n ('p4', 'm1'): 2,\n ('p4', 'm2'): 2,\n ('p4', 'm3'): 2}"
     },
     "execution_count": 17,
     "metadata": {},
     "output_type": "execute_result"
    }
   ],
   "source": [
    "require = requires.set_index(['p', 'm']).to_dict()['require']\n",
    "require"
   ],
   "metadata": {
    "collapsed": false,
    "pycharm": {
     "name": "#%%\n"
    }
   }
  },
  {
   "cell_type": "code",
   "execution_count": 18,
   "outputs": [
    {
     "data": {
      "text/plain": "{'p1': 3, 'p2': 4, 'p3': 4, 'p4': 5}"
     },
     "execution_count": 18,
     "metadata": {},
     "output_type": "execute_result"
    }
   ],
   "source": [
    "gain = dict(zip(gains['p'], gains['gain']))\n",
    "gain"
   ],
   "metadata": {
    "collapsed": false,
    "pycharm": {
     "name": "#%%\n"
    }
   }
  },
  {
   "cell_type": "markdown",
   "source": [
    "### define as LP\n"
   ],
   "metadata": {
    "collapsed": false,
    "pycharm": {
     "name": "#%% md\n"
    }
   }
  },
  {
   "cell_type": "code",
   "execution_count": 19,
   "outputs": [],
   "source": [
    "problem = pulp.LpProblem('LP2.3', pulp.LpMaximize)\n",
    "\n",
    "X_p = pulp.LpVariable.dicts('x', P, cat=pulp.LpContinuous)"
   ],
   "metadata": {
    "collapsed": false,
    "pycharm": {
     "name": "#%%\n"
    }
   }
  },
  {
   "cell_type": "markdown",
   "source": [
    "#### define constraints\n",
    "\n",
    "- X_p >= 0\n",
    "    - =>\n",
    "        - X_(p_1) >= 0\n",
    "        - X_(p_2) >= 0\n",
    "        - X_(p_3) >= 0\n",
    "        - X_(p_4) >= 0\n",
    "- sum(require_p_m * X_p) <= stock_m\n",
    "    - =>\n",
    "        - require_(p_1)_(m_1) * x_(p_1) + require_(p_2)_(m_1) * x_(p_2) + require_(p_3)_(m_1) * x_(p_3) + require_(p_4)_(m_1) * x_(p_4) <= stock_(m_1)\n",
    "        - require_(p_1)_(m_2) * x_(p_1) + require_(p_2)_(m_2) * x_(p_2) + require_(p_3)_(m_2) * x_(p_3) + require_(p_4)_(m_2) * x_(p_4) <= stock_(m_2)\n",
    "        - require_(p_1)_(m_3) * x_(p_1) + require_(p_2)_(m_3) * x_(p_2) + require_(p_3)_(m_3) * x_(p_3) + require_(p_4)_(m_3) * x_(p_4) <= stock_(m_3)\n"
   ],
   "metadata": {
    "collapsed": false,
    "pycharm": {
     "name": "#%% md\n"
    }
   }
  },
  {
   "cell_type": "code",
   "execution_count": 20,
   "outputs": [],
   "source": [
    "for p in P:\n",
    "    problem += X_p[p] >= 0"
   ],
   "metadata": {
    "collapsed": false,
    "pycharm": {
     "name": "#%%\n"
    }
   }
  },
  {
   "cell_type": "code",
   "execution_count": 21,
   "outputs": [],
   "source": [
    "for m in M:\n",
    "    problem += pulp.lpSum([require[p,m] * X_p[p] for p in P]) <= stock[m]"
   ],
   "metadata": {
    "collapsed": false,
    "pycharm": {
     "name": "#%%\n"
    }
   }
  },
  {
   "cell_type": "markdown",
   "source": [
    "#### define objective function"
   ],
   "metadata": {
    "collapsed": false,
    "pycharm": {
     "name": "#%% md\n"
    }
   }
  },
  {
   "cell_type": "code",
   "execution_count": 22,
   "outputs": [],
   "source": [
    "problem += pulp.lpSum([gain[p] * X_p[p] for p in P])"
   ],
   "metadata": {
    "collapsed": false,
    "pycharm": {
     "name": "#%%\n"
    }
   }
  },
  {
   "cell_type": "code",
   "execution_count": 23,
   "outputs": [
    {
     "name": "stdout",
     "output_type": "stream",
     "text": [
      "Welcome to the CBC MILP Solver \n",
      "Version: 2.10.3 \n",
      "Build Date: Dec 15 2019 \n",
      "\n",
      "command line - /Users/ta.nakamura/src/github.com/na9amura/try-or-tools/venv/lib/python3.9/site-packages/pulp/apis/../solverdir/cbc/osx/64/cbc /var/folders/y3/x37rtt0s6fn4r9r7__s24rzc0000gp/T/ae435ab26b99474eb244f420d6e2dcd1-pulp.mps max timeMode elapsed branch printingOptions all solution /var/folders/y3/x37rtt0s6fn4r9r7__s24rzc0000gp/T/ae435ab26b99474eb244f420d6e2dcd1-pulp.sol (default strategy 1)\n",
      "At line 2 NAME          MODEL\n",
      "At line 3 ROWS\n",
      "At line 12 COLUMNS\n",
      "At line 30 RHS\n",
      "At line 38 BOUNDS\n",
      "At line 43 ENDATA\n",
      "Problem MODEL has 7 rows, 4 columns and 13 elements\n",
      "Coin0008I MODEL read with 0 errors\n",
      "Option for timeMode changed from cpu to elapsed\n",
      "Presolve 3 (-4) rows, 4 (0) columns and 9 (-4) elements\n",
      "0  Obj -0 Dual inf 17.499996 (4)\n",
      "4  Obj 80.428571\n",
      "Optimal - objective value 80.428571\n",
      "After Postsolve, objective 80.428571, infeasibilities - dual 0 (0), primal 0 (0)\n",
      "Optimal objective 80.42857143 - 4 iterations time 0.002, Presolve 0.00\n",
      "Option for printingOptions changed from normal to all\n",
      "Total time (CPU seconds):       0.00   (Wallclock seconds):       0.00\n",
      "\n"
     ]
    },
    {
     "data": {
      "text/plain": "'Optimal'"
     },
     "execution_count": 23,
     "metadata": {},
     "output_type": "execute_result"
    }
   ],
   "source": [
    "status = problem.solve()\n",
    "pulp.LpStatus[status]"
   ],
   "metadata": {
    "collapsed": false,
    "pycharm": {
     "name": "#%%\n"
    }
   }
  },
  {
   "cell_type": "code",
   "execution_count": 24,
   "outputs": [
    {
     "data": {
      "text/plain": "([12.142857, 3.5714286, 7.4285714, 0.0], 80.42857099999999)"
     },
     "execution_count": 24,
     "metadata": {},
     "output_type": "execute_result"
    }
   ],
   "source": [
    "[X_p[p].value() for p in P], problem.objective.value()"
   ],
   "metadata": {
    "collapsed": false,
    "pycharm": {
     "name": "#%%\n"
    }
   }
  },
  {
   "cell_type": "markdown",
   "source": [
    "### Change to Integer Programming"
   ],
   "metadata": {
    "collapsed": false,
    "pycharm": {
     "name": "#%% md\n"
    }
   }
  },
  {
   "cell_type": "code",
   "execution_count": 25,
   "outputs": [],
   "source": [
    "ip = pulp.LpProblem('IP2.3', pulp.LpMaximize)\n",
    "X_p = pulp.LpVariable.dicts('x', P, cat=pulp.LpInteger)\n",
    "\n",
    "for p in P:\n",
    "    ip += X_p[p] >= 0\n",
    "\n",
    "for m in M:\n",
    "    ip += pulp.lpSum([require[p,m] * X_p[p] for p in P]) <= stock[m]\n",
    "\n",
    "ip += pulp.lpSum([gain[p] * X_p[p] for p in P])"
   ],
   "metadata": {
    "collapsed": false,
    "pycharm": {
     "name": "#%%\n"
    }
   }
  },
  {
   "cell_type": "code",
   "execution_count": 26,
   "outputs": [
    {
     "name": "stdout",
     "output_type": "stream",
     "text": [
      "Welcome to the CBC MILP Solver \n",
      "Version: 2.10.3 \n",
      "Build Date: Dec 15 2019 \n",
      "\n",
      "command line - /Users/ta.nakamura/src/github.com/na9amura/try-or-tools/venv/lib/python3.9/site-packages/pulp/apis/../solverdir/cbc/osx/64/cbc /var/folders/y3/x37rtt0s6fn4r9r7__s24rzc0000gp/T/1ee42c68664a48b48117419669b20273-pulp.mps max timeMode elapsed branch printingOptions all solution /var/folders/y3/x37rtt0s6fn4r9r7__s24rzc0000gp/T/1ee42c68664a48b48117419669b20273-pulp.sol (default strategy 1)\n",
      "At line 2 NAME          MODEL\n",
      "At line 3 ROWS\n",
      "At line 12 COLUMNS\n",
      "At line 38 RHS\n",
      "At line 46 BOUNDS\n",
      "At line 51 ENDATA\n",
      "Problem MODEL has 7 rows, 4 columns and 13 elements\n",
      "Coin0008I MODEL read with 0 errors\n",
      "Option for timeMode changed from cpu to elapsed\n",
      "Continuous objective value is 80.4286 - 0.00 seconds\n",
      "Cgl0004I processed model has 3 rows, 4 columns (4 integer (0 of which binary)) and 9 elements\n",
      "Cutoff increment increased from 1e-05 to 0.9999\n",
      "Cbc0012I Integer solution of -76 found by DiveCoefficient after 0 iterations and 0 nodes (0.01 seconds)\n",
      "Cbc0038I Full problem 3 rows 4 columns, reduced to 3 rows 3 columns\n",
      "Cbc0012I Integer solution of -79 found by DiveCoefficient after 1 iterations and 0 nodes (0.01 seconds)\n",
      "Cbc0031I 1 added rows had average density of 4\n",
      "Cbc0013I At root node, 1 cuts changed objective from -80.428571 to -79 in 2 passes\n",
      "Cbc0014I Cut generator 0 (Probing) - 0 row cuts average 0.0 elements, 0 column cuts (0 active)  in 0.000 seconds - new frequency is -100\n",
      "Cbc0014I Cut generator 1 (Gomory) - 2 row cuts average 4.0 elements, 0 column cuts (0 active)  in 0.000 seconds - new frequency is 1\n",
      "Cbc0014I Cut generator 2 (Knapsack) - 0 row cuts average 0.0 elements, 0 column cuts (0 active)  in 0.000 seconds - new frequency is -100\n",
      "Cbc0014I Cut generator 3 (Clique) - 0 row cuts average 0.0 elements, 0 column cuts (0 active)  in 0.000 seconds - new frequency is -100\n",
      "Cbc0014I Cut generator 4 (MixedIntegerRounding2) - 0 row cuts average 0.0 elements, 0 column cuts (0 active)  in 0.000 seconds - new frequency is -100\n",
      "Cbc0014I Cut generator 5 (FlowCover) - 0 row cuts average 0.0 elements, 0 column cuts (0 active)  in 0.000 seconds - new frequency is -100\n",
      "Cbc0001I Search completed - best objective -79, took 1 iterations and 0 nodes (0.01 seconds)\n",
      "Cbc0035I Maximum depth 0, 0 variables fixed on reduced cost\n",
      "Cuts at root node changed objective from -80.4286 to -79\n",
      "Probing was tried 2 times and created 0 cuts of which 0 were active after adding rounds of cuts (0.000 seconds)\n",
      "Gomory was tried 2 times and created 2 cuts of which 0 were active after adding rounds of cuts (0.000 seconds)\n",
      "Knapsack was tried 2 times and created 0 cuts of which 0 were active after adding rounds of cuts (0.000 seconds)\n",
      "Clique was tried 2 times and created 0 cuts of which 0 were active after adding rounds of cuts (0.000 seconds)\n",
      "MixedIntegerRounding2 was tried 2 times and created 0 cuts of which 0 were active after adding rounds of cuts (0.000 seconds)\n",
      "FlowCover was tried 2 times and created 0 cuts of which 0 were active after adding rounds of cuts (0.000 seconds)\n",
      "TwoMirCuts was tried 1 times and created 0 cuts of which 0 were active after adding rounds of cuts (0.000 seconds)\n",
      "ZeroHalf was tried 1 times and created 0 cuts of which 0 were active after adding rounds of cuts (0.000 seconds)\n",
      "\n",
      "Result - Optimal solution found\n",
      "\n",
      "Objective value:                79.00000000\n",
      "Enumerated nodes:               0\n",
      "Total iterations:               1\n",
      "Time (CPU seconds):             0.00\n",
      "Time (Wallclock seconds):       0.01\n",
      "\n",
      "Option for printingOptions changed from normal to all\n",
      "Total time (CPU seconds):       0.00   (Wallclock seconds):       0.01\n",
      "\n"
     ]
    },
    {
     "data": {
      "text/plain": "'Optimal'"
     },
     "execution_count": 26,
     "metadata": {},
     "output_type": "execute_result"
    }
   ],
   "source": [
    "status = ip.solve()\n",
    "pulp.LpStatus[status]"
   ],
   "metadata": {
    "collapsed": false,
    "pycharm": {
     "name": "#%%\n"
    }
   }
  },
  {
   "cell_type": "code",
   "execution_count": 27,
   "outputs": [
    {
     "data": {
      "text/plain": "([13.0, 3.0, 7.0, -0.0], 79.0)"
     },
     "execution_count": 27,
     "metadata": {},
     "output_type": "execute_result"
    }
   ],
   "source": [
    "[X_p[p].value() for p in P], ip.objective.value()"
   ],
   "metadata": {
    "collapsed": false,
    "pycharm": {
     "name": "#%%\n"
    }
   }
  },
  {
   "cell_type": "code",
   "execution_count": 27,
   "outputs": [],
   "source": [],
   "metadata": {
    "collapsed": false,
    "pycharm": {
     "name": "#%%\n"
    }
   }
  }
 ],
 "metadata": {
  "kernelspec": {
   "display_name": "Python 3",
   "language": "python",
   "name": "python3"
  },
  "language_info": {
   "codemirror_mode": {
    "name": "ipython",
    "version": 2
   },
   "file_extension": ".py",
   "mimetype": "text/x-python",
   "name": "python",
   "nbconvert_exporter": "python",
   "pygments_lexer": "ipython2",
   "version": "2.7.6"
  }
 },
 "nbformat": 4,
 "nbformat_minor": 0
}