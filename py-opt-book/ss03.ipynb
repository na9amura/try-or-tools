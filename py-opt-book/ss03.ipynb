{
 "cells": [
  {
   "cell_type": "code",
   "execution_count": null,
   "outputs": [],
   "source": [
    "import pandas as pd\n",
    "students_df = pd.read_csv('./resources/3.school/students.csv')\n",
    "students_df"
   ],
   "metadata": {
    "collapsed": false,
    "pycharm": {
     "name": "#%%\n"
    }
   }
  },
  {
   "cell_type": "code",
   "execution_count": null,
   "outputs": [],
   "source": [
    "for name in students_df.columns:\n",
    "    print(f'- {name} -------------------------')\n",
    "    print(students_df[name].value_counts())"
   ],
   "metadata": {
    "collapsed": false,
    "pycharm": {
     "name": "#%%\n"
    }
   }
  },
  {
   "cell_type": "code",
   "execution_count": null,
   "outputs": [],
   "source": [
    "%matplotlib inline"
   ],
   "metadata": {
    "collapsed": false,
    "pycharm": {
     "name": "#%%\n"
    }
   }
  },
  {
   "cell_type": "code",
   "execution_count": null,
   "outputs": [],
   "source": [
    "students_df['score'].hist()"
   ],
   "metadata": {
    "collapsed": false,
    "pycharm": {
     "name": "#%%\n"
    }
   }
  },
  {
   "cell_type": "code",
   "execution_count": null,
   "outputs": [],
   "source": [
    "pairs_df = pd.read_csv('./resources/3.school/student_pairs.csv')\n",
    "pairs_df"
   ],
   "metadata": {
    "collapsed": false,
    "pycharm": {
     "name": "#%%\n"
    }
   }
  },
  {
   "cell_type": "markdown",
   "source": [
    "### Requirements\n",
    "\n",
    "- You need to\n",
    "    1. assign all students to a class\n",
    "    2. create a class consists of gteq 39 and lteq 40 (there are 8 classes and 318 members)\n",
    "    3. create a class consists of lteq 20 male and lteq 20 female (158 male and 160 female)\n",
    "    4. make the average score of a class within ±10 from average of whole students (average score 303.6)\n",
    "    5. assign more than 2 students with leadership (17 leaders)\n",
    "    6. assign less than 1 students who need support (4 students)\n",
    "    7. avoid assign indicated student pairs to same class"
   ],
   "metadata": {
    "collapsed": false
   }
  },
  {
   "cell_type": "code",
   "execution_count": null,
   "outputs": [],
   "source": [
    "import pulp\n",
    "problem = pulp.LpProblem(\"ClassAssignment\", pulp.LpMaximize)"
   ],
   "metadata": {
    "collapsed": false,
    "pycharm": {
     "name": "#%%\n"
    }
   }
  },
  {
   "cell_type": "markdown",
   "source": [
    "### Requirement 1\n",
    "\n",
    "- Students: S\n",
    "- Classes: C\n",
    "- Variables: X `X[s in S][c in C] ∈ (0, 1)`\n",
    "- Restriction: For every student s in S, `sum([X[s][c] for c in C]) == 1`"
   ],
   "metadata": {
    "collapsed": false
   }
  },
  {
   "cell_type": "code",
   "execution_count": null,
   "outputs": [],
   "source": [
    "S = students_df['student_id'].tolist()\n",
    "S[:10]"
   ],
   "metadata": {
    "collapsed": false,
    "pycharm": {
     "name": "#%%\n"
    }
   }
  },
  {
   "cell_type": "code",
   "execution_count": null,
   "outputs": [],
   "source": [
    "import string\n",
    "string.ascii_uppercase"
   ],
   "metadata": {
    "collapsed": false,
    "pycharm": {
     "name": "#%%\n"
    }
   }
  },
  {
   "cell_type": "code",
   "execution_count": null,
   "outputs": [],
   "source": [
    "C = list(string.ascii_uppercase[:8])\n",
    "C"
   ],
   "metadata": {
    "collapsed": false,
    "pycharm": {
     "name": "#%%\n"
    }
   }
  },
  {
   "cell_type": "code",
   "execution_count": null,
   "outputs": [],
   "source": [
    "sc = [(s,c) for s in S for c in C]\n",
    "sc[:10]"
   ],
   "metadata": {
    "collapsed": false,
    "pycharm": {
     "name": "#%%\n"
    }
   }
  },
  {
   "cell_type": "code",
   "execution_count": null,
   "outputs": [],
   "source": [
    "X = pulp.LpVariable.dicts('X', sc, cat=pulp.LpBinary)"
   ],
   "metadata": {
    "collapsed": false,
    "pycharm": {
     "name": "#%%\n"
    }
   }
  },
  {
   "cell_type": "code",
   "execution_count": null,
   "outputs": [],
   "source": [
    "for s in S:\n",
    "    problem += pulp.lpSum([X[s,c] for c in C]) == 1"
   ],
   "metadata": {
    "collapsed": false,
    "pycharm": {
     "name": "#%%\n"
    }
   }
  },
  {
   "cell_type": "markdown",
   "source": [
    "### Requirement 2\n",
    "\n",
    "- For every c in C\n",
    "    - `sum([X[s][c] for s in S]) >= 39`\n",
    "    - `sum([X[s][c] for s in S]) <= 40`"
   ],
   "metadata": {
    "collapsed": false
   }
  },
  {
   "cell_type": "code",
   "execution_count": null,
   "outputs": [],
   "source": [
    "for c in C:\n",
    "    problem += pulp.lpSum([X[s,c] for s in S]) >= 39\n",
    "    problem += pulp.lpSum([X[s,c] for s in S]) <= 40"
   ],
   "metadata": {
    "collapsed": false,
    "pycharm": {
     "name": "#%%\n"
    }
   }
  },
  {
   "cell_type": "markdown",
   "source": [
    "### Requirement 3\n",
    "\n",
    "- For every c in C\n",
    "    - `sum([X[s][c] for s in S_male]) <= 20`\n",
    "    - `sum([X[s][c] for s in S_female]) <= 20`\n"
   ],
   "metadata": {
    "collapsed": false
   }
  },
  {
   "cell_type": "code",
   "execution_count": null,
   "outputs": [],
   "source": [
    "S_male = students_df[students_df['gender'] == 1]['student_id'].tolist()\n",
    "len(S_male)"
   ],
   "metadata": {
    "collapsed": false,
    "pycharm": {
     "name": "#%%\n"
    }
   }
  },
  {
   "cell_type": "code",
   "execution_count": null,
   "outputs": [],
   "source": [
    "S_female = students_df[students_df['gender'] == 0]['student_id'].tolist()\n",
    "len(S_female)"
   ],
   "metadata": {
    "collapsed": false,
    "pycharm": {
     "name": "#%%\n"
    }
   }
  },
  {
   "cell_type": "code",
   "execution_count": null,
   "outputs": [],
   "source": [
    "for c in C:\n",
    "    problem += pulp.lpSum(X[s,c] for s in S_male) <= 20\n",
    "    problem += pulp.lpSum(X[s,c] for s in S_female) <= 20"
   ],
   "metadata": {
    "collapsed": false,
    "pycharm": {
     "name": "#%%\n"
    }
   }
  },
  {
   "cell_type": "markdown",
   "source": [
    "### Requirement 4\n",
    "\n",
    "- Constants\n",
    "    - Score a student: `score[s]`\n",
    "    - Average score: mean_score\n",
    "- Restriction\n",
    "    - For every c in C\n",
    "        - mean_score_of_class = sum([score[s] for s in (S belongs c)]) / sum([X[s,c] for s in S])\n",
    "          - Remember `X[s,c] ∈ (0, 1)`. Then `sum([X[s,c] for s in S])` will be number of students.\n",
    "        - mean_score - 10 <= mean_score_of_class\n",
    "        - mean_score_of_class <= mean_score + 10"
   ],
   "metadata": {
    "collapsed": false
   }
  },
  {
   "cell_type": "markdown",
   "source": [
    "This formula is not linear\n",
    "`mean_score - 10 <= sum([score[s] for s in (S belongs c)]) / sum([X[s,c] for s in S])`\n",
    "\n",
    "So change to linear formula\n",
    "=> `(mean_score - 10) * (sum([X[s,c] for s in S])) <= sum([score[s] for s in (S belongs c)])`\n",
    "\n",
    "And to describe sum of score of a class, use `X[s,c] ∈ (0, 1)`.\n",
    "=> `sum([(score[s] * X[s,c]) for s in S])`\n",
    "\n",
    "If a student belongs to the class, `X[s,c]` returns 1 and score would be added to the sum.\n",
    "If a student doesn't belong to the class, `X[s,c]` returns 0 and 0 would be added to the sum.\n"
   ],
   "metadata": {
    "collapsed": false
   }
  },
  {
   "cell_type": "code",
   "execution_count": null,
   "outputs": [],
   "source": [
    "mean_score = students_df['score'].mean()\n",
    "mean_score"
   ],
   "metadata": {
    "collapsed": false,
    "pycharm": {
     "name": "#%%\n"
    }
   }
  },
  {
   "cell_type": "code",
   "execution_count": null,
   "outputs": [],
   "source": [
    "score = { student.student_id: student.score for student in students_df.itertuples() }"
   ],
   "metadata": {
    "collapsed": false,
    "pycharm": {
     "name": "#%%\n"
    }
   }
  },
  {
   "cell_type": "code",
   "execution_count": null,
   "outputs": [],
   "source": [
    "type(X[1, 'A'])"
   ],
   "metadata": {
    "collapsed": false,
    "pycharm": {
     "name": "#%%\n"
    }
   }
  },
  {
   "cell_type": "code",
   "execution_count": null,
   "outputs": [],
   "source": [
    "for c in C:\n",
    "    problem += (mean_score - 10) * pulp.lpSum(X[s,c] for s in S) <= pulp.lpSum(X[s,c] * score[s] for s in S)\n",
    "    problem += pulp.lpSum(X[s,c] * score[s] for s in S) <= (mean_score + 10) * pulp.lpSum(X[s,c] for s in S)"
   ],
   "metadata": {
    "collapsed": false,
    "pycharm": {
     "name": "#%%\n"
    }
   }
  },
  {
   "cell_type": "markdown",
   "source": [
    "### Requirement 5\n",
    "\n",
    "Assign at least two students with leadership\n",
    "```\n",
    "for c in C:\n",
    "    sum([X[s,c] for s in S_leader]) >= 2\n",
    "```"
   ],
   "metadata": {
    "collapsed": false
   }
  },
  {
   "cell_type": "code",
   "execution_count": null,
   "outputs": [],
   "source": [
    "S_leader = students_df[students_df['leader_flag'] == 1]['student_id'].tolist()\n",
    "S_leader"
   ],
   "metadata": {
    "collapsed": false,
    "pycharm": {
     "name": "#%%\n"
    }
   }
  },
  {
   "cell_type": "code",
   "execution_count": null,
   "outputs": [],
   "source": [
    "for c in C:\n",
    "    problem += pulp.lpSum(X[s,c] for s in S_leader) >= 2"
   ],
   "metadata": {
    "collapsed": false,
    "pycharm": {
     "name": "#%%\n"
    }
   }
  },
  {
   "cell_type": "markdown",
   "source": [
    "### Requirement 6\n",
    "\n",
    "Don't assign more than one student needs support\n",
    "```\n",
    "for c in C:\n",
    "    sum([X[s,c] for s in S_support]) <= 1\n",
    "```"
   ],
   "metadata": {
    "collapsed": false
   }
  },
  {
   "cell_type": "code",
   "execution_count": null,
   "outputs": [],
   "source": [
    "S_support = students_df[students_df['support_flag'] == 1]['student_id'].tolist()\n",
    "S_support"
   ],
   "metadata": {
    "collapsed": false,
    "pycharm": {
     "name": "#%%\n"
    }
   }
  },
  {
   "cell_type": "code",
   "execution_count": null,
   "outputs": [],
   "source": [
    "for c in C:\n",
    "    problem += pulp.lpSum(X[s,c] for s in S_support) <= 1"
   ],
   "metadata": {
    "collapsed": false,
    "pycharm": {
     "name": "#%%\n"
    }
   }
  },
  {
   "cell_type": "markdown",
   "source": [
    "### Requirement 7\n",
    "\n",
    "Don't assign any indicated pair of students in a same class\n",
    "\n",
    "```\n",
    "pairs = [\n",
    "    [1,2],\n",
    "    [3,4],\n",
    "]\n",
    "```\n",
    "\n",
    "```\n",
    "for c in C:\n",
    "    for p in pairs\n",
    "        # sum([X[s,c] for s in pairs]) <= 1\n",
    "        X[p[0], c] + X[p[1], c] <= 1\n",
    "```"
   ],
   "metadata": {
    "collapsed": false
   }
  },
  {
   "cell_type": "code",
   "execution_count": null,
   "outputs": [],
   "source": [
    "pairs_df"
   ],
   "metadata": {
    "collapsed": false,
    "pycharm": {
     "name": "#%%\n"
    }
   }
  },
  {
   "cell_type": "code",
   "execution_count": null,
   "outputs": [],
   "source": [
    "pairs = [(p.student_id1, p.student_id2) for p in pairs_df.itertuples()]\n",
    "pairs"
   ],
   "metadata": {
    "collapsed": false,
    "pycharm": {
     "name": "#%%\n"
    }
   }
  },
  {
   "cell_type": "code",
   "execution_count": null,
   "outputs": [],
   "source": [
    "for c in C:\n",
    "    for id1, id2 in pairs:\n",
    "        problem += X[id1,c] + X[id2,c] <= 1"
   ],
   "metadata": {
    "collapsed": false,
    "pycharm": {
     "name": "#%%\n"
    }
   }
  },
  {
   "cell_type": "code",
   "execution_count": null,
   "outputs": [],
   "source": [
    "status = problem.solve()\n",
    "print(pulp.LpStatus[status])"
   ],
   "metadata": {
    "collapsed": false,
    "pycharm": {
     "name": "#%%\n"
    }
   }
  },
  {
   "cell_type": "code",
   "execution_count": null,
   "outputs": [],
   "source": [
    "Result = {}\n",
    "for c in C:\n",
    "    Result[c] = [s for s in S if X[s,c].value() == 1]"
   ],
   "metadata": {
    "collapsed": false,
    "pycharm": {
     "name": "#%%\n"
    }
   }
  },
  {
   "cell_type": "code",
   "execution_count": null,
   "outputs": [],
   "source": [
    "for c, students in Result.items():\n",
    "    print('Class:', c)\n",
    "    print('Number of students:', len(students))\n",
    "    print('Students:', students)"
   ],
   "metadata": {
    "collapsed": false,
    "pycharm": {
     "name": "#%%\n"
    }
   }
  },
  {
   "cell_type": "markdown",
   "source": [
    "## Check requirements"
   ],
   "metadata": {
    "collapsed": false
   }
  },
  {
   "cell_type": "markdown",
   "source": [
    "### Requirement 1: We need to provide every student to one class"
   ],
   "metadata": {
    "collapsed": false
   }
  },
  {
   "cell_type": "code",
   "execution_count": null,
   "outputs": [],
   "source": [
    "for s in S:\n",
    "    assigned_class = [X[s,c].value() for c in C if X[s,c].value() == 1]\n",
    "    if len(assigned_class) != 1:\n",
    "        print('error:', s, assigned_class)"
   ],
   "metadata": {
    "collapsed": false,
    "pycharm": {
     "name": "#%%\n"
    }
   }
  },
  {
   "cell_type": "code",
   "execution_count": null,
   "outputs": [],
   "source": [
    "result_df = students_df.copy()\n"
   ],
   "metadata": {
    "collapsed": false,
    "pycharm": {
     "name": "#%%\n"
    }
   }
  },
  {
   "cell_type": "code",
   "execution_count": null,
   "outputs": [],
   "source": [
    "result_df['assigned_class'] = result_df['student_id'].map({ s:c for s in S for c in C if X[s,c].value() == 1 })\n",
    "result_df"
   ],
   "metadata": {
    "collapsed": false,
    "pycharm": {
     "name": "#%%\n"
    }
   }
  },
  {
   "cell_type": "markdown",
   "source": [
    "### Requirement 2: Number of students in a class"
   ],
   "metadata": {
    "collapsed": false
   }
  },
  {
   "cell_type": "code",
   "execution_count": null,
   "outputs": [],
   "source": [
    "result_df['assigned_class'].value_counts()"
   ],
   "metadata": {
    "collapsed": false,
    "pycharm": {
     "name": "#%%\n"
    }
   }
  },
  {
   "cell_type": "markdown",
   "source": [
    "### Requirement 3: Number of male and female students in a class"
   ],
   "metadata": {
    "collapsed": false
   }
  },
  {
   "cell_type": "code",
   "execution_count": null,
   "outputs": [],
   "source": [
    "result_df.groupby(['assigned_class', 'gender'])['student_id'].count()"
   ],
   "metadata": {
    "collapsed": false,
    "pycharm": {
     "name": "#%%\n"
    }
   }
  },
  {
   "cell_type": "markdown",
   "source": [
    "### Requirement 4: Mean score"
   ],
   "metadata": {
    "collapsed": false
   }
  },
  {
   "cell_type": "code",
   "execution_count": null,
   "outputs": [],
   "source": [
    "result_df.groupby(['assigned_class'])['score'].mean()"
   ],
   "metadata": {
    "collapsed": false,
    "pycharm": {
     "name": "#%%\n"
    }
   }
  },
  {
   "cell_type": "code",
   "execution_count": null,
   "outputs": [],
   "source": [
    "mean_score"
   ],
   "metadata": {
    "collapsed": false,
    "pycharm": {
     "name": "#%%\n"
    }
   }
  },
  {
   "cell_type": "code",
   "execution_count": null,
   "outputs": [],
   "source": [
    "mean_score - result_df.groupby(['assigned_class'])['score'].mean().min()"
   ],
   "metadata": {
    "collapsed": false,
    "pycharm": {
     "name": "#%%\n"
    }
   }
  },
  {
   "cell_type": "code",
   "execution_count": null,
   "outputs": [],
   "source": [
    "mean_score - result_df.groupby(['assigned_class'])['score'].mean().max()"
   ],
   "metadata": {
    "collapsed": false,
    "pycharm": {
     "name": "#%%\n"
    }
   }
  },
  {
   "cell_type": "markdown",
   "source": [
    "### Requirement 5: Leaders"
   ],
   "metadata": {
    "collapsed": false
   }
  },
  {
   "cell_type": "code",
   "execution_count": null,
   "outputs": [],
   "source": [
    "result_df.groupby(['assigned_class'])['leader_flag'].sum()"
   ],
   "metadata": {
    "collapsed": false,
    "pycharm": {
     "name": "#%%\n"
    }
   }
  },
  {
   "cell_type": "markdown",
   "source": [
    "### Requirement 6: Support"
   ],
   "metadata": {
    "collapsed": false
   }
  },
  {
   "cell_type": "code",
   "execution_count": null,
   "outputs": [],
   "source": [
    "result_df.groupby(['assigned_class'])['support_flag'].sum()"
   ],
   "metadata": {
    "collapsed": false,
    "pycharm": {
     "name": "#%%\n"
    }
   }
  },
  {
   "cell_type": "markdown",
   "source": [
    "### Requirement 7: Pair"
   ],
   "metadata": {
    "collapsed": false
   }
  },
  {
   "cell_type": "code",
   "execution_count": null,
   "outputs": [],
   "source": [
    "for id1, id2 in pairs:\n",
    "    class1 = result_df[result_df['student_id'] == id1]['assigned_class']\n",
    "    class2 = result_df[result_df['student_id'] == id2]['assigned_class']\n",
    "    print(f\"{id1}: {class1.tolist()[0]}, {id2}: {class2.tolist()[0]}\")"
   ],
   "metadata": {
    "collapsed": false,
    "pycharm": {
     "name": "#%%\n"
    }
   }
  },
  {
   "cell_type": "markdown",
   "source": [
    "## Improve distribution of score"
   ],
   "metadata": {
    "collapsed": false
   }
  },
  {
   "cell_type": "code",
   "execution_count": 104,
   "outputs": [],
   "source": [
    "import matplotlib.pyplot as plt\n",
    "\n",
    "def plot_score_dist(df_filter):\n",
    "    fig = plt.figure(figsize=(12, 20))\n",
    "    for i, c in enumerate(C):\n",
    "        cls_df = df_filter(c)\n",
    "        ax = fig.add_subplot(4\n",
    "                             , 2\n",
    "                             , i+1\n",
    "                             , xlabel='score'\n",
    "                             , ylabel='num'\n",
    "                             , xlim=(0,500)\n",
    "                             , ylim=(0,20)\n",
    "                             , title=f\"Class:{c}\")\n",
    "        ax.hist(cls_df['score'], bins=range(0,500,40))"
   ],
   "metadata": {
    "collapsed": false,
    "pycharm": {
     "name": "#%%\n"
    }
   }
  },
  {
   "cell_type": "code",
   "execution_count": 105,
   "outputs": [
    {
     "data": {
      "text/plain": "<Figure size 864x1440 with 8 Axes>",
      "image/png": "[encoded data removed]"
     },
     "metadata": {
      "needs_background": "light"
     },
     "output_type": "display_data"
    }
   ],
   "source": [
    "plot_score_dist(lambda x: result_df[result_df['assigned_class'] == x])"
   ],
   "metadata": {
    "collapsed": false,
    "pycharm": {
     "name": "#%%\n"
    }
   }
  },
  {
   "cell_type": "markdown",
   "source": [
    "We want to make distribution of scores similar between classes."
   ],
   "metadata": {
    "collapsed": false,
    "pycharm": {
     "name": "#%% md\n"
    }
   }
  },
  {
   "cell_type": "code",
   "execution_count": null,
   "outputs": [],
   "source": [
    "students_df['score_rank'] = students_df['score'].rank(ascending=False, method='first')\n",
    "students_df['score_rank']"
   ],
   "metadata": {
    "collapsed": false,
    "pycharm": {
     "name": "#%%\n"
    }
   }
  },
  {
   "cell_type": "code",
   "execution_count": null,
   "outputs": [],
   "source": [
    "students_df['score_rank'].map(lambda x: int(x) % 8).map(lambda x: C[x])"
   ],
   "metadata": {
    "collapsed": false,
    "pycharm": {
     "name": "#%%\n"
    }
   }
  },
  {
   "cell_type": "code",
   "execution_count": null,
   "outputs": [],
   "source": [
    "students_df['initial_class'] = students_df['score_rank'].map(lambda x: int(x) % 8).map(lambda x: C[x])\n",
    "students_df['initial_class']"
   ],
   "metadata": {
    "collapsed": false,
    "pycharm": {
     "name": "#%%\n"
    }
   }
  },
  {
   "cell_type": "code",
   "execution_count": 106,
   "outputs": [
    {
     "data": {
      "text/plain": "<Figure size 864x1440 with 8 Axes>",
      "image/png": "[encoded data removed]"
     },
     "metadata": {
      "needs_background": "light"
     },
     "output_type": "display_data"
    }
   ],
   "source": [
    "plot_score_dist(lambda x: students_df[students_df['initial_class'] == x])"
   ],
   "metadata": {
    "collapsed": false,
    "pycharm": {
     "name": "#%%\n"
    }
   }
  },
  {
   "cell_type": "code",
   "execution_count": null,
   "outputs": [],
   "source": [
    "init_flag = {(s,c): 0 for s in S for c in C}\n",
    "pd.Series(init_flag)"
   ],
   "metadata": {
    "collapsed": false,
    "pycharm": {
     "name": "#%%\n"
    }
   }
  },
  {
   "cell_type": "code",
   "execution_count": null,
   "outputs": [],
   "source": [
    "for row in students_df.itertuples():\n",
    "    init_flag[row.student_id, row.initial_class] = 1"
   ],
   "metadata": {
    "collapsed": false,
    "pycharm": {
     "name": "#%%\n"
    }
   }
  },
  {
   "cell_type": "markdown",
   "source": [
    "Initialize LP problem again"
   ],
   "metadata": {
    "collapsed": false,
    "pycharm": {
     "name": "#%% md\n"
    }
   }
  },
  {
   "cell_type": "code",
   "execution_count": 96,
   "outputs": [],
   "source": [
    "import pulp\n",
    "problem2 = pulp.LpProblem(\"ClassAssignment\", pulp.LpMaximize)\n",
    "\n",
    "# Variables\n",
    "import string\n",
    "S = students_df['student_id'].tolist()\n",
    "C = list(string.ascii_uppercase[:8])\n",
    "sc = [(s,c) for s in S for c in C]\n",
    "X = pulp.LpVariable.dicts('X', sc, cat=pulp.LpBinary)\n",
    "\n",
    "### Requirement 1\n",
    "for s in S:\n",
    "    problem2 += pulp.lpSum([X[s,c] for c in C]) == 1\n",
    "\n",
    "### Requirement 2\n",
    "for c in C:\n",
    "    problem2 += pulp.lpSum([X[s,c] for s in S]) >= 39\n",
    "    problem2 += pulp.lpSum([X[s,c] for s in S]) <= 40\n",
    "\n",
    "### Requirement 3\n",
    "S_male = students_df[students_df['gender'] == 1]['student_id'].tolist()\n",
    "S_female = students_df[students_df['gender'] == 0]['student_id'].tolist()\n",
    "\n",
    "for c in C:\n",
    "    problem2 += pulp.lpSum(X[s,c] for s in S_male) <= 20\n",
    "    problem2 += pulp.lpSum(X[s,c] for s in S_female) <= 20\n",
    "\n",
    "### Requirement 4\n",
    "\n",
    "mean_score = students_df['score'].mean()\n",
    "score = { student.student_id: student.score for student in students_df.itertuples() }\n",
    "for c in C:\n",
    "    problem2 += (mean_score - 10) * pulp.lpSum(X[s,c] for s in S) <= pulp.lpSum(X[s,c] * score[s] for s in S)\n",
    "    problem2 += pulp.lpSum(X[s,c] * score[s] for s in S) <= (mean_score + 10) * pulp.lpSum(X[s,c] for s in S)\n",
    "\n",
    "### Requirement 5\n",
    "\n",
    "S_leader = students_df[students_df['leader_flag'] == 1]['student_id'].tolist()\n",
    "for c in C:\n",
    "    problem2 += pulp.lpSum(X[s,c] for s in S_leader) >= 2\n",
    "\n",
    "\n",
    "### Requirement 6\n",
    "S_support = students_df[students_df['support_flag'] == 1]['student_id'].tolist()\n",
    "for c in C:\n",
    "    problem2 += pulp.lpSum(X[s,c] for s in S_support) <= 1\n",
    "\n",
    "### Requirement 7\n",
    "pairs = [(p.student_id1, p.student_id2) for p in pairs_df.itertuples()]\n",
    "for c in C:\n",
    "    for id1, id2 in pairs:\n",
    "        problem2 += X[id1,c] + X[id2,c] <= 1\n"
   ],
   "metadata": {
    "collapsed": false,
    "pycharm": {
     "name": "#%%\n"
    }
   }
  },
  {
   "cell_type": "code",
   "execution_count": 97,
   "outputs": [],
   "source": [
    "# add objective formula: maximize cases of \"assigned class = initial class\"\n",
    "problem2 += pulp.lpSum(X[s,c] * init_flag[s,c] for s,c in sc)"
   ],
   "metadata": {
    "collapsed": false,
    "pycharm": {
     "name": "#%%\n"
    }
   }
  },
  {
   "cell_type": "code",
   "execution_count": 98,
   "outputs": [
    {
     "name": "stdout",
     "output_type": "stream",
     "text": [
      "Welcome to the CBC MILP Solver \n",
      "Version: 2.10.3 \n",
      "Build Date: Dec 15 2019 \n",
      "\n",
      "command line - /Users/ta.nakamura/src/github.com/na9amura/try-or-tools/venv/lib/python3.9/site-packages/pulp/apis/../solverdir/cbc/osx/64/cbc /var/folders/y3/x37rtt0s6fn4r9r7__s24rzc0000gp/T/ee79763337b14f37b7728bdbd581f4b9-pulp.mps max timeMode elapsed branch printingOptions all solution /var/folders/y3/x37rtt0s6fn4r9r7__s24rzc0000gp/T/ee79763337b14f37b7728bdbd581f4b9-pulp.sol (default strategy 1)\n",
      "At line 2 NAME          MODEL\n",
      "At line 3 ROWS\n",
      "At line 411 COLUMNS\n",
      "At line 21298 RHS\n",
      "At line 21705 BOUNDS\n",
      "At line 24250 ENDATA\n",
      "Problem MODEL has 406 rows, 2544 columns and 15480 elements\n",
      "Coin0008I MODEL read with 0 errors\n",
      "Option for timeMode changed from cpu to elapsed\n",
      "Continuous objective value is 298 - 0.01 seconds\n",
      "Cgl0005I 318 SOS with 2544 members\n",
      "Cgl0004I processed model has 398 rows, 2544 columns (2544 integer (2544 of which binary)) and 12936 elements\n",
      "Cutoff increment increased from 1e-05 to 0.9999\n",
      "Cbc0038I Initial state - 0 integers unsatisfied sum - 1.76525e-14\n",
      "Cbc0038I Solution found of -298\n",
      "Cbc0038I Before mini branch and bound, 2544 integers at bound fixed and 0 continuous\n",
      "Cbc0038I Mini branch and bound did not improve solution (0.06 seconds)\n",
      "Cbc0038I After 0.06 seconds - Feasibility pump exiting with objective of -298 - took 0.01 seconds\n",
      "Cbc0012I Integer solution of -298 found by feasibility pump after 0 iterations and 0 nodes (0.06 seconds)\n",
      "Cbc0001I Search completed - best objective -298, took 0 iterations and 0 nodes (0.06 seconds)\n",
      "Cbc0035I Maximum depth 0, 0 variables fixed on reduced cost\n",
      "Cuts at root node changed objective from -298 to -298\n",
      "Probing was tried 0 times and created 0 cuts of which 0 were active after adding rounds of cuts (0.000 seconds)\n",
      "Gomory was tried 0 times and created 0 cuts of which 0 were active after adding rounds of cuts (0.000 seconds)\n",
      "Knapsack was tried 0 times and created 0 cuts of which 0 were active after adding rounds of cuts (0.000 seconds)\n",
      "Clique was tried 0 times and created 0 cuts of which 0 were active after adding rounds of cuts (0.000 seconds)\n",
      "MixedIntegerRounding2 was tried 0 times and created 0 cuts of which 0 were active after adding rounds of cuts (0.000 seconds)\n",
      "FlowCover was tried 0 times and created 0 cuts of which 0 were active after adding rounds of cuts (0.000 seconds)\n",
      "TwoMirCuts was tried 0 times and created 0 cuts of which 0 were active after adding rounds of cuts (0.000 seconds)\n",
      "ZeroHalf was tried 0 times and created 0 cuts of which 0 were active after adding rounds of cuts (0.000 seconds)\n",
      "\n",
      "Result - Optimal solution found\n",
      "\n",
      "Objective value:                298.00000000\n",
      "Enumerated nodes:               0\n",
      "Total iterations:               0\n",
      "Time (CPU seconds):             0.05\n",
      "Time (Wallclock seconds):       0.07\n",
      "\n",
      "Option for printingOptions changed from normal to all\n",
      "Total time (CPU seconds):       0.06   (Wallclock seconds):       0.09\n",
      "\n",
      "Optimal\n"
     ]
    }
   ],
   "source": [
    "status = problem2.solve()\n",
    "print(pulp.LpStatus[status])"
   ],
   "metadata": {
    "collapsed": false,
    "pycharm": {
     "name": "#%%\n"
    }
   }
  },
  {
   "cell_type": "code",
   "execution_count": 109,
   "outputs": [
    {
     "data": {
      "text/plain": "     student_id  gender  leader_flag  support_flag  score  score_rank  \\\n0             1       0            0             0    335       109.0   \n1             2       1            0             0    379        38.0   \n2             3       0            0             0    350        79.0   \n3             4       0            0             0    301       172.0   \n4             5       1            0             0    317       147.0   \n..          ...     ...          ...           ...    ...         ...   \n313         314       0            0             0    244       263.0   \n314         315       1            0             0    309       162.0   \n315         316       0            0             0    239       272.0   \n316         317       1            0             0    356        63.0   \n317         318       0            0             0    256       248.0   \n\n    initial_class assigned_class  \n0               F              F  \n1               G              A  \n2               H              H  \n3               E              E  \n4               D              D  \n..            ...            ...  \n313             H              G  \n314             C              C  \n315             A              A  \n316             H              H  \n317             A              A  \n\n[318 rows x 8 columns]",
      "text/html": "<div>\n<style scoped>\n    .dataframe tbody tr th:only-of-type {\n        vertical-align: middle;\n    }\n\n    .dataframe tbody tr th {\n        vertical-align: top;\n    }\n\n    .dataframe thead th {\n        text-align: right;\n    }\n</style>\n<table border=\"1\" class=\"dataframe\">\n  <thead>\n    <tr style=\"text-align: right;\">\n      <th></th>\n      <th>student_id</th>\n      <th>gender</th>\n      <th>leader_flag</th>\n      <th>support_flag</th>\n      <th>score</th>\n      <th>score_rank</th>\n      <th>initial_class</th>\n      <th>assigned_class</th>\n    </tr>\n  </thead>\n  <tbody>\n    <tr>\n      <th>0</th>\n      <td>1</td>\n      <td>0</td>\n      <td>0</td>\n      <td>0</td>\n      <td>335</td>\n      <td>109.0</td>\n      <td>F</td>\n      <td>F</td>\n    </tr>\n    <tr>\n      <th>1</th>\n      <td>2</td>\n      <td>1</td>\n      <td>0</td>\n      <td>0</td>\n      <td>379</td>\n      <td>38.0</td>\n      <td>G</td>\n      <td>A</td>\n    </tr>\n    <tr>\n      <th>2</th>\n      <td>3</td>\n      <td>0</td>\n      <td>0</td>\n      <td>0</td>\n      <td>350</td>\n      <td>79.0</td>\n      <td>H</td>\n      <td>H</td>\n    </tr>\n    <tr>\n      <th>3</th>\n      <td>4</td>\n      <td>0</td>\n      <td>0</td>\n      <td>0</td>\n      <td>301</td>\n      <td>172.0</td>\n      <td>E</td>\n      <td>E</td>\n    </tr>\n    <tr>\n      <th>4</th>\n      <td>5</td>\n      <td>1</td>\n      <td>0</td>\n      <td>0</td>\n      <td>317</td>\n      <td>147.0</td>\n      <td>D</td>\n      <td>D</td>\n    </tr>\n    <tr>\n      <th>...</th>\n      <td>...</td>\n      <td>...</td>\n      <td>...</td>\n      <td>...</td>\n      <td>...</td>\n      <td>...</td>\n      <td>...</td>\n      <td>...</td>\n    </tr>\n    <tr>\n      <th>313</th>\n      <td>314</td>\n      <td>0</td>\n      <td>0</td>\n      <td>0</td>\n      <td>244</td>\n      <td>263.0</td>\n      <td>H</td>\n      <td>G</td>\n    </tr>\n    <tr>\n      <th>314</th>\n      <td>315</td>\n      <td>1</td>\n      <td>0</td>\n      <td>0</td>\n      <td>309</td>\n      <td>162.0</td>\n      <td>C</td>\n      <td>C</td>\n    </tr>\n    <tr>\n      <th>315</th>\n      <td>316</td>\n      <td>0</td>\n      <td>0</td>\n      <td>0</td>\n      <td>239</td>\n      <td>272.0</td>\n      <td>A</td>\n      <td>A</td>\n    </tr>\n    <tr>\n      <th>316</th>\n      <td>317</td>\n      <td>1</td>\n      <td>0</td>\n      <td>0</td>\n      <td>356</td>\n      <td>63.0</td>\n      <td>H</td>\n      <td>H</td>\n    </tr>\n    <tr>\n      <th>317</th>\n      <td>318</td>\n      <td>0</td>\n      <td>0</td>\n      <td>0</td>\n      <td>256</td>\n      <td>248.0</td>\n      <td>A</td>\n      <td>A</td>\n    </tr>\n  </tbody>\n</table>\n<p>318 rows × 8 columns</p>\n</div>"
     },
     "execution_count": 109,
     "metadata": {},
     "output_type": "execute_result"
    }
   ],
   "source": [
    "result_df2 = students_df.copy()\n",
    "result_df2['assigned_class'] = result_df2['student_id'].map({ s:c for s in S for c in C if X[s,c].value() == 1 })\n",
    "result_df2"
   ],
   "metadata": {
    "collapsed": false,
    "pycharm": {
     "name": "#%%\n"
    }
   }
  },
  {
   "cell_type": "code",
   "execution_count": 110,
   "outputs": [
    {
     "data": {
      "text/plain": "<Figure size 864x1440 with 8 Axes>",
      "image/png": "[encoded data removed]"
     },
     "metadata": {
      "needs_background": "light"
     },
     "output_type": "display_data"
    }
   ],
   "source": [
    "plot_score_dist(lambda x: result_df2[result_df2['assigned_class'] == x])\n"
   ],
   "metadata": {
    "collapsed": false,
    "pycharm": {
     "name": "#%%\n"
    }
   }
  }
 ],
 "metadata": {
  "kernelspec": {
   "display_name": "Python 3",
   "language": "python",
   "name": "python3"
  },
  "language_info": {
   "codemirror_mode": {
    "name": "ipython",
    "version": 2
   },
   "file_extension": ".py",
   "mimetype": "text/x-python",
   "name": "python",
   "nbconvert_exporter": "python",
   "pygments_lexer": "ipython2",
   "version": "2.7.6"
  }
 },
 "nbformat": 4,
 "nbformat_minor": 0
}