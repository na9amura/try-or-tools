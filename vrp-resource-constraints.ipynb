{
 "cells": [
  {
   "cell_type": "markdown",
   "source": [
    "# [Resource Constraints](https://developers.google.com/optimization/routing/cvrptw_resources)\n",
    "\n",
    "Time window + loading doc limitation\n",
    "\n",
    "> Since there are only two available loading docks, at most two\n",
    "> vehicles can be loaded or unloaded at the same time. As a result,\n",
    "> some vehicles must wait for others to be loaded, delaying their\n",
    "> departure from the depot."
   ],
   "metadata": {
    "collapsed": false,
    "pycharm": {
     "name": "#%% md\n"
    }
   }
  },
  {
   "cell_type": "code",
   "execution_count": null,
   "outputs": [],
   "source": [
    "def create_data_model():\n",
    "    \"\"\"Stores the data for the problem.\"\"\"\n",
    "    data = {}\n",
    "    data['time_matrix'] = [\n",
    "        [0, 6, 9, 8, 7, 3, 6, 2, 3, 2, 6, 6, 4, 4, 5, 9, 7],\n",
    "        [6, 0, 8, 3, 2, 6, 8, 4, 8, 8, 13, 7, 5, 8, 12, 10, 14],\n",
    "        [9, 8, 0, 11, 10, 6, 3, 9, 5, 8, 4, 15, 14, 13, 9, 18, 9],\n",
    "        [8, 3, 11, 0, 1, 7, 10, 6, 10, 10, 14, 6, 7, 9, 14, 6, 16],\n",
    "        [7, 2, 10, 1, 0, 6, 9, 4, 8, 9, 13, 4, 6, 8, 12, 8, 14],\n",
    "        [3, 6, 6, 7, 6, 0, 2, 3, 2, 2, 7, 9, 7, 7, 6, 12, 8],\n",
    "        [6, 8, 3, 10, 9, 2, 0, 6, 2, 5, 4, 12, 10, 10, 6, 15, 5],\n",
    "        [2, 4, 9, 6, 4, 3, 6, 0, 4, 4, 8, 5, 4, 3, 7, 8, 10],\n",
    "        [3, 8, 5, 10, 8, 2, 2, 4, 0, 3, 4, 9, 8, 7, 3, 13, 6],\n",
    "        [2, 8, 8, 10, 9, 2, 5, 4, 3, 0, 4, 6, 5, 4, 3, 9, 5],\n",
    "        [6, 13, 4, 14, 13, 7, 4, 8, 4, 4, 0, 10, 9, 8, 4, 13, 4],\n",
    "        [6, 7, 15, 6, 4, 9, 12, 5, 9, 6, 10, 0, 1, 3, 7, 3, 10],\n",
    "        [4, 5, 14, 7, 6, 7, 10, 4, 8, 5, 9, 1, 0, 2, 6, 4, 8],\n",
    "        [4, 8, 13, 9, 8, 7, 10, 3, 7, 4, 8, 3, 2, 0, 4, 5, 6],\n",
    "        [5, 12, 9, 14, 12, 6, 6, 7, 3, 3, 4, 7, 6, 4, 0, 9, 2],\n",
    "        [9, 10, 18, 6, 8, 12, 15, 8, 13, 9, 13, 3, 4, 5, 9, 0, 9],\n",
    "        [7, 14, 9, 16, 14, 8, 5, 10, 6, 5, 4, 10, 8, 6, 2, 9, 0],\n",
    "    ]\n",
    "    data['time_windows'] = [\n",
    "        (0, 5),  # depot\n",
    "        (7, 12),  # 1\n",
    "        (10, 15),  # 2\n",
    "        (16, 18),  # 3\n",
    "        (10, 13),  # 4\n",
    "        (0, 5),  # 5\n",
    "        (5, 10),  # 6\n",
    "        (0, 4),  # 7\n",
    "        (5, 10),  # 8\n",
    "        (0, 3),  # 9\n",
    "        (10, 16),  # 10\n",
    "        (10, 15),  # 11\n",
    "        (0, 5),  # 12\n",
    "        (5, 10),  # 13\n",
    "        (7, 8),  # 14\n",
    "        (10, 15),  # 15\n",
    "        (11, 15),  # 16\n",
    "    ]\n",
    "    data['num_vehicles'] = 4\n",
    "    data['vehicle_load_time'] = 5\n",
    "    data['vehicle_unload_time'] = 5\n",
    "    data['depot_capacity'] = 2\n",
    "    data['depot'] = 0\n",
    "    return data"
   ],
   "metadata": {
    "collapsed": false,
    "pycharm": {
     "name": "#%%\n"
    }
   }
  },
  {
   "cell_type": "code",
   "execution_count": 2,
   "outputs": [],
   "source": [
    "from ortools.constraint_solver import pywrapcp\n",
    "\n",
    "# Instantiate the data problem.\n",
    "data = create_data_model()\n",
    "\n",
    "# Create the routing index manager.\n",
    "manager = pywrapcp.RoutingIndexManager(\n",
    "    len(data['time_matrix']),\n",
    "    data['num_vehicles'],\n",
    "    data['depot'])\n",
    "\n",
    "# Create Routing Model.\n",
    "routing = pywrapcp.RoutingModel(manager)"
   ],
   "metadata": {
    "collapsed": false,
    "pycharm": {
     "name": "#%%\n"
    }
   }
  },
  {
   "cell_type": "code",
   "execution_count": 3,
   "outputs": [],
   "source": [
    "def time_callback(from_index, to_index):\n",
    "    \"\"\"Returns the travel time between the two nodes.\"\"\"\n",
    "    from_node = manager.IndexToNode(from_index)\n",
    "    to_node = manager.IndexToNode(to_index)\n",
    "    return data['time_matrix'][from_node][to_node]\n",
    "\n",
    "transit_callback_index = routing.RegisterTransitCallback(time_callback)\n",
    "routing.SetArcCostEvaluatorOfAllVehicles(transit_callback_index)"
   ],
   "metadata": {
    "collapsed": false,
    "pycharm": {
     "name": "#%%\n"
    }
   }
  },
  {
   "cell_type": "code",
   "execution_count": 4,
   "outputs": [],
   "source": [
    "time = 'Time'\n",
    "routing.AddDimension(\n",
    "    transit_callback_index,\n",
    "    30,  # allow waiting time\n",
    "    30,  # maximum time per vehicle\n",
    "    False,  # Don't force start cumul to zero.\n",
    "    time)\n",
    "time_dimension = routing.GetDimensionOrDie(time)\n",
    "\n",
    "# Add time window constraints for each location except depot.\n",
    "for location_idx, time_window in enumerate(data['time_windows']):\n",
    "    if location_idx == data['depot']:\n",
    "        continue\n",
    "    index = manager.NodeToIndex(location_idx)\n",
    "    time_dimension.CumulVar(index).SetRange(time_window[0], time_window[1])\n",
    "\n",
    "# Add time window constraints for each vehicle start node.\n",
    "depot_idx = data['depot']\n",
    "for vehicle_id in range(data['num_vehicles']):\n",
    "    index = routing.Start(vehicle_id)\n",
    "    time_dimension.CumulVar(index).SetRange(\n",
    "        data['time_windows'][depot_idx][0],\n",
    "        data['time_windows'][depot_idx][1])\n",
    "\n",
    "for i in range(data['num_vehicles']):\n",
    "    routing.AddVariableMinimizedByFinalizer(time_dimension.CumulVar(routing.Start(i)))\n",
    "    routing.AddVariableMinimizedByFinalizer(time_dimension.CumulVar(routing.End(i)))"
   ],
   "metadata": {
    "collapsed": false,
    "pycharm": {
     "name": "#%%\n"
    }
   }
  },
  {
   "cell_type": "markdown",
   "source": [
    "## Add time windows for loading and unloading\n"
   ],
   "metadata": {
    "collapsed": false,
    "pycharm": {
     "name": "#%% md\n"
    }
   }
  },
  {
   "cell_type": "code",
   "execution_count": 5,
   "outputs": [],
   "source": [
    "# Q: When should I use solver? How to decide which to use dimension or solver?\n",
    "solver = routing.solver()\n",
    "intervals = []\n",
    "for i in range(data['num_vehicles']):\n",
    "    # Add time windows at start of routes\n",
    "    intervals.append(\n",
    "        solver.FixedDurationIntervalVar(\n",
    "            time_dimension.CumulVar(routing.Start(i)),\n",
    "            data['vehicle_load_time'],\n",
    "            'depot_interval'))\n",
    "    # Add time windows at end of routes\n",
    "    intervals.append(\n",
    "        solver.FixedDurationIntervalVar(\n",
    "            time_dimension.CumulVar(routing.End(i)),\n",
    "            data['vehicle_unload_time'],\n",
    "            'depot_interval'))"
   ],
   "metadata": {
    "collapsed": false,
    "pycharm": {
     "name": "#%%\n"
    }
   }
  },
  {
   "cell_type": "code",
   "execution_count": 6,
   "outputs": [],
   "source": [
    "depot_usage = [1 for i in range(len(intervals))]\n",
    "solver.Add(\n",
    "    solver.Cumulative(\n",
    "        intervals,\n",
    "        depot_usage,\n",
    "        data['depot_capacity'],\n",
    "        'depot'))"
   ],
   "metadata": {
    "collapsed": false,
    "pycharm": {
     "name": "#%%\n"
    }
   }
  },
  {
   "cell_type": "code",
   "execution_count": 7,
   "outputs": [
    {
     "data": {
      "text/plain": "([depot_interval(start = 0 .. 5, duration = 5, performed = true),\n  depot_interval(start = 0 .. 30, duration = 5, performed = true),\n  depot_interval(start = 0 .. 5, duration = 5, performed = true),\n  depot_interval(start = 0 .. 30, duration = 5, performed = true),\n  depot_interval(start = 0 .. 5, duration = 5, performed = true),\n  depot_interval(start = 0 .. 30, duration = 5, performed = true),\n  depot_interval(start = 0 .. 5, duration = 5, performed = true),\n  depot_interval(start = 0 .. 30, duration = 5, performed = true)],\n [1, 1, 1, 1, 1, 1, 1, 1],\n 2)"
     },
     "execution_count": 7,
     "metadata": {},
     "output_type": "execute_result"
    }
   ],
   "source": [
    "(intervals, depot_usage, data['depot_capacity'])"
   ],
   "metadata": {
    "collapsed": false,
    "pycharm": {
     "name": "#%%\n"
    }
   }
  },
  {
   "cell_type": "markdown",
   "source": [
    "> depot_usage contains all ones. This means that the maximum number of vehicles that can be loaded at the same time is 2.\n",
    "\n",
    "If we have to consider area limit of depot\n",
    "- assume depot has 50 m^2 area\n",
    "- vehicles occupy 10 m^2 or 15 m^2\n",
    "\n",
    "Then arguments will be like this\n",
    "- data['depot_capacity'] = 50\n",
    "- depot_usage = [10, 10, 10, ... , 15, 15, 15]\n"
   ],
   "metadata": {
    "collapsed": false,
    "pycharm": {
     "name": "#%% md\n"
    }
   }
  },
  {
   "cell_type": "code",
   "execution_count": 8,
   "outputs": [],
   "source": [
    "from ortools.constraint_solver import routing_enums_pb2\n",
    "\n",
    "search_parameters = pywrapcp.DefaultRoutingSearchParameters()\n",
    "search_parameters.first_solution_strategy = (routing_enums_pb2.FirstSolutionStrategy.PATH_CHEAPEST_ARC)"
   ],
   "metadata": {
    "collapsed": false,
    "pycharm": {
     "name": "#%%\n"
    }
   }
  },
  {
   "cell_type": "code",
   "execution_count": 16,
   "outputs": [],
   "source": [
    "def print_solution(data, manager, routing, solution):\n",
    "    \"\"\"Prints solution on console.\"\"\"\n",
    "    print(f'Objective: {solution.ObjectiveValue()}')\n",
    "    time_dimension = routing.GetDimensionOrDie('Time')\n",
    "    total_time = 0\n",
    "    for vehicle_id in range(data['num_vehicles']):\n",
    "        index = routing.Start(vehicle_id)\n",
    "        plan_output = 'Route for vehicle {}:\\n'.format(vehicle_id)\n",
    "        while not routing.IsEnd(index):\n",
    "            time_var = time_dimension.CumulVar(index)\n",
    "            plan_output += '{0} Time({1}, {2}) -> '.format(\n",
    "                manager.IndexToNode(index),\n",
    "                solution.Min(time_var),\n",
    "                solution.Max(time_var))\n",
    "            index = solution.Value(routing.NextVar(index))\n",
    "        time_var = time_dimension.CumulVar(index)\n",
    "        plan_output += '{0} Time({1}, {2})\\n'.format(\n",
    "            manager.IndexToNode(index),\n",
    "            solution.Min(time_var),\n",
    "            solution.Max(time_var))\n",
    "        plan_output += 'Time of the route: {}min\\n'.format(solution.Min(time_var))\n",
    "        print(plan_output)\n",
    "        total_time += solution.Min(time_var)\n",
    "    print('Total time of all routes: {}min'.format(total_time))"
   ],
   "metadata": {
    "collapsed": false,
    "pycharm": {
     "name": "#%%\n"
    }
   }
  },
  {
   "cell_type": "code",
   "execution_count": 9,
   "outputs": [
    {
     "ename": "NameError",
     "evalue": "name 'print_solution' is not defined",
     "output_type": "error",
     "traceback": [
      "\u001B[0;31m---------------------------------------------------------------------------\u001B[0m",
      "\u001B[0;31mNameError\u001B[0m                                 Traceback (most recent call last)",
      "Input \u001B[0;32mIn [9]\u001B[0m, in \u001B[0;36m<cell line: 2>\u001B[0;34m()\u001B[0m\n\u001B[1;32m      1\u001B[0m solution \u001B[38;5;241m=\u001B[39m routing\u001B[38;5;241m.\u001B[39mSolveWithParameters(search_parameters)\n\u001B[0;32m----> 2\u001B[0m \u001B[43mprint_solution\u001B[49m(data, manager, routing, solution)\n",
      "\u001B[0;31mNameError\u001B[0m: name 'print_solution' is not defined"
     ]
    }
   ],
   "source": [
    "solution = routing.SolveWithParameters(search_parameters)\n",
    "print_solution(data, manager, routing, solution)"
   ],
   "metadata": {
    "collapsed": false,
    "pycharm": {
     "name": "#%%\n"
    }
   }
  }
 ],
 "metadata": {
  "kernelspec": {
   "display_name": "Python 3",
   "language": "python",
   "name": "python3"
  },
  "language_info": {
   "codemirror_mode": {
    "name": "ipython",
    "version": 2
   },
   "file_extension": ".py",
   "mimetype": "text/x-python",
   "name": "python",
   "nbconvert_exporter": "python",
   "pygments_lexer": "ipython2",
   "version": "2.7.6"
  }
 },
 "nbformat": 4,
 "nbformat_minor": 0
}