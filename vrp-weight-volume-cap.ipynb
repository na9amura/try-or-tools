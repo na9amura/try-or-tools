{
 "cells": [
  {
   "cell_type": "code",
   "execution_count": 1,
   "metadata": {
    "collapsed": true
   },
   "outputs": [],
   "source": [
    "from ortools.constraint_solver import pywrapcp, routing_enums_pb2"
   ]
  },
  {
   "cell_type": "code",
   "execution_count": 2,
   "outputs": [],
   "source": [
    "def create_data_model():\n",
    "    return {\n",
    "        'distance_matrix': [\n",
    "            [0, 548, 776, 696, 582, 274, 502, 194, 308, 194, 536, 502, 388, 354, 468, 776, 662],\n",
    "            [548, 0, 684, 308, 194, 502, 730, 354, 696, 742, 1084, 594, 480, 674, 1016, 868, 1210],\n",
    "            [776, 684, 0, 992, 878, 502, 274, 810, 468, 742, 400, 1278, 1164, 1130, 788, 1552, 754],\n",
    "            [696, 308, 992, 0, 114, 650, 878, 502, 844, 890, 1232, 514, 628, 822, 1164, 560, 1358],\n",
    "            [582, 194, 878, 114, 0, 536, 764, 388, 730, 776, 1118, 400, 514, 708, 1050, 674, 1244],\n",
    "            [274, 502, 502, 650, 536, 0, 228, 308, 194, 240, 582, 776, 662, 628, 514, 1050, 708],\n",
    "            [502, 730, 274, 878, 764, 228, 0, 536, 194, 468, 354, 1004, 890, 856, 514, 1278, 480],\n",
    "            [194, 354, 810, 502, 388, 308, 536, 0, 342, 388, 730, 468, 354, 320, 662, 742, 856],\n",
    "            [308, 696, 468, 844, 730, 194, 194, 342, 0, 274, 388, 810, 696, 662, 320, 1084, 514],\n",
    "            [194, 742, 742, 890, 776, 240, 468, 388, 274, 0, 342, 536, 422, 388, 274, 810, 468],\n",
    "            [536, 1084, 400, 1232, 1118, 582, 354, 730, 388, 342, 0, 878, 764, 730, 388, 1152, 354],\n",
    "            [502, 594, 1278, 514, 400, 776, 1004, 468, 810, 536, 878, 0, 114, 308, 650, 274, 844],\n",
    "            [388, 480, 1164, 628, 514, 662, 890, 354, 696, 422, 764, 114, 0, 194, 536, 388, 730],\n",
    "            [354, 674, 1130, 822, 708, 628, 856, 320, 662, 388, 730, 308, 194, 0, 342, 422, 536],\n",
    "            [468, 1016, 788, 1164, 1050, 514, 514, 662, 320, 274, 388, 650, 536, 342, 0, 764, 194],\n",
    "            [776, 868, 1552, 560, 674, 1050, 1278, 742, 1084, 810, 1152, 274, 388, 422, 764, 0, 798],\n",
    "            [662, 1210, 754, 1358, 1244, 708, 480, 856, 514, 468, 354, 844, 730, 536, 194, 798, 0],\n",
    "        ],\n",
    "        'num_vehicles': 4,\n",
    "        'depot': 0,\n",
    "        'weight': [0, 1, 1, 2, 4, 2, 4, 8, 8, 1, 2, 1, 2, 4, 4, 8, 8],\n",
    "        'vehicle_weight_capacities': [15, 15, 15, 15],\n",
    "        'volume': [0, 1, 1, 2, 1, 2, 4, 3, 3, 1, 2, 1, 2, 2, 2, 3, 2],\n",
    "        'vehicle_volume_capacities': [6, 8, 10, 12],\n",
    "    }"
   ],
   "metadata": {
    "collapsed": false,
    "pycharm": {
     "name": "#%%\n"
    }
   }
  },
  {
   "cell_type": "code",
   "execution_count": 3,
   "outputs": [],
   "source": [
    "data = create_data_model()\n",
    "manager = pywrapcp.RoutingIndexManager(\n",
    "    len(data['distance_matrix']),\n",
    "    data['num_vehicles'],\n",
    "    data['depot'])\n",
    "routing = pywrapcp.RoutingModel(manager)"
   ],
   "metadata": {
    "collapsed": false,
    "pycharm": {
     "name": "#%%\n"
    }
   }
  },
  {
   "cell_type": "code",
   "execution_count": 4,
   "outputs": [],
   "source": [
    "def distance_callback(from_index, to_index):\n",
    "    \"\"\"Returns the distance between the two nodes.\"\"\"\n",
    "    from_node = manager.IndexToNode(from_index)\n",
    "    to_node = manager.IndexToNode(to_index)\n",
    "    return data['distance_matrix'][from_node][to_node]\n",
    "\n",
    "transit_callback_index = routing.RegisterTransitCallback(distance_callback)\n",
    "routing.SetArcCostEvaluatorOfAllVehicles(transit_callback_index)"
   ],
   "metadata": {
    "collapsed": false,
    "pycharm": {
     "name": "#%%\n"
    }
   }
  },
  {
   "cell_type": "code",
   "execution_count": 5,
   "outputs": [
    {
     "data": {
      "text/plain": "True"
     },
     "execution_count": 5,
     "metadata": {},
     "output_type": "execute_result"
    }
   ],
   "source": [
    "def weight_callback(from_index):\n",
    "    from_node = manager.IndexToNode(from_index)\n",
    "    return data['weight'][from_node]\n",
    "\n",
    "weight_callback_index = routing.RegisterUnaryTransitCallback(weight_callback)\n",
    "routing.AddDimensionWithVehicleCapacity(\n",
    "    weight_callback_index,\n",
    "    0,  # null capacity slack\n",
    "    data['vehicle_weight_capacities'],  # vehicle maximum capacities\n",
    "    True,  # start cumul to zero\n",
    "    'Weight')"
   ],
   "metadata": {
    "collapsed": false,
    "pycharm": {
     "name": "#%%\n"
    }
   }
  },
  {
   "cell_type": "code",
   "execution_count": 6,
   "outputs": [
    {
     "data": {
      "text/plain": "True"
     },
     "execution_count": 6,
     "metadata": {},
     "output_type": "execute_result"
    }
   ],
   "source": [
    "def volume_callback(from_index):\n",
    "    from_node = manager.IndexToNode(from_index)\n",
    "    return data['volume'][from_node]\n",
    "\n",
    "volume_callback_index = routing.RegisterUnaryTransitCallback(volume_callback)\n",
    "routing.AddDimensionWithVehicleCapacity(\n",
    "    volume_callback_index,\n",
    "    0,  # null capacity slack\n",
    "    data['vehicle_volume_capacities'],  # vehicle maximum capacities\n",
    "    True,  # start cumul to zero\n",
    "    'Volume')"
   ],
   "metadata": {
    "collapsed": false,
    "pycharm": {
     "name": "#%%\n"
    }
   }
  },
  {
   "cell_type": "code",
   "execution_count": 7,
   "outputs": [],
   "source": [
    "def print_solution(data, manager, routing, solution):\n",
    "    \"\"\"Prints solution on console\"\"\"\n",
    "    print(f'Objective: {solution.ObjectiveValue()}')\n",
    "    total_distance = 0\n",
    "    total_load = 0\n",
    "    total_volume = 0\n",
    "    for vehicle_id in range(data['num_vehicles']):\n",
    "        index = routing.Start(vehicle_id)\n",
    "        plan_output = 'Route for vehicle {}:\\n'.format(vehicle_id)\n",
    "        route_distance = 0\n",
    "        route_load = 0\n",
    "        route_volume = 0\n",
    "        while not routing.IsEnd(index):\n",
    "            node_index = manager.IndexToNode(index)\n",
    "            route_load += data['weight'][node_index]\n",
    "            route_volume += data['volume'][node_index]\n",
    "            plan_output += ' {0} Load({1}kg {2}m^3) -> '.format(node_index, route_load, route_volume)\n",
    "            previous_index = index\n",
    "            index = solution.Value(routing.NextVar(index))\n",
    "            route_distance += routing.GetArcCostForVehicle(\n",
    "                previous_index,\n",
    "                index,\n",
    "                vehicle_id)\n",
    "        plan_output += ' {0} Load({1}kg {2}m^3)\\n'.format(manager.IndexToNode(index), route_load, route_volume)\n",
    "        plan_output += 'Distance of the route: {}m\\n'.format(route_distance)\n",
    "        plan_output += 'Load of the route: {}\\n'.format(route_load)\n",
    "        plan_output += 'Volume of the route: {}\\n'.format(route_volume)\n",
    "        print(plan_output)\n",
    "        total_distance += route_distance\n",
    "        total_load += route_load\n",
    "        total_volume += route_volume\n",
    "    print('Total distance of all routes: {}m'.format(total_distance))\n",
    "    print('Total load of all routes: {}m'.format(total_load))\n",
    "    print('Total volume of all routes: {}m'.format(total_volume))"
   ],
   "metadata": {
    "collapsed": false,
    "pycharm": {
     "name": "#%%\n"
    }
   }
  },
  {
   "cell_type": "code",
   "execution_count": 8,
   "outputs": [
    {
     "name": "stdout",
     "output_type": "stream",
     "text": [
      "Objective: 8468\n",
      "Route for vehicle 0:\n",
      " 0 Load(0kg 0m^3) ->  1 Load(1kg 1m^3) ->  4 Load(5kg 2m^3) ->  3 Load(7kg 4m^3) ->  16 Load(15kg 6m^3) ->  0 Load(15kg 6m^3)\n",
      "Distance of the route: 2876m\n",
      "Load of the route: 15\n",
      "Volume of the route: 6\n",
      "\n",
      "Route for vehicle 1:\n",
      " 0 Load(0kg 0m^3) ->  2 Load(1kg 1m^3) ->  10 Load(3kg 3m^3) ->  14 Load(7kg 5m^3) ->  15 Load(15kg 8m^3) ->  0 Load(15kg 8m^3)\n",
      "Distance of the route: 3104m\n",
      "Load of the route: 15\n",
      "Volume of the route: 8\n",
      "\n",
      "Route for vehicle 2:\n",
      " 0 Load(0kg 0m^3) ->  7 Load(8kg 3m^3) ->  13 Load(12kg 5m^3) ->  12 Load(14kg 7m^3) ->  11 Load(15kg 8m^3) ->  0 Load(15kg 8m^3)\n",
      "Distance of the route: 1324m\n",
      "Load of the route: 15\n",
      "Volume of the route: 8\n",
      "\n",
      "Route for vehicle 3:\n",
      " 0 Load(0kg 0m^3) ->  9 Load(1kg 1m^3) ->  8 Load(9kg 4m^3) ->  6 Load(13kg 8m^3) ->  5 Load(15kg 10m^3) ->  0 Load(15kg 10m^3)\n",
      "Distance of the route: 1164m\n",
      "Load of the route: 15\n",
      "Volume of the route: 10\n",
      "\n",
      "Total distance of all routes: 8468m\n",
      "Total load of all routes: 60m\n",
      "Total volume of all routes: 32m\n"
     ]
    }
   ],
   "source": [
    "search_parameters = pywrapcp.DefaultRoutingSearchParameters()\n",
    "search_parameters.first_solution_strategy = (routing_enums_pb2.FirstSolutionStrategy.PATH_CHEAPEST_ARC)\n",
    "solution = routing.SolveWithParameters(search_parameters)\n",
    "if solution:\n",
    "    print_solution(data, manager, routing, solution)"
   ],
   "metadata": {
    "collapsed": false,
    "pycharm": {
     "name": "#%%\n"
    }
   }
  },
  {
   "cell_type": "code",
   "execution_count": 8,
   "outputs": [],
   "source": [],
   "metadata": {
    "collapsed": false,
    "pycharm": {
     "name": "#%%\n"
    }
   }
  }
 ],
 "metadata": {
  "kernelspec": {
   "display_name": "Python 3",
   "language": "python",
   "name": "python3"
  },
  "language_info": {
   "codemirror_mode": {
    "name": "ipython",
    "version": 2
   },
   "file_extension": ".py",
   "mimetype": "text/x-python",
   "name": "python",
   "nbconvert_exporter": "python",
   "pygments_lexer": "ipython2",
   "version": "2.7.6"
  }
 },
 "nbformat": 4,
 "nbformat_minor": 0
}